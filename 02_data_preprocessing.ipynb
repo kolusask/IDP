{
 "cells": [
  {
   "cell_type": "code",
   "execution_count": null,
   "metadata": {},
   "outputs": [],
   "source": [
    "import torch\n",
    "\n",
    "from config import *\n",
    "from plot.util import plot_trend_and_fft\n",
    "\n",
    "%reload_ext autoreload\n",
    "%autoreload 2"
   ]
  },
  {
   "attachments": {},
   "cell_type": "markdown",
   "metadata": {},
   "source": [
    "Load matrix $Q$"
   ]
  },
  {
   "cell_type": "code",
   "execution_count": null,
   "metadata": {},
   "outputs": [],
   "source": [
    "mat_q = CONFIG.load('mat_q.pt')\n",
    "mat_q.shape"
   ]
  },
  {
   "cell_type": "code",
   "execution_count": null,
   "metadata": {},
   "outputs": [],
   "source": [
    "mat_q_fft = torch.fft.fft(mat_q, dim=0)\n",
    "mat_q_fft_mag = torch.abs(mat_q_fft)\n",
    "print(mat_q_fft.shape)\n",
    "\n",
    "plot_trend_and_fft(mat_q, mat_q_fft_mag)"
   ]
  },
  {
   "cell_type": "code",
   "execution_count": null,
   "metadata": {},
   "outputs": [],
   "source": [
    "mat_q_trend_fft = mat_q_fft.clone()\n",
    "mat_q_trend_fft[mat_q_fft_mag < CONFIG.spectral_threshold] = 0.0\n",
    "mat_q_trend_fft_mag = torch.abs(mat_q_trend_fft)\n",
    "\n",
    "mat_q_trend = torch.fft.ifft(mat_q_trend_fft, dim=0)\n",
    "CONFIG.save(mat_q_trend, 'mat_q_trend.pt')\n",
    "\n",
    "plot_trend_and_fft(torch.real(mat_q_trend), mat_q_trend_fft_mag)"
   ]
  },
  {
   "cell_type": "code",
   "execution_count": null,
   "metadata": {},
   "outputs": [],
   "source": [
    "mat_q_resid = mat_q - mat_q_trend\n",
    "CONFIG.save(mat_q_resid, 'mat_q_resid.pt')\n",
    "\n",
    "mat_q_resid_fft_mag = torch.abs(torch.fft.fft(mat_q_resid, dim=1))\n",
    "\n",
    "plot_trend_and_fft(torch.real(mat_q_resid), mat_q_resid_fft_mag)"
   ]
  }
 ],
 "metadata": {
  "kernelspec": {
   "display_name": ".idp",
   "language": "python",
   "name": "python3"
  },
  "language_info": {
   "codemirror_mode": {
    "name": "ipython",
    "version": 3
   },
   "file_extension": ".py",
   "mimetype": "text/x-python",
   "name": "python",
   "nbconvert_exporter": "python",
   "pygments_lexer": "ipython3",
   "version": "3.10.9"
  },
  "orig_nbformat": 4,
  "vscode": {
   "interpreter": {
    "hash": "912fb52f238e5d0393cd3cb39c1046be4cbf42cc336ebf4385af401bc969f2f7"
   }
  }
 },
 "nbformat": 4,
 "nbformat_minor": 2
}
