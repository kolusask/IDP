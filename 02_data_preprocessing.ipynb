{
 "cells": [
  {
   "cell_type": "code",
   "execution_count": null,
   "metadata": {},
   "outputs": [],
   "source": [
    "import torch\n",
    "\n",
    "import matplotlib.pyplot as plt\n",
    "import matplotlib.gridspec as gs\n",
    "\n",
    "from datetime import timedelta\n",
    "\n",
    "from config import *\n",
    "from data.util import crop_q_between, count_points_in_period\n",
    "from plot.util import plot_trend_and_fft\n",
    "\n",
    "%reload_ext autoreload\n",
    "%autoreload 2"
   ]
  },
  {
   "cell_type": "code",
   "execution_count": null,
   "metadata": {},
   "outputs": [],
   "source": [
    "SECTION = 160"
   ]
  },
  {
   "attachments": {},
   "cell_type": "markdown",
   "metadata": {},
   "source": [
    "Load matrix $Q$"
   ]
  },
  {
   "cell_type": "code",
   "execution_count": null,
   "metadata": {},
   "outputs": [],
   "source": [
    "mat_q = CONFIG.load('mat_q_nonzero.pt')\n",
    "# mat_q = mat_q[:300]\n",
    "mat_q.shape"
   ]
  },
  {
   "cell_type": "code",
   "execution_count": null,
   "metadata": {},
   "outputs": [],
   "source": [
    "mat_q_fft = torch.fft.fft(mat_q, dim=0)\n",
    "mat_q_fft_mag = torch.abs(mat_q_fft)\n",
    "print(mat_q_fft.shape)\n",
    "\n",
    "plot_trend_and_fft(mat_q, mat_q_fft_mag, n_plots=2, start_sec=SECTION)"
   ]
  },
  {
   "cell_type": "code",
   "execution_count": null,
   "metadata": {},
   "outputs": [],
   "source": [
    "mat_q_trend_fft = mat_q_fft.clone()\n",
    "mat_q_trend_fft[mat_q_fft_mag < 40] = 0.0\n",
    "mat_q_trend_fft_mag = torch.abs(mat_q_trend_fft)\n",
    "\n",
    "mat_q_trend = torch.fft.ifft(mat_q_trend_fft, dim=0)\n",
    "CONFIG.save(mat_q_trend, 'mat_q_trend.pt')\n",
    "\n",
    "plot_trend_and_fft(torch.real(mat_q_trend), mat_q_trend_fft_mag, n_plots=2, start_sec=SECTION)"
   ]
  },
  {
   "cell_type": "code",
   "execution_count": null,
   "metadata": {},
   "outputs": [],
   "source": [
    "mat_q_resid = mat_q - mat_q_trend\n",
    "CONFIG.save(mat_q_resid, 'mat_q_resid.pt')\n",
    "\n",
    "mat_q_resid_fft_mag = torch.abs(torch.fft.fft(mat_q_resid, dim=1))\n",
    "\n",
    "plot_trend_and_fft(torch.real(mat_q_resid), mat_q_resid_fft_mag, n_plots=2, start_sec=SECTION)"
   ]
  },
  {
   "cell_type": "code",
   "execution_count": null,
   "metadata": {},
   "outputs": [],
   "source": [
    "plot_period = CONFIG.test_period#(CONFIG.train_period[0], CONFIG.train_period[0] + timedelta(days=7))\n",
    "xaxis = torch.arange(count_points_in_period(plot_period))\n",
    "\n",
    "fig = plt.figure(constrained_layout=True, figsize=(8, 8))\n",
    "gridspec = gs.GridSpec(nrows=3, ncols=1, figure=fig)\n",
    "\n",
    "def plot(data, axis):\n",
    "    axis.plot(data[:, SECTION].cpu())\n",
    "\n",
    "def plot_data(data, row, axis):\n",
    "    data = crop_q_between(data, CONFIG.read_period, plot_period)\n",
    "    plot(data, axis)\n",
    "    axis.set_title('Data')\n",
    "    axis.set_xlabel('Sample')\n",
    "    axis.set_ylabel('Value')\n",
    "\n",
    "def plot_fft(data, row, axis, plot_P):\n",
    "    plot(data, axis)\n",
    "    axis.set_title('FFT')\n",
    "    axis.set_xlabel('Frequency')\n",
    "    axis.set_ylabel('Magnitude')\n",
    "    if plot_P:\n",
    "        axis.axhline(y=40, linestyle='--', color='r')\n",
    "\n",
    "def plot_row(data, fft, row, title, plot_P=False):\n",
    "    subfig = fig.add_subfigure(gridspec[row])\n",
    "    subfig.suptitle(title)\n",
    "    axes = subfig.subplots(ncols=2)\n",
    "    plot_data(data, row, axes[0])\n",
    "    plot_fft(fft, row, axes[1], plot_P=plot_P)\n",
    "\n",
    "\n",
    "plot_row(mat_q, mat_q_fft_mag, 0, 'Original series', plot_P=True)\n",
    "plot_row(mat_q_trend.real, mat_q_trend_fft_mag, 1, 'Trend component')\n",
    "plot_row(mat_q_resid.real, mat_q_resid_fft_mag, 2, 'Residual component')\n",
    "\n",
    "gridspec.tight_layout(fig)\n",
    "# fig.tight_layout()\n",
    "# fig.show()\n"
   ]
  },
  {
   "cell_type": "code",
   "execution_count": null,
   "metadata": {},
   "outputs": [],
   "source": [
    "for subfig in subfigs:\n",
    "    print(type(subfig))"
   ]
  }
 ],
 "metadata": {
  "kernelspec": {
   "display_name": ".idp",
   "language": "python",
   "name": "python3"
  },
  "language_info": {
   "codemirror_mode": {
    "name": "ipython",
    "version": 3
   },
   "file_extension": ".py",
   "mimetype": "text/x-python",
   "name": "python",
   "nbconvert_exporter": "python",
   "pygments_lexer": "ipython3",
   "version": "3.11.5"
  },
  "orig_nbformat": 4,
  "vscode": {
   "interpreter": {
    "hash": "912fb52f238e5d0393cd3cb39c1046be4cbf42cc336ebf4385af401bc969f2f7"
   }
  }
 },
 "nbformat": 4,
 "nbformat_minor": 2
}
