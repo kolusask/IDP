{
 "cells": [
  {
   "cell_type": "code",
   "execution_count": 1,
   "metadata": {},
   "outputs": [],
   "source": [
    "import matplotlib.pyplot as plt\n",
    "import numpy as np\n",
    "import pandas as pd\n",
    "import sys\n",
    "import torch\n",
    "\n",
    "from csv import QUOTE_NONE\n",
    "from datetime import datetime\n",
    "from pprint import pprint\n",
    "\n",
    "\n",
    "if 'src' not in sys.path:\n",
    "    sys.path.append('src')\n",
    "\n",
    "%reload_ext autoreload\n",
    "%autoreload 2\n",
    "\n",
    "from explore.data import DetectorDataProvider, LookUpTable\n",
    "from explore.graph import IntersectionGraph"
   ]
  },
  {
   "cell_type": "code",
   "execution_count": 2,
   "metadata": {},
   "outputs": [],
   "source": [
    "device = torch.device('cuda') if torch.cuda.is_available() else torch.device('cpu')"
   ]
  },
  {
   "attachments": {},
   "cell_type": "markdown",
   "metadata": {},
   "source": [
    "##### Data selection"
   ]
  },
  {
   "attachments": {},
   "cell_type": "markdown",
   "metadata": {},
   "source": [
    "Select main sections"
   ]
  },
  {
   "cell_type": "code",
   "execution_count": 3,
   "metadata": {},
   "outputs": [],
   "source": [
    "# sections = (\n",
    "#     ('3030', '3040'),\n",
    "#     # ('3040', '3050'),\n",
    "#     # ('3030', '3050'),\n",
    "#     ('3022', '3040'),\n",
    "#     # ('3040', '0037'),\n",
    "#     # ('3050', '3110'),\n",
    "#     # ('3050', '3060'),\n",
    "#     ('3030', '2050'),\n",
    "# )"
   ]
  },
  {
   "attachments": {},
   "cell_type": "markdown",
   "metadata": {},
   "source": [
    "Override to select all sections (except ones with missing/broken data)"
   ]
  },
  {
   "cell_type": "code",
   "execution_count": 4,
   "metadata": {},
   "outputs": [
    {
     "name": "stderr",
     "output_type": "stream",
     "text": [
      "c:\\Users\\19ak9\\TUM\\IDP\\src\\explore\\data.py:76: UserWarning: Boolean Series key will be reindexed to match DataFrame index.\n",
      "  self.lookup_table = self.lookup_table[\n"
     ]
    },
    {
     "name": "stdout",
     "output_type": "stream",
     "text": [
      "[('4040', '4050'),\n",
      " ('3200', 'Am Augraben'),\n",
      " ('5020', '5030'),\n",
      " ('2010', '3021'),\n",
      " ('4150', 'Schlüterstrasse'),\n",
      " ('5060', 'Probierlweg'),\n",
      " ('3030', 'Löns Straße'),\n",
      " ('8005', '8006'),\n",
      " ('3091', 'Lena Christ strasse'),\n",
      " ('4100', '4110')]\n"
     ]
    }
   ],
   "source": [
    "lut = LookUpTable('Data')\n",
    "sections = set()\n",
    "for inter in lut.list_intersections():\n",
    "    detectors = lut.get_detectors_on(inter)\n",
    "    for sec in detectors[['Starting Intersection', 'Ending Intersection']].values:\n",
    "        sections.add(tuple(sorted(sec)))\n",
    "pprint(list(sections)[:10])"
   ]
  },
  {
   "attachments": {},
   "cell_type": "markdown",
   "metadata": {},
   "source": [
    "Exctract list of detectors for each section"
   ]
  },
  {
   "cell_type": "code",
   "execution_count": 26,
   "metadata": {},
   "outputs": [
    {
     "name": "stderr",
     "output_type": "stream",
     "text": [
      "c:\\Users\\19ak9\\TUM\\IDP\\src\\explore\\data.py:76: UserWarning: Boolean Series key will be reindexed to match DataFrame index.\n",
      "  self.lookup_table = self.lookup_table[\n"
     ]
    },
    {
     "data": {
      "text/html": [
       "<div>\n",
       "<style scoped>\n",
       "    .dataframe tbody tr th:only-of-type {\n",
       "        vertical-align: middle;\n",
       "    }\n",
       "\n",
       "    .dataframe tbody tr th {\n",
       "        vertical-align: top;\n",
       "    }\n",
       "\n",
       "    .dataframe thead th {\n",
       "        text-align: right;\n",
       "    }\n",
       "</style>\n",
       "<table border=\"1\" class=\"dataframe\">\n",
       "  <thead>\n",
       "    <tr style=\"text-align: right;\">\n",
       "      <th></th>\n",
       "      <th>Start</th>\n",
       "      <th>End</th>\n",
       "      <th>Detectors</th>\n",
       "    </tr>\n",
       "  </thead>\n",
       "  <tbody>\n",
       "    <tr>\n",
       "      <th>0</th>\n",
       "      <td>4040</td>\n",
       "      <td>4050</td>\n",
       "      <td>[1(DA1), 2(DA2)]</td>\n",
       "    </tr>\n",
       "    <tr>\n",
       "      <th>1</th>\n",
       "      <td>4050</td>\n",
       "      <td>4040</td>\n",
       "      <td>[6(DC1), 7(DC2), 8(DC3)]</td>\n",
       "    </tr>\n",
       "    <tr>\n",
       "      <th>2</th>\n",
       "      <td>3200</td>\n",
       "      <td>Am Augraben</td>\n",
       "      <td>[]</td>\n",
       "    </tr>\n",
       "    <tr>\n",
       "      <th>3</th>\n",
       "      <td>Am Augraben</td>\n",
       "      <td>3200</td>\n",
       "      <td>[2(DB1), 3(DB2), 4(DB3)]</td>\n",
       "    </tr>\n",
       "    <tr>\n",
       "      <th>4</th>\n",
       "      <td>5020</td>\n",
       "      <td>5030</td>\n",
       "      <td>[9(DF1), 10(DF2)]</td>\n",
       "    </tr>\n",
       "    <tr>\n",
       "      <th>...</th>\n",
       "      <td>...</td>\n",
       "      <td>...</td>\n",
       "      <td>...</td>\n",
       "    </tr>\n",
       "    <tr>\n",
       "      <th>463</th>\n",
       "      <td>Ettinger Strasse</td>\n",
       "      <td>8606</td>\n",
       "      <td>[8(DC1), 9(DC2)]</td>\n",
       "    </tr>\n",
       "    <tr>\n",
       "      <th>464</th>\n",
       "      <td>23</td>\n",
       "      <td>4100</td>\n",
       "      <td>[8(DD1), 9(DD2)]</td>\n",
       "    </tr>\n",
       "    <tr>\n",
       "      <th>465</th>\n",
       "      <td>4100</td>\n",
       "      <td>23</td>\n",
       "      <td>[]</td>\n",
       "    </tr>\n",
       "    <tr>\n",
       "      <th>466</th>\n",
       "      <td>4050</td>\n",
       "      <td>4060</td>\n",
       "      <td>[1(DA1), 2(DA2), 3(DA3)]</td>\n",
       "    </tr>\n",
       "    <tr>\n",
       "      <th>467</th>\n",
       "      <td>4060</td>\n",
       "      <td>4050</td>\n",
       "      <td>[3(DC1), 4(DC2), 5(DCL1)]</td>\n",
       "    </tr>\n",
       "  </tbody>\n",
       "</table>\n",
       "<p>468 rows × 3 columns</p>\n",
       "</div>"
      ],
      "text/plain": [
       "                Start          End                  Detectors\n",
       "0                4040         4050           [1(DA1), 2(DA2)]\n",
       "1                4050         4040   [6(DC1), 7(DC2), 8(DC3)]\n",
       "2                3200  Am Augraben                         []\n",
       "3         Am Augraben         3200   [2(DB1), 3(DB2), 4(DB3)]\n",
       "4                5020         5030          [9(DF1), 10(DF2)]\n",
       "..                ...          ...                        ...\n",
       "463  Ettinger Strasse         8606           [8(DC1), 9(DC2)]\n",
       "464                23         4100           [8(DD1), 9(DD2)]\n",
       "465              4100           23                         []\n",
       "466              4050         4060   [1(DA1), 2(DA2), 3(DA3)]\n",
       "467              4060         4050  [3(DC1), 4(DC2), 5(DCL1)]\n",
       "\n",
       "[468 rows x 3 columns]"
      ]
     },
     "execution_count": 26,
     "metadata": {},
     "output_type": "execute_result"
    }
   ],
   "source": [
    "lut = LookUpTable('Data')\n",
    "def construct_int_det(sections):\n",
    "    int_det = []\n",
    "    for int_1, int_2 in sections:\n",
    "        det_1_2, det_2_1 = lut.get_detectors_between(int_1, int_2)\n",
    "        int_det.append((int_1, int_2, det_1_2))\n",
    "        int_det.append((int_2, int_1, det_2_1))\n",
    "    int_det = pd.DataFrame(int_det, columns=['Start', 'End', 'Detectors'])\n",
    "    \n",
    "    return int_det\n",
    "    \n",
    "int_det = construct_int_det(sections)\n",
    "int_det"
   ]
  },
  {
   "cell_type": "code",
   "execution_count": 27,
   "metadata": {},
   "outputs": [
    {
     "name": "stdout",
     "output_type": "stream",
     "text": [
      "['0007', '0012', '0013', '0014', '0017', '0019', '0022', '0023', '0024', '0025', '0026', '0031', '0033', '0036', '0037', '0042', '0043', '0048', '0049', '0051', '0052', '0053', '0054', '1010', '1011', '1012', '1022', '1040', '1061', '1080', '2010', '2050', '3010', '3021', '3022', '3030', '3040', '3050', '3060', '3080', '3090', '3091', '3100', '3110', '3120', '3130', '3140', '3150', '3160', '3180', '3200', '4010', '4020', '4040', '4050', '4060', '4070', '4090', '4100', '4110', '4120', '4140', '4150', '4160', '4210', '4230', '4240', '4250', '5011', '5012', '5020', '5030', '5031', '5040', '5050', '5051', '5060', '5080', '5090', '6010', '6020', '6021', '6022', '6023', '6030', '6041', '6042', '6043', '6050', '6060', '6070', '6080', '6090', '6100', '7020', '7040', '8001', '8002', '8003', '8004', '8005', '8006', '8008', '8301', '8401', '8402', '8403', '8502', '8505', '8602', '8603', '8604', '8605', '8606', '9503']\n"
     ]
    }
   ],
   "source": [
    "ddp = DetectorDataProvider('Data')\n",
    "print(ddp.list_intersections())"
   ]
  },
  {
   "attachments": {},
   "cell_type": "markdown",
   "metadata": {},
   "source": [
    "Extract data from January to August and accumulate counts by section"
   ]
  },
  {
   "cell_type": "code",
   "execution_count": 28,
   "metadata": {},
   "outputs": [
    {
     "data": {
      "text/html": [
       "<div>\n",
       "<style scoped>\n",
       "    .dataframe tbody tr th:only-of-type {\n",
       "        vertical-align: middle;\n",
       "    }\n",
       "\n",
       "    .dataframe tbody tr th {\n",
       "        vertical-align: top;\n",
       "    }\n",
       "\n",
       "    .dataframe thead th {\n",
       "        text-align: right;\n",
       "    }\n",
       "</style>\n",
       "<table border=\"1\" class=\"dataframe\">\n",
       "  <thead>\n",
       "    <tr style=\"text-align: right;\">\n",
       "      <th></th>\n",
       "      <th>Start</th>\n",
       "      <th>End</th>\n",
       "      <th>Detectors</th>\n",
       "      <th>Counts</th>\n",
       "    </tr>\n",
       "  </thead>\n",
       "  <tbody>\n",
       "    <tr>\n",
       "      <th>0</th>\n",
       "      <td>4040</td>\n",
       "      <td>4050</td>\n",
       "      <td>[1(DA1), 2(DA2)]</td>\n",
       "      <td>[1.0, 6.0, 9.0, 15.0, 19.0, 26.0, 27.0, 29.0, ...</td>\n",
       "    </tr>\n",
       "    <tr>\n",
       "      <th>1</th>\n",
       "      <td>4050</td>\n",
       "      <td>4040</td>\n",
       "      <td>[6(DC1), 7(DC2), 8(DC3)]</td>\n",
       "      <td>[3.0, 8.0, 12.0, 23.0, 25.0, 30.0, 37.0, 40.0,...</td>\n",
       "    </tr>\n",
       "    <tr>\n",
       "      <th>2</th>\n",
       "      <td>3200</td>\n",
       "      <td>Am Augraben</td>\n",
       "      <td>[]</td>\n",
       "      <td>[0.0, 0.0, 0.0, 0.0, 0.0, 0.0, 0.0, 0.0, 0.0, ...</td>\n",
       "    </tr>\n",
       "    <tr>\n",
       "      <th>3</th>\n",
       "      <td>Am Augraben</td>\n",
       "      <td>3200</td>\n",
       "      <td>[2(DB1), 3(DB2), 4(DB3)]</td>\n",
       "      <td>[0.0, 2.0, 7.0, 7.0, 7.0, 7.0, 7.0, 9.0, 9.0, ...</td>\n",
       "    </tr>\n",
       "    <tr>\n",
       "      <th>4</th>\n",
       "      <td>5020</td>\n",
       "      <td>5030</td>\n",
       "      <td>[9(DF1), 10(DF2)]</td>\n",
       "      <td>[0.0, 2.0, 5.0, 8.0, 13.0, 14.0, 17.0, 19.0, 2...</td>\n",
       "    </tr>\n",
       "    <tr>\n",
       "      <th>...</th>\n",
       "      <td>...</td>\n",
       "      <td>...</td>\n",
       "      <td>...</td>\n",
       "      <td>...</td>\n",
       "    </tr>\n",
       "    <tr>\n",
       "      <th>463</th>\n",
       "      <td>Ettinger Strasse</td>\n",
       "      <td>8606</td>\n",
       "      <td>[8(DC1), 9(DC2)]</td>\n",
       "      <td>[0.0, 0.0, 2.0, 3.0, 3.0, 3.0, 3.0, 3.0, 3.0, ...</td>\n",
       "    </tr>\n",
       "    <tr>\n",
       "      <th>464</th>\n",
       "      <td>23</td>\n",
       "      <td>4100</td>\n",
       "      <td>[8(DD1), 9(DD2)]</td>\n",
       "      <td>[0.0, 1.0, 5.0, 7.0, 7.0, 9.0, 10.0, 11.0, 11....</td>\n",
       "    </tr>\n",
       "    <tr>\n",
       "      <th>465</th>\n",
       "      <td>4100</td>\n",
       "      <td>23</td>\n",
       "      <td>[]</td>\n",
       "      <td>[0.0, 0.0, 0.0, 0.0, 0.0, 0.0, 0.0, 0.0, 0.0, ...</td>\n",
       "    </tr>\n",
       "    <tr>\n",
       "      <th>466</th>\n",
       "      <td>4050</td>\n",
       "      <td>4060</td>\n",
       "      <td>[1(DA1), 2(DA2), 3(DA3)]</td>\n",
       "      <td>[1.0, 11.0, 13.0, 18.0, 22.0, 28.0, 29.0, 32.0...</td>\n",
       "    </tr>\n",
       "    <tr>\n",
       "      <th>467</th>\n",
       "      <td>4060</td>\n",
       "      <td>4050</td>\n",
       "      <td>[3(DC1), 4(DC2), 5(DCL1)]</td>\n",
       "      <td>[2.0, 7.0, 11.0, 22.0, 24.0, 26.0, 32.0, 34.0,...</td>\n",
       "    </tr>\n",
       "  </tbody>\n",
       "</table>\n",
       "<p>468 rows × 4 columns</p>\n",
       "</div>"
      ],
      "text/plain": [
       "                Start          End                  Detectors  \\\n",
       "0                4040         4050           [1(DA1), 2(DA2)]   \n",
       "1                4050         4040   [6(DC1), 7(DC2), 8(DC3)]   \n",
       "2                3200  Am Augraben                         []   \n",
       "3         Am Augraben         3200   [2(DB1), 3(DB2), 4(DB3)]   \n",
       "4                5020         5030          [9(DF1), 10(DF2)]   \n",
       "..                ...          ...                        ...   \n",
       "463  Ettinger Strasse         8606           [8(DC1), 9(DC2)]   \n",
       "464                23         4100           [8(DD1), 9(DD2)]   \n",
       "465              4100           23                         []   \n",
       "466              4050         4060   [1(DA1), 2(DA2), 3(DA3)]   \n",
       "467              4060         4050  [3(DC1), 4(DC2), 5(DCL1)]   \n",
       "\n",
       "                                                Counts  \n",
       "0    [1.0, 6.0, 9.0, 15.0, 19.0, 26.0, 27.0, 29.0, ...  \n",
       "1    [3.0, 8.0, 12.0, 23.0, 25.0, 30.0, 37.0, 40.0,...  \n",
       "2    [0.0, 0.0, 0.0, 0.0, 0.0, 0.0, 0.0, 0.0, 0.0, ...  \n",
       "3    [0.0, 2.0, 7.0, 7.0, 7.0, 7.0, 7.0, 9.0, 9.0, ...  \n",
       "4    [0.0, 2.0, 5.0, 8.0, 13.0, 14.0, 17.0, 19.0, 2...  \n",
       "..                                                 ...  \n",
       "463  [0.0, 0.0, 2.0, 3.0, 3.0, 3.0, 3.0, 3.0, 3.0, ...  \n",
       "464  [0.0, 1.0, 5.0, 7.0, 7.0, 9.0, 10.0, 11.0, 11....  \n",
       "465  [0.0, 0.0, 0.0, 0.0, 0.0, 0.0, 0.0, 0.0, 0.0, ...  \n",
       "466  [1.0, 11.0, 13.0, 18.0, 22.0, 28.0, 29.0, 32.0...  \n",
       "467  [2.0, 7.0, 11.0, 22.0, 24.0, 26.0, 32.0, 34.0,...  \n",
       "\n",
       "[468 rows x 4 columns]"
      ]
     },
     "execution_count": 28,
     "metadata": {},
     "output_type": "execute_result"
    }
   ],
   "source": [
    "START_DATE = datetime(2021, 1, 1)\n",
    "END_DATE = datetime(2021, 12, 1)\n",
    "\n",
    "def count_traffic(int_det, start_date=START_DATE, end_date=END_DATE):\n",
    "    lens = set()\n",
    "    def get_count(section_end, detectors):\n",
    "        section_data = ddp.get_data_for_period(section_end, START_DATE, END_DATE)\n",
    "        for col in section_data.columns:\n",
    "            section_data[col] = pd.to_numeric(section_data[col], errors='coerce')\n",
    "        try:\n",
    "            return list(section_data[detectors].fillna(0).sum(axis=1, numeric_only=True).cumsum())\n",
    "        except KeyError:\n",
    "            print(section_end, section_data.columns, detectors)\n",
    "    int_det['Counts'] = int_det.apply(lambda sec: get_count(sec['End'], sec['Detectors']), axis=1)\n",
    "\n",
    "count_traffic(int_det)\n",
    "int_det"
   ]
  },
  {
   "cell_type": "code",
   "execution_count": 29,
   "metadata": {},
   "outputs": [
    {
     "name": "stderr",
     "output_type": "stream",
     "text": [
      "C:\\Users\\19ak9\\AppData\\Local\\Temp\\ipykernel_652\\3725436143.py:2: PerformanceWarning: \n",
      "your performance may suffer as PyTables will pickle object types that it cannot\n",
      "map directly to c-types [inferred_type->mixed,key->block0_values] [items->Index(['Start', 'End', 'Detectors', 'Counts'], dtype='object')]\n",
      "\n",
      "  int_det.to_hdf('int_det_excluded_missing.hdf', 'int_det')\n"
     ]
    }
   ],
   "source": [
    "# int_det.to_csv('int_det_excluded_missing.csv', quoting=QUOTE_NONE, escapechar=' ', sep=';')\n",
    "int_det.to_hdf('int_det_excluded_missing.hdf', 'int_det')"
   ]
  },
  {
   "cell_type": "code",
   "execution_count": 37,
   "metadata": {},
   "outputs": [
    {
     "data": {
      "text/html": [
       "<div>\n",
       "<style scoped>\n",
       "    .dataframe tbody tr th:only-of-type {\n",
       "        vertical-align: middle;\n",
       "    }\n",
       "\n",
       "    .dataframe tbody tr th {\n",
       "        vertical-align: top;\n",
       "    }\n",
       "\n",
       "    .dataframe thead th {\n",
       "        text-align: right;\n",
       "    }\n",
       "</style>\n",
       "<table border=\"1\" class=\"dataframe\">\n",
       "  <thead>\n",
       "    <tr style=\"text-align: right;\">\n",
       "      <th></th>\n",
       "      <th>Start</th>\n",
       "      <th>End</th>\n",
       "      <th>Detectors</th>\n",
       "      <th>Counts</th>\n",
       "    </tr>\n",
       "  </thead>\n",
       "  <tbody>\n",
       "    <tr>\n",
       "      <th>0</th>\n",
       "      <td>4040</td>\n",
       "      <td>4050</td>\n",
       "      <td>[1(DA1), 2(DA2)]</td>\n",
       "      <td>[1.0, 6.0, 9.0, 15.0, 19.0, 26.0, 27.0, 29.0, ...</td>\n",
       "    </tr>\n",
       "    <tr>\n",
       "      <th>1</th>\n",
       "      <td>4050</td>\n",
       "      <td>4040</td>\n",
       "      <td>[6(DC1), 7(DC2), 8(DC3)]</td>\n",
       "      <td>[3.0, 8.0, 12.0, 23.0, 25.0, 30.0, 37.0, 40.0,...</td>\n",
       "    </tr>\n",
       "    <tr>\n",
       "      <th>2</th>\n",
       "      <td>3200</td>\n",
       "      <td>Am Augraben</td>\n",
       "      <td>[]</td>\n",
       "      <td>[0.0, 0.0, 0.0, 0.0, 0.0, 0.0, 0.0, 0.0, 0.0, ...</td>\n",
       "    </tr>\n",
       "    <tr>\n",
       "      <th>3</th>\n",
       "      <td>Am Augraben</td>\n",
       "      <td>3200</td>\n",
       "      <td>[2(DB1), 3(DB2), 4(DB3)]</td>\n",
       "      <td>[0.0, 2.0, 7.0, 7.0, 7.0, 7.0, 7.0, 9.0, 9.0, ...</td>\n",
       "    </tr>\n",
       "    <tr>\n",
       "      <th>4</th>\n",
       "      <td>5020</td>\n",
       "      <td>5030</td>\n",
       "      <td>[9(DF1), 10(DF2)]</td>\n",
       "      <td>[0.0, 2.0, 5.0, 8.0, 13.0, 14.0, 17.0, 19.0, 2...</td>\n",
       "    </tr>\n",
       "    <tr>\n",
       "      <th>...</th>\n",
       "      <td>...</td>\n",
       "      <td>...</td>\n",
       "      <td>...</td>\n",
       "      <td>...</td>\n",
       "    </tr>\n",
       "    <tr>\n",
       "      <th>463</th>\n",
       "      <td>Ettinger Strasse</td>\n",
       "      <td>8606</td>\n",
       "      <td>[8(DC1), 9(DC2)]</td>\n",
       "      <td>[0.0, 0.0, 2.0, 3.0, 3.0, 3.0, 3.0, 3.0, 3.0, ...</td>\n",
       "    </tr>\n",
       "    <tr>\n",
       "      <th>464</th>\n",
       "      <td>23</td>\n",
       "      <td>4100</td>\n",
       "      <td>[8(DD1), 9(DD2)]</td>\n",
       "      <td>[0.0, 1.0, 5.0, 7.0, 7.0, 9.0, 10.0, 11.0, 11....</td>\n",
       "    </tr>\n",
       "    <tr>\n",
       "      <th>465</th>\n",
       "      <td>4100</td>\n",
       "      <td>23</td>\n",
       "      <td>[]</td>\n",
       "      <td>[0.0, 0.0, 0.0, 0.0, 0.0, 0.0, 0.0, 0.0, 0.0, ...</td>\n",
       "    </tr>\n",
       "    <tr>\n",
       "      <th>466</th>\n",
       "      <td>4050</td>\n",
       "      <td>4060</td>\n",
       "      <td>[1(DA1), 2(DA2), 3(DA3)]</td>\n",
       "      <td>[1.0, 11.0, 13.0, 18.0, 22.0, 28.0, 29.0, 32.0...</td>\n",
       "    </tr>\n",
       "    <tr>\n",
       "      <th>467</th>\n",
       "      <td>4060</td>\n",
       "      <td>4050</td>\n",
       "      <td>[3(DC1), 4(DC2), 5(DCL1)]</td>\n",
       "      <td>[2.0, 7.0, 11.0, 22.0, 24.0, 26.0, 32.0, 34.0,...</td>\n",
       "    </tr>\n",
       "  </tbody>\n",
       "</table>\n",
       "<p>468 rows × 4 columns</p>\n",
       "</div>"
      ],
      "text/plain": [
       "                Start          End                  Detectors  \\\n",
       "0                4040         4050           [1(DA1), 2(DA2)]   \n",
       "1                4050         4040   [6(DC1), 7(DC2), 8(DC3)]   \n",
       "2                3200  Am Augraben                         []   \n",
       "3         Am Augraben         3200   [2(DB1), 3(DB2), 4(DB3)]   \n",
       "4                5020         5030          [9(DF1), 10(DF2)]   \n",
       "..                ...          ...                        ...   \n",
       "463  Ettinger Strasse         8606           [8(DC1), 9(DC2)]   \n",
       "464                23         4100           [8(DD1), 9(DD2)]   \n",
       "465              4100           23                         []   \n",
       "466              4050         4060   [1(DA1), 2(DA2), 3(DA3)]   \n",
       "467              4060         4050  [3(DC1), 4(DC2), 5(DCL1)]   \n",
       "\n",
       "                                                Counts  \n",
       "0    [1.0, 6.0, 9.0, 15.0, 19.0, 26.0, 27.0, 29.0, ...  \n",
       "1    [3.0, 8.0, 12.0, 23.0, 25.0, 30.0, 37.0, 40.0,...  \n",
       "2    [0.0, 0.0, 0.0, 0.0, 0.0, 0.0, 0.0, 0.0, 0.0, ...  \n",
       "3    [0.0, 2.0, 7.0, 7.0, 7.0, 7.0, 7.0, 9.0, 9.0, ...  \n",
       "4    [0.0, 2.0, 5.0, 8.0, 13.0, 14.0, 17.0, 19.0, 2...  \n",
       "..                                                 ...  \n",
       "463  [0.0, 0.0, 2.0, 3.0, 3.0, 3.0, 3.0, 3.0, 3.0, ...  \n",
       "464  [0.0, 1.0, 5.0, 7.0, 7.0, 9.0, 10.0, 11.0, 11....  \n",
       "465  [0.0, 0.0, 0.0, 0.0, 0.0, 0.0, 0.0, 0.0, 0.0, ...  \n",
       "466  [1.0, 11.0, 13.0, 18.0, 22.0, 28.0, 29.0, 32.0...  \n",
       "467  [2.0, 7.0, 11.0, 22.0, 24.0, 26.0, 32.0, 34.0,...  \n",
       "\n",
       "[468 rows x 4 columns]"
      ]
     },
     "execution_count": 37,
     "metadata": {},
     "output_type": "execute_result"
    }
   ],
   "source": [
    "int_det = pd.read_hdf('int_det_excluded_missing.hdf')\n",
    "int_det\n"
   ]
  },
  {
   "attachments": {},
   "cell_type": "markdown",
   "metadata": {},
   "source": [
    "##### Transform data into expected format"
   ]
  },
  {
   "attachments": {},
   "cell_type": "markdown",
   "metadata": {},
   "source": [
    "Write counts into a matrix\n",
    "$$Q=[q_1,q_2,...,q_p]$$\n",
    "for\n",
    "$$q_i=\\set{z(s_i,t_1),z(s_i,t_2),...z(s_i,t_d)}^T,$$\n",
    "$z(s_i,t_j)$ is the traffic flow of the road section $s_i$ within the time interval $(t_0,t_j)$"
   ]
  },
  {
   "cell_type": "code",
   "execution_count": 41,
   "metadata": {},
   "outputs": [
    {
     "data": {
      "text/plain": [
       "tensor([[1.0000e+00, 3.0000e+00, 0.0000e+00,  ..., 0.0000e+00, 1.0000e+00,\n",
       "         2.0000e+00],\n",
       "        [6.0000e+00, 8.0000e+00, 0.0000e+00,  ..., 0.0000e+00, 1.1000e+01,\n",
       "         7.0000e+00],\n",
       "        [9.0000e+00, 1.2000e+01, 0.0000e+00,  ..., 0.0000e+00, 1.3000e+01,\n",
       "         1.1000e+01],\n",
       "        ...,\n",
       "        [4.5008e+06, 4.8982e+06, 0.0000e+00,  ..., 0.0000e+00, 5.0245e+06,\n",
       "         5.0084e+06],\n",
       "        [4.5009e+06, 4.8982e+06, 0.0000e+00,  ..., 0.0000e+00, 5.0245e+06,\n",
       "         5.0085e+06],\n",
       "        [4.5009e+06, 4.8982e+06, 0.0000e+00,  ..., 0.0000e+00, 5.0245e+06,\n",
       "         5.0085e+06]])"
      ]
     },
     "execution_count": 41,
     "metadata": {},
     "output_type": "execute_result"
    }
   ],
   "source": [
    "def construct_q(int_det: pd.DataFrame):\n",
    "    mat_q = torch.tensor(int_det['Counts'].tolist()).T\n",
    "    return mat_q\n",
    "\n",
    "mat_q = construct_q(int_det)\n",
    "torch.save(mat_q, 'mat_q_excluded_missing.pt')\n",
    "mat_q"
   ]
  },
  {
   "cell_type": "code",
   "execution_count": 42,
   "metadata": {},
   "outputs": [
    {
     "data": {
      "text/plain": [
       "torch.Size([32064, 468])"
      ]
     },
     "execution_count": 42,
     "metadata": {},
     "output_type": "execute_result"
    }
   ],
   "source": [
    "mat_q.shape"
   ]
  },
  {
   "attachments": {},
   "cell_type": "markdown",
   "metadata": {},
   "source": [
    "Construct a correlation coefficient matrix\n",
    "$$\n",
    "R(i, j)=\\frac{\\sum_{k=1}^d(z(s_i,t_k)-\\tilde{z}(s_i))(z(s_j,t_k)-\\tilde{z}(s_j))}{\\sqrt{\\sum_{k=1}^d(z(s_i,t_k)-\\tilde{z}(s_i))^2}\\sqrt{\\sum_{k=1}^d(z(s_j,t_k)-\\tilde{z}(s_j))^2}},\n",
    "$$\n",
    "where $$\\tilde{z}(s_i)=\\frac{1}{d}\\sum_{k=1}^dz(s_i,t_k)$$"
   ]
  },
  {
   "cell_type": "code",
   "execution_count": 44,
   "metadata": {},
   "outputs": [
    {
     "data": {
      "text/plain": [
       "tensor([[1.0000, 1.0000, 0.0000,  ..., 0.0000, 1.0000, 1.0000],\n",
       "        [1.0000, 1.0000, 0.0000,  ..., 0.0000, 1.0000, 1.0000],\n",
       "        [0.0000, 0.0000, 0.0000,  ..., 0.0000, 0.0000, 0.0000],\n",
       "        ...,\n",
       "        [0.0000, 0.0000, 0.0000,  ..., 0.0000, 0.0000, 0.0000],\n",
       "        [1.0000, 1.0000, 0.0000,  ..., 0.0000, 1.0000, 1.0000],\n",
       "        [1.0000, 1.0000, 0.0000,  ..., 0.0000, 1.0000, 1.0000]])"
      ]
     },
     "execution_count": 44,
     "metadata": {},
     "output_type": "execute_result"
    }
   ],
   "source": [
    "def construct_r(mat_q, ignore: set=None):\n",
    "    if ignore is None:\n",
    "        ignore = set()\n",
    "    d, p = mat_q.shape\n",
    "    mat_q_normalized = mat_q - mat_q.mean(dim=0)\n",
    "    mat_r = torch.zeros(p, p)\n",
    "    for i in range(p):\n",
    "        for j in range(i, p):\n",
    "            if (i, j) in ignore:\n",
    "                mat_r[i][j] = 0.0\n",
    "            else:\n",
    "                i_col = mat_q_normalized[:, i]\n",
    "                j_col = mat_q_normalized[:, j]\n",
    "                i_norm = max(torch.norm(i_col), 1e-12)\n",
    "                j_norm = max(torch.norm(j_col), 1e-12)\n",
    "                if i_norm == 0 or j_norm == 0:\n",
    "                    if i_norm == j_norm:\n",
    "                        mat_r[i][j] = 1\n",
    "                    else:\n",
    "                        mat_r[i][j] = 0\n",
    "                else:\n",
    "                    mat_r[i][j] = (i_col @ j_col) / i_norm / j_norm\n",
    "            mat_r[j][i] = mat_r[i][j]\n",
    "    return mat_r\n",
    "\n",
    "mat_r = construct_r(mat_q)\n",
    "torch.save(mat_r, 'mat_r_excluded_missing.pt')\n",
    "mat_r"
   ]
  },
  {
   "attachments": {},
   "cell_type": "markdown",
   "metadata": {},
   "source": [
    "Load matrices R and Q"
   ]
  },
  {
   "cell_type": "code",
   "execution_count": 32,
   "metadata": {},
   "outputs": [],
   "source": [
    "mat_q = torch.load('mat_q_excluded_missing.pt')\n",
    "mat_r = torch.load('mat_r_excluded_missing.pt')\n",
    "mat_r = mat_r / mat_r.max()"
   ]
  },
  {
   "cell_type": "code",
   "execution_count": 41,
   "metadata": {},
   "outputs": [],
   "source": [
    "ALPHA = 0.9999\n",
    "\n",
    "n_timesteps, n_sections = mat_q.shape\n",
    "n_grouped = 0\n",
    "groups = []\n",
    "\n",
    "mat_r_copy = mat_r - torch.diag(mat_r.diag())\n",
    "while n_grouped < n_sections:\n",
    "    new_group_idx = torch.nonzero(mat_r_copy > ALPHA)\n",
    "    if len(new_group_idx) > 0:\n",
    "        corr = mat_r[new_group_idx[:, 0], new_group_idx[:, 1]]\n",
    "        new_group_idx = new_group_idx[:, 0].unique()\n",
    "\n",
    "        n_grouped += len(new_group_idx)\n",
    "        mat_r_copy[new_group_idx, :] = 0\n",
    "        mat_r_copy[:, new_group_idx] = 0\n",
    "        groups.append((new_group_idx, corr.min(), corr.max()))\n",
    "        if mat_r_copy.max() == 0:\n",
    "            break\n",
    "        else:\n",
    "            mat_r_copy /= mat_r_copy.max()\n",
    "del mat_r_copy"
   ]
  },
  {
   "attachments": {},
   "cell_type": "markdown",
   "metadata": {},
   "source": [
    "Analyse grouping"
   ]
  },
  {
   "cell_type": "code",
   "execution_count": 43,
   "metadata": {},
   "outputs": [
    {
     "name": "stdout",
     "output_type": "stream",
     "text": [
      "Using alpha=0.9999, 468 correlated sections were divided into 24 groups:\n",
      "Group 1 - 182 sections with correlation coefficients 1.000 to 1.000\n",
      "Group 2 - 45 sections with correlation coefficients 1.000 to 1.000\n",
      "Group 3 - 26 sections with correlation coefficients 1.000 to 1.000\n",
      "Group 4 - 7 sections with correlation coefficients 1.000 to 1.000\n",
      "Group 5 - 3 sections with correlation coefficients 0.999 to 1.000\n",
      "Group 6 - 6 sections with correlation coefficients 0.999 to 0.999\n",
      "Group 7 - 6 sections with correlation coefficients 0.999 to 0.999\n",
      "Group 8 - 4 sections with correlation coefficients 0.999 to 0.999\n",
      "Group 9 - 4 sections with correlation coefficients 0.999 to 0.999\n",
      "Group 10 - 6 sections with correlation coefficients 0.998 to 0.998\n",
      "Group 11 - 2 sections with correlation coefficients 0.998 to 0.998\n",
      "Group 12 - 2 sections with correlation coefficients 0.998 to 0.998\n",
      "Group 13 - 2 sections with correlation coefficients 0.997 to 0.997\n",
      "Group 14 - 2 sections with correlation coefficients 0.996 to 0.996\n",
      "Group 15 - 2 sections with correlation coefficients 0.996 to 0.996\n",
      "Group 16 - 2 sections with correlation coefficients 0.995 to 0.995\n",
      "Group 17 - 2 sections with correlation coefficients 0.995 to 0.995\n",
      "Group 18 - 2 sections with correlation coefficients 0.987 to 0.987\n",
      "Group 19 - 2 sections with correlation coefficients 0.983 to 0.983\n",
      "Group 20 - 2 sections with correlation coefficients 0.980 to 0.980\n",
      "Group 21 - 2 sections with correlation coefficients 0.977 to 0.977\n",
      "Group 22 - 2 sections with correlation coefficients 0.967 to 0.967\n",
      "Group 23 - 2 sections with correlation coefficients 0.935 to 0.935\n",
      "Group 24 - 2 sections with correlation coefficients 0.865 to 0.865\n",
      "151 section(s) don't correlate with anything and weren't grouped\n"
     ]
    }
   ],
   "source": [
    "print(f'Using alpha={ALPHA}, {n_sections} correlated sections were divided ' +\n",
    "      f'into {len(groups)} groups:')\n",
    "n_ungrouped = 0\n",
    "for i, (group, corr_min, corr_max) in enumerate(groups, start=1):\n",
    "      group_coeffs = mat_r[tuple(group.T), :]\n",
    "      print(f'Group {i} - {len(group)} sections with correlation coefficients '\n",
    "          f'{corr_min:.3f} to {corr_max:.3f}')\n",
    "print(str(n_sections - n_grouped) + \" section(s) don't correlate with anything and weren't grouped\")\n"
   ]
  },
  {
   "cell_type": "code",
   "execution_count": 45,
   "metadata": {},
   "outputs": [
    {
     "data": {
      "text/plain": [
       "[(tensor([  0,   1,   4,   5,   9,  11,  14,  15,  17,  18,  27,  31,  32,  33,\n",
       "           34,  35,  36,  37,  41,  43,  50,  51,  57,  58,  61,  71,  80,  81,\n",
       "           83,  89,  91,  94,  95,  98,  99, 101, 104, 107, 109, 110, 111, 113,\n",
       "          118, 120, 121, 123, 124, 125, 127, 130, 131, 133, 140, 141, 143, 144,\n",
       "          145, 149, 152, 153, 155, 165, 166, 167, 169, 173, 176, 178, 179, 180,\n",
       "          181, 184, 186, 188, 189, 195, 196, 197, 200, 202, 206, 207, 208, 210,\n",
       "          211, 214, 217, 219, 222, 225, 226, 227, 228, 229, 234, 244, 247, 250,\n",
       "          251, 253, 254, 255, 259, 261, 263, 265, 274, 276, 283, 287, 289, 290,\n",
       "          291, 296, 297, 298, 299, 301, 305, 309, 312, 313, 317, 319, 320, 325,\n",
       "          328, 330, 331, 334, 335, 339, 341, 343, 349, 355, 359, 360, 361, 363,\n",
       "          366, 367, 370, 371, 372, 373, 374, 376, 379, 384, 385, 389, 394, 395,\n",
       "          397, 398, 399, 402, 403, 404, 405, 406, 408, 410, 411, 418, 419, 421,\n",
       "          427, 432, 433, 438, 444, 447, 450, 451, 453, 454, 456, 457, 466, 467]),\n",
       "  tensor(0.9999),\n",
       "  tensor(1.0000)),\n",
       " (tensor([  3,   6,  20,  47,  54,  66,  70,  73,  77,  87,  88,  93, 151, 159,\n",
       "          161, 162, 163, 171, 185, 187, 194, 203, 213, 216, 221, 231, 233, 239,\n",
       "          269, 286, 292, 302, 308, 311, 332, 337, 338, 345, 365, 383, 413, 414,\n",
       "          416, 425, 439]),\n",
       "  tensor(0.9998),\n",
       "  tensor(0.9999)),\n",
       " (tensor([ 13,  39,  75, 115, 135, 137, 154, 175, 235, 237, 240, 241, 249, 273,\n",
       "          281, 295, 315, 318, 351, 364, 400, 430, 435, 449, 459, 463]),\n",
       "  tensor(0.9997),\n",
       "  tensor(0.9998)),\n",
       " (tensor([ 29, 119, 193, 285, 304, 368, 436]), tensor(0.9996), tensor(0.9997)),\n",
       " (tensor([ 48, 157, 353]), tensor(0.9995), tensor(0.9995)),\n",
       " (tensor([ 52, 199, 422, 423, 429, 464]), tensor(0.9994), tensor(0.9994)),\n",
       " (tensor([ 63, 142, 177, 303, 387, 431]), tensor(0.9992), tensor(0.9993)),\n",
       " (tensor([ 19, 260, 333, 420]), tensor(0.9990), tensor(0.9991)),\n",
       " (tensor([ 65, 215, 357, 452]), tensor(0.9987), tensor(0.9987)),\n",
       " (tensor([ 56, 183, 245, 322, 327, 443]), tensor(0.9984), tensor(0.9985)),\n",
       " (tensor([ 85, 139]), tensor(0.9980), tensor(0.9980)),\n",
       " (tensor([205, 461]), tensor(0.9976), tensor(0.9976)),\n",
       " (tensor([147, 381]), tensor(0.9966), tensor(0.9966)),\n",
       " (tensor([ 79, 192]), tensor(0.9961), tensor(0.9961)),\n",
       " (tensor([243, 275]), tensor(0.9958), tensor(0.9958)),\n",
       " (tensor([ 25, 103]), tensor(0.9953), tensor(0.9953)),\n",
       " (tensor([182, 391]), tensor(0.9949), tensor(0.9949)),\n",
       " (tensor([ 60, 191]), tensor(0.9869), tensor(0.9869)),\n",
       " (tensor([117, 279]), tensor(0.9830), tensor(0.9830)),\n",
       " (tensor([256, 426]), tensor(0.9797), tensor(0.9797)),\n",
       " (tensor([23, 45]), tensor(0.9768), tensor(0.9768)),\n",
       " (tensor([270, 445]), tensor(0.9672), tensor(0.9672)),\n",
       " (tensor([ 96, 393]), tensor(0.9347), tensor(0.9347)),\n",
       " (tensor([ 69, 267]), tensor(0.8653), tensor(0.8653))]"
      ]
     },
     "metadata": {},
     "output_type": "display_data"
    }
   ],
   "source": [
    "representatives = torch.stack([g[0] for g, _, _ in groups])\n",
    "mat_c = mat_q[:, representatives]\n",
    "torch.save(mat_c, 'mat_c_excluded_missing.pt')\n",
    "mat_c\n",
    "display(groups)"
   ]
  },
  {
   "attachments": {},
   "cell_type": "markdown",
   "metadata": {},
   "source": [
    "##### Spectral decomposition"
   ]
  },
  {
   "cell_type": "code",
   "execution_count": 19,
   "metadata": {},
   "outputs": [
    {
     "name": "stdout",
     "output_type": "stream",
     "text": [
      "tensor(560.)\n"
     ]
    },
    {
     "data": {
      "text/plain": [
       "[<matplotlib.lines.Line2D at 0x1bd60ee2610>]"
      ]
     },
     "execution_count": 19,
     "metadata": {},
     "output_type": "execute_result"
    },
    {
     "data": {
      "image/png": "[encoded data removed]",
      "text/plain": [
       "<Figure size 640x480 with 1 Axes>"
      ]
     },
     "metadata": {},
     "output_type": "display_data"
    }
   ],
   "source": [
    "row = mat_q[:, 0]\n",
    "row = row[1:] - row[:-1]\n",
    "print(max(row))\n",
    "plt.plot(row)"
   ]
  }
 ],
 "metadata": {
  "kernelspec": {
   "display_name": ".idp",
   "language": "python",
   "name": "python3"
  },
  "language_info": {
   "codemirror_mode": {
    "name": "ipython",
    "version": 3
   },
   "file_extension": ".py",
   "mimetype": "text/x-python",
   "name": "python",
   "nbconvert_exporter": "python",
   "pygments_lexer": "ipython3",
   "version": "3.9.15"
  },
  "orig_nbformat": 4,
  "vscode": {
   "interpreter": {
    "hash": "912fb52f238e5d0393cd3cb39c1046be4cbf42cc336ebf4385af401bc969f2f7"
   }
  }
 },
 "nbformat": 4,
 "nbformat_minor": 2
}
