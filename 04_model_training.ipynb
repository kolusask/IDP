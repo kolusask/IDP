{
 "cells": [
  {
   "cell_type": "code",
   "execution_count": null,
   "metadata": {},
   "outputs": [],
   "source": [
    "import torch\n",
    "import torchmetrics as tm\n",
    "\n",
    "from config import *\n",
    "from stages import *\n",
    "from train import *\n",
    "\n",
    "from data.util import crop_q_between, split_weekdays_and_weekends\n",
    "\n",
    "%reload_ext autoreload\n",
    "%autoreload 2"
   ]
  },
  {
   "cell_type": "code",
   "execution_count": null,
   "metadata": {},
   "outputs": [],
   "source": [
    "mse = tm.MeanSquaredError().to(CONFIG.device)\n",
    "mape = tm.MeanAbsolutePercentageError().to(CONFIG.device)"
   ]
  },
  {
   "cell_type": "markdown",
   "metadata": {},
   "source": [
    "Load data"
   ]
  },
  {
   "cell_type": "code",
   "execution_count": null,
   "metadata": {},
   "outputs": [],
   "source": [
    "mat_q = CONFIG.load('mat_q.pt')\n",
    "mat_q.shape"
   ]
  },
  {
   "cell_type": "markdown",
   "metadata": {},
   "source": [
    "Split data"
   ]
  },
  {
   "cell_type": "markdown",
   "metadata": {},
   "source": [
    "##### Compare MSE and MAPE losses for different parameter configurations"
   ]
  },
  {
   "cell_type": "markdown",
   "metadata": {},
   "source": [
    "Method 1: Pre-train RBMs + attach KELM"
   ]
  },
  {
   "cell_type": "code",
   "execution_count": null,
   "metadata": {},
   "outputs": [],
   "source": [
    "results_1 = {}\n",
    "\n",
    "for P in range(3125, 28125, 3125):\n",
    "    CONFIG.spectral_threshold = P\n",
    "    dbn = get_pre_trained_dbn(CONFIG, print_each=0)\n",
    "    for N in range(4, 36, 4):\n",
    "        CONFIG.dbn_hidden_layer_sizes = [N, N, N]\n",
    "\n",
    "        mat_q_trend, mat_q_resid = preprocess_data(P, mat_q)\n",
    "        mat_c, mat_x = compress_data(\n",
    "            mat_q_resid.abs(), CONFIG.read_period, CONFIG.train_period, CONFIG.alpha)\n",
    "\n",
    "        mat_c_wd, mat_c_we = split_weekdays_and_weekends(\n",
    "            mat_c, CONFIG.train_period[0])\n",
    "\n",
    "        mse_loss = mse_for_config(CONFIG, dbn, mat_c_we)\n",
    "\n",
    "        print(f'P={P}, N={N}, Loss={mse_loss}')"
   ]
  },
  {
   "cell_type": "markdown",
   "metadata": {},
   "source": [
    "Method 2: Pre-train DBN + Train DBN attaching KELM on each epoch"
   ]
  },
  {
   "cell_type": "code",
   "execution_count": null,
   "metadata": {},
   "outputs": [],
   "source": [
    "results_1 = {}\n",
    "\n",
    "for P in range(3125, 28125, 3125):\n",
    "    CONFIG.spectral_threshold = P\n",
    "    dbn = get_pre_trained_dbn(CONFIG, print_each=0)\n",
    "    dbn_pretrained_state = dbn.state_dict()\n",
    "    for N in range(4, 360, 40):\n",
    "        CONFIG.dbn_hidden_layer_sizes = [N, N, N]\n",
    "\n",
    "        mat_q_trend, mat_q_resid = preprocess_data(P, mat_q)\n",
    "        mat_c, mat_x = compress_data(\n",
    "            mat_q_resid.abs(), CONFIG.read_period, CONFIG.train_period, CONFIG.alpha)\n",
    "\n",
    "        mat_c_wd, mat_c_we = split_weekdays_and_weekends(\n",
    "            mat_c, CONFIG.train_period[0])\n",
    "\n",
    "        dbn.load_state_dict(dbn_pretrained_state)\n",
    "        mse_loss = mse_for_config(CONFIG, dbn, mat_c_we, dbn_training_epochs=100)\n",
    "\n",
    "        print(f'P={P}, N={N}, Loss={mse_loss}')"
   ]
  },
  {
   "cell_type": "code",
   "execution_count": null,
   "metadata": {},
   "outputs": [],
   "source": []
  },
  {
   "cell_type": "code",
   "execution_count": null,
   "metadata": {},
   "outputs": [],
   "source": []
  }
 ],
 "metadata": {
  "kernelspec": {
   "display_name": ".idp",
   "language": "python",
   "name": "python3"
  },
  "language_info": {
   "codemirror_mode": {
    "name": "ipython",
    "version": 3
   },
   "file_extension": ".py",
   "mimetype": "text/x-python",
   "name": "python",
   "nbconvert_exporter": "python",
   "pygments_lexer": "ipython3",
   "version": "3.10.9"
  },
  "orig_nbformat": 4
 },
 "nbformat": 4,
 "nbformat_minor": 2
}
