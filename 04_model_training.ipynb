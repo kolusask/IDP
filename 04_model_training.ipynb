{
 "cells": [
  {
   "cell_type": "code",
   "execution_count": 2,
   "metadata": {},
   "outputs": [],
   "source": [
    "from typing import Tuple\n",
    "\n",
    "import torch\n",
    "from torch.utils.data import DataLoader, Dataset\n",
    "\n",
    "from config import *\n",
    "\n",
    "from prediction_models.dbn import *\n",
    "from prediction_models.kelm import *\n",
    "\n",
    "%reload_ext autoreload\n",
    "%autoreload 2"
   ]
  },
  {
   "cell_type": "code",
   "execution_count": 3,
   "metadata": {},
   "outputs": [],
   "source": [
    "DBN_LAYER_SIZES = CONFIG['DBN_LAYER_SIZES']\n",
    "INPUT_SIZE = DBN_LAYER_SIZES[0]\n",
    "HIDDEN_LAYER_SIZES = DBN_LAYER_SIZES[1:]\n",
    "GIBBS_SAMPLING_STEPS = CONFIG['GIBBS_SAMPLING_STEPS']"
   ]
  },
  {
   "attachments": {},
   "cell_type": "markdown",
   "metadata": {},
   "source": [
    "### Pre-train RBMs inside DBN"
   ]
  },
  {
   "attachments": {},
   "cell_type": "markdown",
   "metadata": {},
   "source": [
    "Train to reconstruct all possible combinations of 0's and 1's"
   ]
  },
  {
   "attachments": {},
   "cell_type": "markdown",
   "metadata": {},
   "source": [
    "#### Create a dataset"
   ]
  },
  {
   "cell_type": "code",
   "execution_count": 4,
   "metadata": {},
   "outputs": [],
   "source": [
    "class BinaryVectorDataset(Dataset):\n",
    "    def __init__(self, n_bits: int):\n",
    "        self.n_bits = n_bits\n",
    "        self.format_str = f'{{0:0{self.n_bits}b}}'\n",
    "    \n",
    "    def __len__(self) -> int:\n",
    "        return 2 ** self.n_bits\n",
    "    \n",
    "    def __getitem__(self, index: int) \\\n",
    "            -> Tuple[torch.TensorType, torch.TensorType]:\n",
    "        bin_str = self.format_str.format(index)\n",
    "        return torch.tensor([float(c) for c in bin_str]), torch.tensor([index,])\n",
    "\n",
    "dbn_pre_train_loader = DataLoader(BinaryVectorDataset(INPUT_SIZE))"
   ]
  },
  {
   "attachments": {},
   "cell_type": "markdown",
   "metadata": {},
   "source": [
    "#### Create and pre-train DBN"
   ]
  },
  {
   "cell_type": "code",
   "execution_count": 5,
   "metadata": {},
   "outputs": [
    {
     "name": "stderr",
     "output_type": "stream",
     "text": [
      "/home/kolusask/miniconda3/envs/.idp/lib/python3.11/site-packages/torch/autograd/__init__.py:200: UserWarning: CUDA initialization: CUDA unknown error - this may be due to an incorrectly set up environment, e.g. changing env variable CUDA_VISIBLE_DEVICES after program start. Setting the available devices to be zero. (Triggered internally at ../c10/cuda/CUDAFunctions.cpp:109.)\n",
      "  Variable._execution_engine.run_backward(  # Calls into the C++ engine to run the backward pass\n"
     ]
    },
    {
     "name": "stdout",
     "output_type": "stream",
     "text": [
      "Epoch 0, Machine 0:\tLoss: -1.5616679191589355\n",
      "Epoch 0, Machine 1:\tLoss: -0.27533671259880066\n",
      "Epoch 0, Machine 2:\tLoss: -0.5047240257263184\n",
      "Epoch 10, Machine 0:\tLoss: -2.8526511192321777\n",
      "Epoch 10, Machine 1:\tLoss: -0.4449526369571686\n",
      "Epoch 10, Machine 2:\tLoss: -0.874451756477356\n"
     ]
    },
    {
     "data": {
      "text/plain": [
       "DBN(\n",
       "  (rbms): ModuleList(\n",
       "    (0-2): 3 x RBM()\n",
       "  )\n",
       ")"
      ]
     },
     "execution_count": 5,
     "metadata": {},
     "output_type": "execute_result"
    }
   ],
   "source": [
    "dbn = DBN(INPUT_SIZE, HIDDEN_LAYER_SIZES, k=GIBBS_SAMPLING_STEPS)\n",
    "pre_train_dbm(dbn, dbn_pre_train_loader)"
   ]
  },
  {
   "cell_type": "code",
   "execution_count": null,
   "metadata": {},
   "outputs": [],
   "source": []
  }
 ],
 "metadata": {
  "kernelspec": {
   "display_name": ".idp",
   "language": "python",
   "name": "python3"
  },
  "language_info": {
   "codemirror_mode": {
    "name": "ipython",
    "version": 3
   },
   "file_extension": ".py",
   "mimetype": "text/x-python",
   "name": "python",
   "nbconvert_exporter": "python",
   "pygments_lexer": "ipython3",
   "version": "3.11.3"
  },
  "orig_nbformat": 4
 },
 "nbformat": 4,
 "nbformat_minor": 2
}
