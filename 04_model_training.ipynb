{
 "cells": [
  {
   "cell_type": "code",
   "execution_count": 1,
   "metadata": {},
   "outputs": [],
   "source": [
    "import torch\n",
    "\n",
    "import matplotlib.pyplot as plt\n",
    "import torchmetrics as tm\n",
    "\n",
    "from config import *\n",
    "from stages import *\n",
    "from train import *\n",
    "from data.ssa import SSA\n",
    "\n",
    "from data.util import crop_q_between, split_weekdays_and_weekends\n",
    "\n",
    "%reload_ext autoreload\n",
    "%autoreload 2"
   ]
  },
  {
   "cell_type": "code",
   "execution_count": 38,
   "metadata": {},
   "outputs": [
    {
     "data": {
      "text/plain": [
       "tensor([[ 0.,  0.,  0.,  ...,  0.,  0.,  0.],\n",
       "        [ 0.,  0.,  4.,  ...,  0.,  0.,  0.],\n",
       "        [ 0.,  0.,  0.,  ...,  0.,  0.,  0.],\n",
       "        ...,\n",
       "        [ 0.,  1., 16.,  ..., 29.,  0.,  0.],\n",
       "        [ 0.,  0.,  9.,  ..., 16.,  0.,  0.],\n",
       "        [ 0.,  0.,  0.,  ...,  0.,  0.,  0.]], device='cuda:0')"
      ]
     },
     "execution_count": 38,
     "metadata": {},
     "output_type": "execute_result"
    }
   ],
   "source": [
    "mse = tm.MeanSquaredError().to(CONFIG.device)\n",
    "mape = tm.MeanAbsolutePercentageError().to(CONFIG.device)\n",
    "mat_q = CONFIG.load('mat_q.pt')\n",
    "CONFIG.alpha = 0.057\n",
    "CONFIG.device\n",
    "mat_q"
   ]
  },
  {
   "cell_type": "markdown",
   "metadata": {},
   "source": [
    "##### Compare MSE and MAPE losses for different parameter configurations"
   ]
  },
  {
   "cell_type": "markdown",
   "metadata": {},
   "source": [
    "Pre-train DBN and Train DBN attaching KELM on each epoch"
   ]
  },
  {
   "cell_type": "code",
   "execution_count": 41,
   "metadata": {},
   "outputs": [
    {
     "name": "stdout",
     "output_type": "stream",
     "text": [
      "torch.Size([2016, 2])\n"
     ]
    },
    {
     "name": "stderr",
     "output_type": "stream",
     "text": [
      "100%|██████████| 100/100 [02:29<00:00,  1.50s/it]\n"
     ]
    },
    {
     "name": "stdout",
     "output_type": "stream",
     "text": [
      "gamma=1, reg_coeff=26, WE P=1440, N=[80, 80, 80], Loss=505.2121887207031\n"
     ]
    },
    {
     "ename": "KeyboardInterrupt",
     "evalue": "",
     "output_type": "error",
     "traceback": [
      "\u001b[0;31m---------------------------------------------------------------------------\u001b[0m",
      "\u001b[0;31mKeyboardInterrupt\u001b[0m                         Traceback (most recent call last)",
      "\u001b[1;32m/home/askar/TUM/IDP/IDP/04_model_training.ipynb Cell 5\u001b[0m line \u001b[0;36m1\n\u001b[1;32m     <a href='vscode-notebook-cell:/home/askar/TUM/IDP/IDP/04_model_training.ipynb#W4sZmlsZQ%3D%3D?line=12'>13</a>\u001b[0m \u001b[39mfor\u001b[39;00m P \u001b[39min\u001b[39;00m [\u001b[39m1440\u001b[39m,]:\u001b[39m#range(3125 * 3, 28125, 3125):\u001b[39;00m\n\u001b[1;32m     <a href='vscode-notebook-cell:/home/askar/TUM/IDP/IDP/04_model_training.ipynb#W4sZmlsZQ%3D%3D?line=13'>14</a>\u001b[0m     CONFIG\u001b[39m.\u001b[39mspectral_threshold \u001b[39m=\u001b[39m P\n\u001b[0;32m---> <a href='vscode-notebook-cell:/home/askar/TUM/IDP/IDP/04_model_training.ipynb#W4sZmlsZQ%3D%3D?line=14'>15</a>\u001b[0m     \u001b[39mfor\u001b[39;00m N \u001b[39min\u001b[39;00m [\u001b[39m80\u001b[39m,]:\u001b[39m#range(4, 245, 80):\u001b[39;00m\n\u001b[1;32m     <a href='vscode-notebook-cell:/home/askar/TUM/IDP/IDP/04_model_training.ipynb#W4sZmlsZQ%3D%3D?line=15'>16</a>\u001b[0m       CONFIG\u001b[39m.\u001b[39mdbn_hidden_layer_sizes \u001b[39m=\u001b[39m [N, N, N]\n\u001b[1;32m     <a href='vscode-notebook-cell:/home/askar/TUM/IDP/IDP/04_model_training.ipynb#W4sZmlsZQ%3D%3D?line=16'>17</a>\u001b[0m       dbn \u001b[39m=\u001b[39m DBN(CONFIG\u001b[39m.\u001b[39mtime_window_length, CONFIG\u001b[39m.\u001b[39mdbn_hidden_layer_sizes,\n\u001b[1;32m     <a href='vscode-notebook-cell:/home/askar/TUM/IDP/IDP/04_model_training.ipynb#W4sZmlsZQ%3D%3D?line=17'>18</a>\u001b[0m                 CONFIG\u001b[39m.\u001b[39mgibbs_sampling_steps)\u001b[39m.\u001b[39mto(CONFIG\u001b[39m.\u001b[39mdevice)\n",
      "\u001b[1;32m/home/askar/TUM/IDP/IDP/04_model_training.ipynb Cell 5\u001b[0m line \u001b[0;36m1\n\u001b[1;32m     <a href='vscode-notebook-cell:/home/askar/TUM/IDP/IDP/04_model_training.ipynb#W4sZmlsZQ%3D%3D?line=12'>13</a>\u001b[0m \u001b[39mfor\u001b[39;00m P \u001b[39min\u001b[39;00m [\u001b[39m1440\u001b[39m,]:\u001b[39m#range(3125 * 3, 28125, 3125):\u001b[39;00m\n\u001b[1;32m     <a href='vscode-notebook-cell:/home/askar/TUM/IDP/IDP/04_model_training.ipynb#W4sZmlsZQ%3D%3D?line=13'>14</a>\u001b[0m     CONFIG\u001b[39m.\u001b[39mspectral_threshold \u001b[39m=\u001b[39m P\n\u001b[0;32m---> <a href='vscode-notebook-cell:/home/askar/TUM/IDP/IDP/04_model_training.ipynb#W4sZmlsZQ%3D%3D?line=14'>15</a>\u001b[0m     \u001b[39mfor\u001b[39;00m N \u001b[39min\u001b[39;00m [\u001b[39m80\u001b[39m,]:\u001b[39m#range(4, 245, 80):\u001b[39;00m\n\u001b[1;32m     <a href='vscode-notebook-cell:/home/askar/TUM/IDP/IDP/04_model_training.ipynb#W4sZmlsZQ%3D%3D?line=15'>16</a>\u001b[0m       CONFIG\u001b[39m.\u001b[39mdbn_hidden_layer_sizes \u001b[39m=\u001b[39m [N, N, N]\n\u001b[1;32m     <a href='vscode-notebook-cell:/home/askar/TUM/IDP/IDP/04_model_training.ipynb#W4sZmlsZQ%3D%3D?line=16'>17</a>\u001b[0m       dbn \u001b[39m=\u001b[39m DBN(CONFIG\u001b[39m.\u001b[39mtime_window_length, CONFIG\u001b[39m.\u001b[39mdbn_hidden_layer_sizes,\n\u001b[1;32m     <a href='vscode-notebook-cell:/home/askar/TUM/IDP/IDP/04_model_training.ipynb#W4sZmlsZQ%3D%3D?line=17'>18</a>\u001b[0m                 CONFIG\u001b[39m.\u001b[39mgibbs_sampling_steps)\u001b[39m.\u001b[39mto(CONFIG\u001b[39m.\u001b[39mdevice)\n",
      "File \u001b[0;32m_pydevd_bundle/pydevd_cython.pyx:1457\u001b[0m, in \u001b[0;36m_pydevd_bundle.pydevd_cython.SafeCallWrapper.__call__\u001b[0;34m()\u001b[0m\n",
      "File \u001b[0;32m_pydevd_bundle/pydevd_cython.pyx:701\u001b[0m, in \u001b[0;36m_pydevd_bundle.pydevd_cython.PyDBFrame.trace_dispatch\u001b[0;34m()\u001b[0m\n",
      "File \u001b[0;32m_pydevd_bundle/pydevd_cython.pyx:1395\u001b[0m, in \u001b[0;36m_pydevd_bundle.pydevd_cython.PyDBFrame.trace_dispatch\u001b[0;34m()\u001b[0m\n",
      "File \u001b[0;32m_pydevd_bundle/pydevd_cython.pyx:1344\u001b[0m, in \u001b[0;36m_pydevd_bundle.pydevd_cython.PyDBFrame.trace_dispatch\u001b[0;34m()\u001b[0m\n",
      "File \u001b[0;32m_pydevd_bundle/pydevd_cython.pyx:312\u001b[0m, in \u001b[0;36m_pydevd_bundle.pydevd_cython.PyDBFrame.do_wait_suspend\u001b[0;34m()\u001b[0m\n",
      "File \u001b[0;32m~/miniconda3/envs/.idp/lib/python3.11/site-packages/debugpy/_vendored/pydevd/pydevd.py:2070\u001b[0m, in \u001b[0;36mPyDB.do_wait_suspend\u001b[0;34m(self, thread, frame, event, arg, exception_type)\u001b[0m\n\u001b[1;32m   2067\u001b[0m             from_this_thread\u001b[39m.\u001b[39mappend(frame_custom_thread_id)\n\u001b[1;32m   2069\u001b[0m     \u001b[39mwith\u001b[39;00m \u001b[39mself\u001b[39m\u001b[39m.\u001b[39m_threads_suspended_single_notification\u001b[39m.\u001b[39mnotify_thread_suspended(thread_id, thread, stop_reason):\n\u001b[0;32m-> 2070\u001b[0m         keep_suspended \u001b[39m=\u001b[39m \u001b[39mself\u001b[39m\u001b[39m.\u001b[39m_do_wait_suspend(thread, frame, event, arg, suspend_type, from_this_thread, frames_tracker)\n\u001b[1;32m   2072\u001b[0m frames_list \u001b[39m=\u001b[39m \u001b[39mNone\u001b[39;00m\n\u001b[1;32m   2074\u001b[0m \u001b[39mif\u001b[39;00m keep_suspended:\n\u001b[1;32m   2075\u001b[0m     \u001b[39m# This means that we should pause again after a set next statement.\u001b[39;00m\n",
      "File \u001b[0;32m~/miniconda3/envs/.idp/lib/python3.11/site-packages/debugpy/_vendored/pydevd/pydevd.py:2106\u001b[0m, in \u001b[0;36mPyDB._do_wait_suspend\u001b[0;34m(self, thread, frame, event, arg, suspend_type, from_this_thread, frames_tracker)\u001b[0m\n\u001b[1;32m   2103\u001b[0m         \u001b[39mself\u001b[39m\u001b[39m.\u001b[39m_call_input_hook()\n\u001b[1;32m   2105\u001b[0m     \u001b[39mself\u001b[39m\u001b[39m.\u001b[39mprocess_internal_commands()\n\u001b[0;32m-> 2106\u001b[0m     time\u001b[39m.\u001b[39msleep(\u001b[39m0.01\u001b[39m)\n\u001b[1;32m   2108\u001b[0m \u001b[39mself\u001b[39m\u001b[39m.\u001b[39mcancel_async_evaluation(get_current_thread_id(thread), \u001b[39mstr\u001b[39m(\u001b[39mid\u001b[39m(frame)))\n\u001b[1;32m   2110\u001b[0m \u001b[39m# process any stepping instructions\u001b[39;00m\n",
      "\u001b[0;31mKeyboardInterrupt\u001b[0m: "
     ]
    }
   ],
   "source": [
    "results_wd = {}\n",
    "results_we = {}\n",
    "\n",
    "# ssa = SSA(CONFIG.time_window_length // 3, 36, CONFIG.device)\n",
    "ssa = SSA(4, [2, 2], CONFIG.device)\n",
    "\n",
    "CONFIG.spectral_threshold = 15440\n",
    "CONFIG.dbn_hidden_layer_sizes = [84, 84, 84]\n",
    "\n",
    "gamma = 1\n",
    "reg_coeff = 26\n",
    "\n",
    "for P in [3125,]:#range(3125 * 3, 28125, 3125):\n",
    "    CONFIG.spectral_threshold = P\n",
    "    for N in [324,]:#range(4, 245, 80):\n",
    "      CONFIG.dbn_hidden_layer_sizes = [N, N, N]\n",
    "      dbn = DBN(CONFIG.time_window_length, CONFIG.dbn_hidden_layer_sizes,\n",
    "                CONFIG.gibbs_sampling_steps).to(CONFIG.device)\n",
    "      mat_q_trend, mat_q_resid = preprocess_data(CONFIG.spectral_threshold, mat_q)\n",
    "      mat_c, mat_x, nonempty, representatives = compress_data(\n",
    "          mat_q_resid.abs(), CONFIG.read_period, CONFIG.train_period, CONFIG.alpha)\n",
    "      print(mat_c.shape)\n",
    "      mat_q_trend = mat_q_trend[:, nonempty][:, representatives].abs()\n",
    "    #   mat_q_resid = mat_q_resid[:, nonempty].real\n",
    "\n",
    "      (_, val_trend_wd_dataloader, _), (_, val_trend_we_dataloader, _) = crop_and_split_mat(mat_q_trend, CONFIG)\n",
    "      # (_, val_resid_wd_dataloader, _), (_, val_resid_we_dataloader, _) = crop_and_split_mat(mat_q_resid, CONFIG)\n",
    "      mat_c_wd_datasets, mat_c_we_datasets = split_mat(mat_c, CONFIG)\n",
    "\n",
    "      del mat_c\n",
    "\n",
    "      dbn, kelm, val_resid_we_dataloader = train_with_config(CONFIG, dbn, mat_c_we_datasets, dbn_training_epochs=100, stride=1, gamma=gamma, reg_coeff=reg_coeff)\n",
    "\n",
    "      mse_loss = torch.tensor([0.,]).to(CONFIG.device)\n",
    "      iter_trend = iter(val_trend_we_dataloader)\n",
    "      n_samples = 0\n",
    "      for X_resid, y_resid in val_resid_we_dataloader:\n",
    "          X_trend, y_trend = next(iter_trend)\n",
    "          pred_trend = ssa.forecast(X_trend.squeeze().T, 1).sum(0)[-1][None]\n",
    "\n",
    "          pred_resid = dbn(X_resid).squeeze()\n",
    "          pred_resid = kelm(pred_resid).T\n",
    "\n",
    "          pred = pred_trend + pred_resid\n",
    "\n",
    "          y = y_trend + y_resid\n",
    "\n",
    "          mse_loss += mse(pred, y)\n",
    "          n_samples += 1\n",
    "\n",
    "      mse_loss /= n_samples\n",
    "\n",
    "      print(f'gamma={gamma}, reg_coeff={reg_coeff}, WE P={CONFIG.spectral_threshold}, N={CONFIG.dbn_hidden_layer_sizes}, Loss={mse_loss.item()}')\n",
    "\n",
    "    # N = results_wd[P]\n",
    "    # data = torch.tensor(tuple(results_wd[P].items()))\n",
    "    # plt.suptitle(f'WD P={P}')\n",
    "    # plt.xlabel('N')\n",
    "    # plt.ylabel('Loss')\n",
    "    # plt.plot(data[:, 0], data[:, 1])\n",
    "    # plt.show()\n",
    "\n",
    "    # N = results_we[P]\n",
    "    # data = torch.tensor(tuple(results_we[P].items()))\n",
    "    # plt.suptitle(f'WE P={P}')\n",
    "    # plt.xlabel('N')\n",
    "    # plt.ylabel('Loss')\n",
    "    # plt.plot(data[:, 0], data[:, 1])\n",
    "    # plt.show()"
   ]
  },
  {
   "cell_type": "code",
   "execution_count": 33,
   "metadata": {},
   "outputs": [
    {
     "ename": "KeyboardInterrupt",
     "evalue": "",
     "output_type": "error",
     "traceback": [
      "\u001b[0;31m---------------------------------------------------------------------------\u001b[0m",
      "\u001b[0;31mKeyboardInterrupt\u001b[0m                         Traceback (most recent call last)",
      "\u001b[1;32m/home/askar/TUM/IDP/IDP/04_model_training.ipynb Cell 6\u001b[0m line \u001b[0;36m1\n\u001b[1;32m      <a href='vscode-notebook-cell:/home/askar/TUM/IDP/IDP/04_model_training.ipynb#W5sZmlsZQ%3D%3D?line=7'>8</a>\u001b[0m pred_resid \u001b[39m=\u001b[39m dbn(X_resid)\u001b[39m.\u001b[39msqueeze()\n\u001b[1;32m      <a href='vscode-notebook-cell:/home/askar/TUM/IDP/IDP/04_model_training.ipynb#W5sZmlsZQ%3D%3D?line=8'>9</a>\u001b[0m pred_resid \u001b[39m=\u001b[39m kelm(pred_resid)\u001b[39m.\u001b[39mT\n\u001b[0;32m---> <a href='vscode-notebook-cell:/home/askar/TUM/IDP/IDP/04_model_training.ipynb#W5sZmlsZQ%3D%3D?line=10'>11</a>\u001b[0m pred \u001b[39m=\u001b[39m pred_trend \u001b[39m+\u001b[39m pred_resid\n\u001b[1;32m     <a href='vscode-notebook-cell:/home/askar/TUM/IDP/IDP/04_model_training.ipynb#W5sZmlsZQ%3D%3D?line=12'>13</a>\u001b[0m y \u001b[39m=\u001b[39m y_trend \u001b[39m+\u001b[39m y_resid\n\u001b[1;32m     <a href='vscode-notebook-cell:/home/askar/TUM/IDP/IDP/04_model_training.ipynb#W5sZmlsZQ%3D%3D?line=14'>15</a>\u001b[0m mse_loss \u001b[39m+\u001b[39m\u001b[39m=\u001b[39m mse(pred, y)\n",
      "\u001b[1;32m/home/askar/TUM/IDP/IDP/04_model_training.ipynb Cell 6\u001b[0m line \u001b[0;36m1\n\u001b[1;32m      <a href='vscode-notebook-cell:/home/askar/TUM/IDP/IDP/04_model_training.ipynb#W5sZmlsZQ%3D%3D?line=7'>8</a>\u001b[0m pred_resid \u001b[39m=\u001b[39m dbn(X_resid)\u001b[39m.\u001b[39msqueeze()\n\u001b[1;32m      <a href='vscode-notebook-cell:/home/askar/TUM/IDP/IDP/04_model_training.ipynb#W5sZmlsZQ%3D%3D?line=8'>9</a>\u001b[0m pred_resid \u001b[39m=\u001b[39m kelm(pred_resid)\u001b[39m.\u001b[39mT\n\u001b[0;32m---> <a href='vscode-notebook-cell:/home/askar/TUM/IDP/IDP/04_model_training.ipynb#W5sZmlsZQ%3D%3D?line=10'>11</a>\u001b[0m pred \u001b[39m=\u001b[39m pred_trend \u001b[39m+\u001b[39m pred_resid\n\u001b[1;32m     <a href='vscode-notebook-cell:/home/askar/TUM/IDP/IDP/04_model_training.ipynb#W5sZmlsZQ%3D%3D?line=12'>13</a>\u001b[0m y \u001b[39m=\u001b[39m y_trend \u001b[39m+\u001b[39m y_resid\n\u001b[1;32m     <a href='vscode-notebook-cell:/home/askar/TUM/IDP/IDP/04_model_training.ipynb#W5sZmlsZQ%3D%3D?line=14'>15</a>\u001b[0m mse_loss \u001b[39m+\u001b[39m\u001b[39m=\u001b[39m mse(pred, y)\n",
      "File \u001b[0;32m_pydevd_bundle/pydevd_cython.pyx:1457\u001b[0m, in \u001b[0;36m_pydevd_bundle.pydevd_cython.SafeCallWrapper.__call__\u001b[0;34m()\u001b[0m\n",
      "File \u001b[0;32m_pydevd_bundle/pydevd_cython.pyx:701\u001b[0m, in \u001b[0;36m_pydevd_bundle.pydevd_cython.PyDBFrame.trace_dispatch\u001b[0;34m()\u001b[0m\n",
      "File \u001b[0;32m_pydevd_bundle/pydevd_cython.pyx:1152\u001b[0m, in \u001b[0;36m_pydevd_bundle.pydevd_cython.PyDBFrame.trace_dispatch\u001b[0;34m()\u001b[0m\n",
      "File \u001b[0;32m_pydevd_bundle/pydevd_cython.pyx:1135\u001b[0m, in \u001b[0;36m_pydevd_bundle.pydevd_cython.PyDBFrame.trace_dispatch\u001b[0;34m()\u001b[0m\n",
      "File \u001b[0;32m_pydevd_bundle/pydevd_cython.pyx:312\u001b[0m, in \u001b[0;36m_pydevd_bundle.pydevd_cython.PyDBFrame.do_wait_suspend\u001b[0;34m()\u001b[0m\n",
      "File \u001b[0;32m~/miniconda3/envs/.idp/lib/python3.11/site-packages/debugpy/_vendored/pydevd/pydevd.py:2070\u001b[0m, in \u001b[0;36mPyDB.do_wait_suspend\u001b[0;34m(self, thread, frame, event, arg, exception_type)\u001b[0m\n\u001b[1;32m   2067\u001b[0m             from_this_thread\u001b[39m.\u001b[39mappend(frame_custom_thread_id)\n\u001b[1;32m   2069\u001b[0m     \u001b[39mwith\u001b[39;00m \u001b[39mself\u001b[39m\u001b[39m.\u001b[39m_threads_suspended_single_notification\u001b[39m.\u001b[39mnotify_thread_suspended(thread_id, thread, stop_reason):\n\u001b[0;32m-> 2070\u001b[0m         keep_suspended \u001b[39m=\u001b[39m \u001b[39mself\u001b[39m\u001b[39m.\u001b[39m_do_wait_suspend(thread, frame, event, arg, suspend_type, from_this_thread, frames_tracker)\n\u001b[1;32m   2072\u001b[0m frames_list \u001b[39m=\u001b[39m \u001b[39mNone\u001b[39;00m\n\u001b[1;32m   2074\u001b[0m \u001b[39mif\u001b[39;00m keep_suspended:\n\u001b[1;32m   2075\u001b[0m     \u001b[39m# This means that we should pause again after a set next statement.\u001b[39;00m\n",
      "File \u001b[0;32m~/miniconda3/envs/.idp/lib/python3.11/site-packages/debugpy/_vendored/pydevd/pydevd.py:2106\u001b[0m, in \u001b[0;36mPyDB._do_wait_suspend\u001b[0;34m(self, thread, frame, event, arg, suspend_type, from_this_thread, frames_tracker)\u001b[0m\n\u001b[1;32m   2103\u001b[0m         \u001b[39mself\u001b[39m\u001b[39m.\u001b[39m_call_input_hook()\n\u001b[1;32m   2105\u001b[0m     \u001b[39mself\u001b[39m\u001b[39m.\u001b[39mprocess_internal_commands()\n\u001b[0;32m-> 2106\u001b[0m     time\u001b[39m.\u001b[39msleep(\u001b[39m0.01\u001b[39m)\n\u001b[1;32m   2108\u001b[0m \u001b[39mself\u001b[39m\u001b[39m.\u001b[39mcancel_async_evaluation(get_current_thread_id(thread), \u001b[39mstr\u001b[39m(\u001b[39mid\u001b[39m(frame)))\n\u001b[1;32m   2110\u001b[0m \u001b[39m# process any stepping instructions\u001b[39;00m\n",
      "\u001b[0;31mKeyboardInterrupt\u001b[0m: "
     ]
    }
   ],
   "source": [
    "iter_trend = iter(val_trend_we_dataloader)\n",
    "mse_loss = 0\n",
    "n_samples = 0\n",
    "for X_resid, y_resid in val_resid_we_dataloader:\n",
    "    X_trend, y_trend = next(iter_trend)\n",
    "    pred_trend = ssa.forecast(X_trend.squeeze().T, 1).sum(0)[-1][None]\n",
    "\n",
    "    pred_resid = dbn(X_resid).squeeze()\n",
    "    pred_resid = kelm(pred_resid).T\n",
    "\n",
    "    pred = pred_trend + pred_resid\n",
    "\n",
    "    y = y_trend + y_resid\n",
    "\n",
    "    mse_loss += mse(pred, y)\n",
    "    n_samples += 1\n",
    "\n",
    "mse_loss /= n_samples\n",
    "\n",
    "print(f'gamma={gamma}, reg_coeff={reg_coeff}, WE P={CONFIG.spectral_threshold}, N={CONFIG.dbn_hidden_layer_sizes}, Loss={mse_loss.item()}')"
   ]
  }
 ],
 "metadata": {
  "kernelspec": {
   "display_name": ".idp",
   "language": "python",
   "name": "python3"
  },
  "language_info": {
   "codemirror_mode": {
    "name": "ipython",
    "version": 3
   },
   "file_extension": ".py",
   "mimetype": "text/x-python",
   "name": "python",
   "nbconvert_exporter": "python",
   "pygments_lexer": "ipython3",
   "version": "3.11.5"
  },
  "orig_nbformat": 4
 },
 "nbformat": 4,
 "nbformat_minor": 2
}
