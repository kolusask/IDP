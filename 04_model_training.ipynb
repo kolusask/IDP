{
 "cells": [
  {
   "cell_type": "code",
   "execution_count": null,
   "metadata": {},
   "outputs": [],
   "source": [
    "import torch\n",
    "\n",
    "import matplotlib.pyplot as plt\n",
    "import torchmetrics as tm\n",
    "\n",
    "from config import *\n",
    "from stages import *\n",
    "from train import *\n",
    "from data.ssa import SSA\n",
    "\n",
    "from data.util import crop_q_between, split_weekdays_and_weekends\n",
    "\n",
    "%reload_ext autoreload\n",
    "%autoreload 2"
   ]
  },
  {
   "cell_type": "code",
   "execution_count": null,
   "metadata": {},
   "outputs": [],
   "source": [
    "mse = tm.MeanSquaredError().to(CONFIG.device)\n",
    "mape = tm.MeanAbsolutePercentageError().to(CONFIG.device)\n",
    "CONFIG.device"
   ]
  },
  {
   "cell_type": "markdown",
   "metadata": {},
   "source": [
    "##### Compare MSE and MAPE losses for different parameter configurations"
   ]
  },
  {
   "cell_type": "markdown",
   "metadata": {},
   "source": [
    "Pre-train DBN and Train DBN attaching KELM on each epoch"
   ]
  },
  {
   "cell_type": "code",
   "execution_count": null,
   "metadata": {},
   "outputs": [],
   "source": [
    "results_wd = {}\n",
    "results_we = {}\n",
    "\n",
    "ssa = SSA(5, 2, CONFIG.device)\n",
    "mat_q = CONFIG.load('mat_q.pt')\n",
    "CONFIG.alpha = 0.03\n",
    "\n",
    "for P in range(3125, 28125, 3125):\n",
    "    CONFIG.spectral_threshold = P\n",
    "    dbn = DBN(CONFIG.time_window_length, CONFIG.dbn_hidden_layer_sizes,\n",
    "              CONFIG.gibbs_sampling_steps).to(CONFIG.device)\n",
    "    dbn_pretrained_state = dbn.state_dict()\n",
    "    for N in range(4, 360, 40):\n",
    "        CONFIG.dbn_hidden_layer_sizes = [N, N, N]\n",
    "\n",
    "        mat_q_trend, mat_q_resid = preprocess_data(P, mat_q)\n",
    "        mat_c, mat_x, representatives = compress_data(\n",
    "            mat_q_resid.abs(), CONFIG.read_period, CONFIG.train_period, CONFIG.alpha)\n",
    "        mat_q_trend = mat_q_trend[:, representatives].real\n",
    "        mat_q_resid = mat_q_resid[:, representatives].real\n",
    "        \n",
    "        (_, _, test_trend_wd_dataloader), (_, _, test_trend_we_dataloader) = crop_and_split_mat(mat_q_trend, CONFIG)\n",
    "        (_, _, test_resid_wd_dataloader), (_, _, test_resid_we_dataloader) = crop_and_split_mat(mat_q_resid, CONFIG)\n",
    "        mat_c_wd_datasets, mat_c_we_datasets = split_mat(mat_c, CONFIG)\n",
    "\n",
    "        del mat_c\n",
    "\n",
    "        dbn.load_state_dict(dbn_pretrained_state)\n",
    "\n",
    "        dbn, kelm = train_with_config(CONFIG, dbn, mat_c_we_datasets, dbn_training_epochs=100, stride=1)\n",
    "        # kelm = None\n",
    "\n",
    "        mse_loss = torch.tensor([0.,]).to(CONFIG.device)\n",
    "        iter_resid = iter(test_resid_we_dataloader)\n",
    "        for X_trend, y_trend in test_trend_we_dataloader:\n",
    "            X_resid, y_resid = next(iter_resid)\n",
    "            pred_resid = dbn(X_resid).squeeze()\n",
    "            pred_resid = kelm(pred_resid).T\n",
    "\n",
    "            pred_trend = ssa.forecast(X_trend.squeeze().T, 1).sum(0)[-1][None]\n",
    "            pred = pred_trend + pred_resid\n",
    "\n",
    "            y = y_trend + y_resid\n",
    "\n",
    "            mse_loss += mse(pred, y)\n",
    "\n",
    "        print(f'WE P={P}, N={N}, Loss={mse_loss.item()}')\n",
    "        results_we.setdefault(P, {})[N] = mse_loss\n",
    "\n",
    "\n",
    "    # N = results_wd[P]\n",
    "    # data = torch.tensor(tuple(results_wd[P].items()))\n",
    "    # plt.suptitle(f'WD P={P}')\n",
    "    # plt.xlabel('N')\n",
    "    # plt.ylabel('Loss')\n",
    "    # plt.plot(data[:, 0], data[:, 1])\n",
    "    # plt.show()\n",
    "\n",
    "    N = results_we[P]\n",
    "    data = torch.tensor(tuple(results_we[P].items()))\n",
    "    plt.suptitle(f'WE P={P}')\n",
    "    plt.xlabel('N')\n",
    "    plt.ylabel('Loss')\n",
    "    plt.plot(data[:, 0], data[:, 1])\n",
    "    plt.show()"
   ]
  }
 ],
 "metadata": {
  "kernelspec": {
   "display_name": ".idp",
   "language": "python",
   "name": "python3"
  },
  "language_info": {
   "codemirror_mode": {
    "name": "ipython",
    "version": 3
   },
   "file_extension": ".py",
   "mimetype": "text/x-python",
   "name": "python",
   "nbconvert_exporter": "python",
   "pygments_lexer": "ipython3",
   "version": "3.11.5"
  },
  "orig_nbformat": 4
 },
 "nbformat": 4,
 "nbformat_minor": 2
}
