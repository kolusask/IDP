{
 "cells": [
  {
   "cell_type": "code",
   "execution_count": 6,
   "metadata": {},
   "outputs": [],
   "source": [
    "import numpy as np\n",
    "import pandas as pd\n",
    "import sys\n",
    "import torch\n",
    "\n",
    "from datetime import datetime\n",
    "from pprint import pprint\n",
    "\n",
    "\n",
    "if 'src' not in sys.path:\n",
    "    sys.path.append('src')\n",
    "\n",
    "%reload_ext autoreload\n",
    "%autoreload 2\n",
    "\n",
    "from explore.data import DetectorDataProvider, LookUpTable\n",
    "from explore.graph import IntersectionGraph"
   ]
  },
  {
   "cell_type": "code",
   "execution_count": 2,
   "metadata": {},
   "outputs": [],
   "source": [
    "device = torch.device('cuda') if torch.cuda.is_available() else torch.device('cpu')"
   ]
  },
  {
   "attachments": {},
   "cell_type": "markdown",
   "metadata": {},
   "source": [
    "##### Select data"
   ]
  },
  {
   "attachments": {},
   "cell_type": "markdown",
   "metadata": {},
   "source": [
    "Select main sections"
   ]
  },
  {
   "cell_type": "code",
   "execution_count": 3,
   "metadata": {},
   "outputs": [],
   "source": [
    "# sections = (\n",
    "#     ('3030', '3040'),\n",
    "#     # ('3040', '3050'),\n",
    "#     # ('3030', '3050'),\n",
    "#     ('3022', '3040'),\n",
    "#     # ('3040', '0037'),\n",
    "#     # ('3050', '3110'),\n",
    "#     # ('3050', '3060'),\n",
    "#     ('3030', '2050'),\n",
    "# )"
   ]
  },
  {
   "attachments": {},
   "cell_type": "markdown",
   "metadata": {},
   "source": [
    "Override to select all sections (except ones with missing/broken data)"
   ]
  },
  {
   "cell_type": "code",
   "execution_count": 9,
   "metadata": {},
   "outputs": [
    {
     "name": "stderr",
     "output_type": "stream",
     "text": [
      "c:\\Users\\19ak9\\TUM\\IDP\\src\\explore\\data.py:76: UserWarning: Boolean Series key will be reindexed to match DataFrame index.\n",
      "  self.lookup_table = self.lookup_table[\n"
     ]
    },
    {
     "name": "stdout",
     "output_type": "stream",
     "text": [
      "[('5050', '5051'),\n",
      " ('8604', 'Pascalstraße'),\n",
      " ('43', '9503'),\n",
      " ('43', 'Barthlgasstrasse'),\n",
      " ('4140', 'Audi Ring'),\n",
      " ('54', '6042'),\n",
      " ('8505', 'Am Sportpark'),\n",
      " ('3022', '48'),\n",
      " ('3120', 'Gutenberg strasse North'),\n",
      " ('4010', '5020')]\n"
     ]
    }
   ],
   "source": [
    "lut = LookUpTable('Data')\n",
    "sections = set()\n",
    "for inter in lut.list_intersections():\n",
    "    detectors = lut.get_detectors_on(inter)\n",
    "    for sec in detectors[['Starting Intersection', 'Ending Intersection']].values:\n",
    "        sections.add(tuple(sorted(sec)))\n",
    "pprint(list(sections)[:10])"
   ]
  },
  {
   "attachments": {},
   "cell_type": "markdown",
   "metadata": {},
   "source": [
    "Exctract list of detectors for each section"
   ]
  },
  {
   "cell_type": "code",
   "execution_count": 5,
   "metadata": {},
   "outputs": [
    {
     "name": "stderr",
     "output_type": "stream",
     "text": [
      "c:\\Users\\19ak9\\TUM\\IDP\\src\\explore\\data.py:76: UserWarning: Boolean Series key will be reindexed to match DataFrame index.\n",
      "  self.lookup_table = self.lookup_table[\n"
     ]
    },
    {
     "data": {
      "text/html": [
       "<div>\n",
       "<style scoped>\n",
       "    .dataframe tbody tr th:only-of-type {\n",
       "        vertical-align: middle;\n",
       "    }\n",
       "\n",
       "    .dataframe tbody tr th {\n",
       "        vertical-align: top;\n",
       "    }\n",
       "\n",
       "    .dataframe thead th {\n",
       "        text-align: right;\n",
       "    }\n",
       "</style>\n",
       "<table border=\"1\" class=\"dataframe\">\n",
       "  <thead>\n",
       "    <tr style=\"text-align: right;\">\n",
       "      <th></th>\n",
       "      <th>Start</th>\n",
       "      <th>End</th>\n",
       "      <th>Detectors</th>\n",
       "    </tr>\n",
       "  </thead>\n",
       "  <tbody>\n",
       "    <tr>\n",
       "      <th>0</th>\n",
       "      <td>3030</td>\n",
       "      <td>Löns Straße</td>\n",
       "      <td>[]</td>\n",
       "    </tr>\n",
       "    <tr>\n",
       "      <th>1</th>\n",
       "      <td>Löns Straße</td>\n",
       "      <td>3030</td>\n",
       "      <td>[8(DE1)]</td>\n",
       "    </tr>\n",
       "    <tr>\n",
       "      <th>2</th>\n",
       "      <td>33</td>\n",
       "      <td>8602</td>\n",
       "      <td>[7(DC1), 8(DC2), 9(DC3)]</td>\n",
       "    </tr>\n",
       "    <tr>\n",
       "      <th>3</th>\n",
       "      <td>8602</td>\n",
       "      <td>33</td>\n",
       "      <td>[]</td>\n",
       "    </tr>\n",
       "    <tr>\n",
       "      <th>4</th>\n",
       "      <td>3100</td>\n",
       "      <td>37</td>\n",
       "      <td>[]</td>\n",
       "    </tr>\n",
       "    <tr>\n",
       "      <th>...</th>\n",
       "      <td>...</td>\n",
       "      <td>...</td>\n",
       "      <td>...</td>\n",
       "    </tr>\n",
       "    <tr>\n",
       "      <th>463</th>\n",
       "      <td>7040</td>\n",
       "      <td>19</td>\n",
       "      <td>[]</td>\n",
       "    </tr>\n",
       "    <tr>\n",
       "      <th>464</th>\n",
       "      <td>4230</td>\n",
       "      <td>8605</td>\n",
       "      <td>[3(DB1)]</td>\n",
       "    </tr>\n",
       "    <tr>\n",
       "      <th>465</th>\n",
       "      <td>8605</td>\n",
       "      <td>4230</td>\n",
       "      <td>[3(DC)]</td>\n",
       "    </tr>\n",
       "    <tr>\n",
       "      <th>466</th>\n",
       "      <td>3110</td>\n",
       "      <td>3200</td>\n",
       "      <td>[1(DA1)]</td>\n",
       "    </tr>\n",
       "    <tr>\n",
       "      <th>467</th>\n",
       "      <td>3200</td>\n",
       "      <td>3110</td>\n",
       "      <td>[4(DB1), 5(DB2)]</td>\n",
       "    </tr>\n",
       "  </tbody>\n",
       "</table>\n",
       "<p>468 rows × 3 columns</p>\n",
       "</div>"
      ],
      "text/plain": [
       "           Start          End                 Detectors\n",
       "0           3030  Löns Straße                        []\n",
       "1    Löns Straße         3030                  [8(DE1)]\n",
       "2             33         8602  [7(DC1), 8(DC2), 9(DC3)]\n",
       "3           8602           33                        []\n",
       "4           3100           37                        []\n",
       "..           ...          ...                       ...\n",
       "463         7040           19                        []\n",
       "464         4230         8605                  [3(DB1)]\n",
       "465         8605         4230                   [3(DC)]\n",
       "466         3110         3200                  [1(DA1)]\n",
       "467         3200         3110          [4(DB1), 5(DB2)]\n",
       "\n",
       "[468 rows x 3 columns]"
      ]
     },
     "execution_count": 5,
     "metadata": {},
     "output_type": "execute_result"
    }
   ],
   "source": [
    "lut = LookUpTable('Data')\n",
    "def construct_int_det(sections):\n",
    "    int_det = []\n",
    "    for int_1, int_2 in sections:\n",
    "        det_1_2, det_2_1 = lut.get_detectors_between(int_1, int_2)\n",
    "        int_det.append((int_1, int_2, det_1_2))\n",
    "        int_det.append((int_2, int_1, det_2_1))\n",
    "    int_det = pd.DataFrame(int_det, columns=['Start', 'End', 'Detectors'])\n",
    "    return int_det\n",
    "    \n",
    "int_det = construct_int_det(sections)\n",
    "int_det"
   ]
  },
  {
   "cell_type": "code",
   "execution_count": 6,
   "metadata": {},
   "outputs": [
    {
     "name": "stdout",
     "output_type": "stream",
     "text": [
      "['0007', '0012', '0013', '0014', '0017', '0019', '0022', '0023', '0024', '0025', '0026', '0031', '0033', '0036', '0037', '0042', '0043', '0048', '0049', '0051', '0052', '0053', '0054', '1010', '1011', '1012', '1022', '1040', '1061', '1080', '2010', '2050', '3010', '3021', '3022', '3030', '3040', '3050', '3060', '3080', '3090', '3091', '3100', '3110', '3120', '3130', '3140', '3150', '3160', '3180', '3200', '4010', '4020', '4040', '4050', '4060', '4070', '4090', '4100', '4110', '4120', '4140', '4150', '4160', '4210', '4230', '4240', '4250', '5011', '5012', '5020', '5030', '5031', '5040', '5050', '5051', '5060', '5080', '5090', '6010', '6020', '6021', '6022', '6023', '6030', '6041', '6042', '6043', '6050', '6060', '6070', '6080', '6090', '6100', '7020', '7040', '8001', '8002', '8003', '8004', '8005', '8006', '8008', '8301', '8401', '8402', '8403', '8502', '8505', '8602', '8603', '8604', '8605', '8606', '9503']\n"
     ]
    }
   ],
   "source": [
    "ddp = DetectorDataProvider('Data')\n",
    "print(ddp.list_intersections())"
   ]
  },
  {
   "attachments": {},
   "cell_type": "markdown",
   "metadata": {},
   "source": [
    "Extract data from January to August and accumulate counts by section"
   ]
  },
  {
   "cell_type": "code",
   "execution_count": 7,
   "metadata": {},
   "outputs": [
    {
     "ename": "TypeError",
     "evalue": "to_hdf() missing 1 required positional argument: 'key'",
     "output_type": "error",
     "traceback": [
      "\u001b[1;31m---------------------------------------------------------------------------\u001b[0m",
      "\u001b[1;31mTypeError\u001b[0m                                 Traceback (most recent call last)",
      "Cell \u001b[1;32mIn [7], line 17\u001b[0m\n\u001b[0;32m     14\u001b[0m     int_det[\u001b[39m'\u001b[39m\u001b[39mCounts\u001b[39m\u001b[39m'\u001b[39m] \u001b[39m=\u001b[39m int_det\u001b[39m.\u001b[39mapply(\u001b[39mlambda\u001b[39;00m sec: get_count(sec[\u001b[39m'\u001b[39m\u001b[39mEnd\u001b[39m\u001b[39m'\u001b[39m], sec[\u001b[39m'\u001b[39m\u001b[39mDetectors\u001b[39m\u001b[39m'\u001b[39m]), axis\u001b[39m=\u001b[39m\u001b[39m1\u001b[39m)\n\u001b[0;32m     16\u001b[0m count_traffic(int_det)\n\u001b[1;32m---> 17\u001b[0m int_det\u001b[39m.\u001b[39;49mto_hdf(\u001b[39m'\u001b[39;49m\u001b[39mint_det_excluded_missing.hdf\u001b[39;49m\u001b[39m'\u001b[39;49m)\n\u001b[0;32m     18\u001b[0m int_det\n",
      "\u001b[1;31mTypeError\u001b[0m: to_hdf() missing 1 required positional argument: 'key'"
     ]
    }
   ],
   "source": [
    "START_DATE = datetime(2021, 1, 1)\n",
    "END_DATE = datetime(2021, 12, 1)\n",
    "\n",
    "def count_traffic(int_det, start_date=START_DATE, end_date=END_DATE):\n",
    "    lens = set()\n",
    "    def get_count(section_end, detectors):\n",
    "        section_data = ddp.get_data_for_period(section_end, START_DATE, END_DATE)\n",
    "        for col in section_data.columns:\n",
    "            section_data[col] = pd.to_numeric(section_data[col], errors='coerce')\n",
    "        try:\n",
    "            return list(section_data[detectors].fillna(0).sum(axis=1, numeric_only=True).cumsum())\n",
    "        except KeyError:\n",
    "            print(section_end, section_data.columns, detectors)\n",
    "    int_det['Counts'] = int_det.apply(lambda sec: get_count(sec['End'], sec['Detectors']), axis=1)\n",
    "\n",
    "count_traffic(int_det)\n",
    "int_det.to_hdf('int_det_excluded_missing.hdf', 'int_det')\n",
    "int_det"
   ]
  },
  {
   "cell_type": "code",
   "execution_count": 11,
   "metadata": {},
   "outputs": [
    {
     "name": "stderr",
     "output_type": "stream",
     "text": [
      "C:\\Users\\19ak9\\AppData\\Local\\Temp\\ipykernel_11424\\1132906691.py:1: PerformanceWarning: \n",
      "your performance may suffer as PyTables will pickle object types that it cannot\n",
      "map directly to c-types [inferred_type->mixed,key->block0_values] [items->Index(['Start', 'End', 'Detectors', 'Counts'], dtype='object')]\n",
      "\n",
      "  int_det.to_hdf('int_det_excluded_missing.hdf', 'int_det')\n"
     ]
    }
   ],
   "source": [
    "int_det.to_hdf('int_det_excluded_missing.hdf', 'int_det')"
   ]
  },
  {
   "cell_type": "code",
   "execution_count": 12,
   "metadata": {},
   "outputs": [
    {
     "data": {
      "text/html": [
       "<div>\n",
       "<style scoped>\n",
       "    .dataframe tbody tr th:only-of-type {\n",
       "        vertical-align: middle;\n",
       "    }\n",
       "\n",
       "    .dataframe tbody tr th {\n",
       "        vertical-align: top;\n",
       "    }\n",
       "\n",
       "    .dataframe thead th {\n",
       "        text-align: right;\n",
       "    }\n",
       "</style>\n",
       "<table border=\"1\" class=\"dataframe\">\n",
       "  <thead>\n",
       "    <tr style=\"text-align: right;\">\n",
       "      <th></th>\n",
       "      <th>Start</th>\n",
       "      <th>End</th>\n",
       "      <th>Detectors</th>\n",
       "      <th>Counts</th>\n",
       "    </tr>\n",
       "  </thead>\n",
       "  <tbody>\n",
       "    <tr>\n",
       "      <th>0</th>\n",
       "      <td>3030</td>\n",
       "      <td>Löns Straße</td>\n",
       "      <td>[]</td>\n",
       "      <td>[0.0, 0.0, 0.0, 0.0, 0.0, 0.0, 0.0, 0.0, 0.0, ...</td>\n",
       "    </tr>\n",
       "    <tr>\n",
       "      <th>1</th>\n",
       "      <td>Löns Straße</td>\n",
       "      <td>3030</td>\n",
       "      <td>[8(DE1)]</td>\n",
       "      <td>[0.0, 0.0, 0.0, 0.0, 0.0, 0.0, 0.0, 0.0, 0.0, ...</td>\n",
       "    </tr>\n",
       "    <tr>\n",
       "      <th>2</th>\n",
       "      <td>33</td>\n",
       "      <td>8602</td>\n",
       "      <td>[7(DC1), 8(DC2), 9(DC3)]</td>\n",
       "      <td>[0.0, 0.0, 0.0, 0.0, 0.0, 0.0, 0.0, 0.0, 0.0, ...</td>\n",
       "    </tr>\n",
       "    <tr>\n",
       "      <th>3</th>\n",
       "      <td>8602</td>\n",
       "      <td>33</td>\n",
       "      <td>[]</td>\n",
       "      <td>[0.0, 0.0, 0.0, 0.0, 0.0, 0.0, 0.0, 0.0, 0.0, ...</td>\n",
       "    </tr>\n",
       "    <tr>\n",
       "      <th>4</th>\n",
       "      <td>3100</td>\n",
       "      <td>37</td>\n",
       "      <td>[]</td>\n",
       "      <td>[0.0, 0.0, 0.0, 0.0, 0.0, 0.0, 0.0, 0.0, 0.0, ...</td>\n",
       "    </tr>\n",
       "    <tr>\n",
       "      <th>...</th>\n",
       "      <td>...</td>\n",
       "      <td>...</td>\n",
       "      <td>...</td>\n",
       "      <td>...</td>\n",
       "    </tr>\n",
       "    <tr>\n",
       "      <th>463</th>\n",
       "      <td>7040</td>\n",
       "      <td>19</td>\n",
       "      <td>[]</td>\n",
       "      <td>[0.0, 0.0, 0.0, 0.0, 0.0, 0.0, 0.0, 0.0, 0.0, ...</td>\n",
       "    </tr>\n",
       "    <tr>\n",
       "      <th>464</th>\n",
       "      <td>4230</td>\n",
       "      <td>8605</td>\n",
       "      <td>[3(DB1)]</td>\n",
       "      <td>[0.0, 0.0, 1.0, 2.0, 2.0, 2.0, 2.0, 2.0, 2.0, ...</td>\n",
       "    </tr>\n",
       "    <tr>\n",
       "      <th>465</th>\n",
       "      <td>8605</td>\n",
       "      <td>4230</td>\n",
       "      <td>[3(DC)]</td>\n",
       "      <td>[0.0, 0.0, 0.0, 0.0, 0.0, 0.0, 1.0, 2.0, 2.0, ...</td>\n",
       "    </tr>\n",
       "    <tr>\n",
       "      <th>466</th>\n",
       "      <td>3110</td>\n",
       "      <td>3200</td>\n",
       "      <td>[1(DA1)]</td>\n",
       "      <td>[0.0, 2.0, 3.0, 4.0, 4.0, 5.0, 5.0, 5.0, 5.0, ...</td>\n",
       "    </tr>\n",
       "    <tr>\n",
       "      <th>467</th>\n",
       "      <td>3200</td>\n",
       "      <td>3110</td>\n",
       "      <td>[4(DB1), 5(DB2)]</td>\n",
       "      <td>[1.0, 3.0, 6.0, 8.0, 9.0, 12.0, 12.0, 12.0, 14...</td>\n",
       "    </tr>\n",
       "  </tbody>\n",
       "</table>\n",
       "<p>468 rows × 4 columns</p>\n",
       "</div>"
      ],
      "text/plain": [
       "           Start          End                 Detectors  \\\n",
       "0           3030  Löns Straße                        []   \n",
       "1    Löns Straße         3030                  [8(DE1)]   \n",
       "2             33         8602  [7(DC1), 8(DC2), 9(DC3)]   \n",
       "3           8602           33                        []   \n",
       "4           3100           37                        []   \n",
       "..           ...          ...                       ...   \n",
       "463         7040           19                        []   \n",
       "464         4230         8605                  [3(DB1)]   \n",
       "465         8605         4230                   [3(DC)]   \n",
       "466         3110         3200                  [1(DA1)]   \n",
       "467         3200         3110          [4(DB1), 5(DB2)]   \n",
       "\n",
       "                                                Counts  \n",
       "0    [0.0, 0.0, 0.0, 0.0, 0.0, 0.0, 0.0, 0.0, 0.0, ...  \n",
       "1    [0.0, 0.0, 0.0, 0.0, 0.0, 0.0, 0.0, 0.0, 0.0, ...  \n",
       "2    [0.0, 0.0, 0.0, 0.0, 0.0, 0.0, 0.0, 0.0, 0.0, ...  \n",
       "3    [0.0, 0.0, 0.0, 0.0, 0.0, 0.0, 0.0, 0.0, 0.0, ...  \n",
       "4    [0.0, 0.0, 0.0, 0.0, 0.0, 0.0, 0.0, 0.0, 0.0, ...  \n",
       "..                                                 ...  \n",
       "463  [0.0, 0.0, 0.0, 0.0, 0.0, 0.0, 0.0, 0.0, 0.0, ...  \n",
       "464  [0.0, 0.0, 1.0, 2.0, 2.0, 2.0, 2.0, 2.0, 2.0, ...  \n",
       "465  [0.0, 0.0, 0.0, 0.0, 0.0, 0.0, 1.0, 2.0, 2.0, ...  \n",
       "466  [0.0, 2.0, 3.0, 4.0, 4.0, 5.0, 5.0, 5.0, 5.0, ...  \n",
       "467  [1.0, 3.0, 6.0, 8.0, 9.0, 12.0, 12.0, 12.0, 14...  \n",
       "\n",
       "[468 rows x 4 columns]"
      ]
     },
     "execution_count": 12,
     "metadata": {},
     "output_type": "execute_result"
    }
   ],
   "source": [
    "int_det = pd.read_hdf('int_det_excluded_missing.hdf', converters={'Counts': pd.eval})\n",
    "int_det"
   ]
  },
  {
   "attachments": {},
   "cell_type": "markdown",
   "metadata": {},
   "source": [
    "##### Transform data into expected format"
   ]
  },
  {
   "attachments": {},
   "cell_type": "markdown",
   "metadata": {},
   "source": [
    "Write counts into a matrix\n",
    "$$Q=[q_1,q_2,...,q_p]$$\n",
    "for\n",
    "$$q_i=\\set{z(s_i,t_1),z(s_i,t_2),...z(s_i,t_d)}^T,$$\n",
    "$z(s_i,t_j)$ is the traffic flow of the road section $s_i$ within the time interval $(t_0,t_j)$"
   ]
  },
  {
   "cell_type": "code",
   "execution_count": 16,
   "metadata": {},
   "outputs": [
    {
     "data": {
      "text/plain": [
       "torch.Size([32064, 4])"
      ]
     },
     "execution_count": 16,
     "metadata": {},
     "output_type": "execute_result"
    }
   ],
   "source": [
    "def construct_q(int_det: pd.DataFrame, ignore: tuple = None):\n",
    "    if ignore is None:\n",
    "        ignore = []\n",
    "    else:\n",
    "        ignore.update({tuple(reversed(pair)) for pair in ignore})\n",
    "    # int_det = int_det.astype({'Start': 'str', 'End': 'str'}).set_index(['Start', 'End'])\n",
    "    mat_q = torch.stack([torch.from_numpy(np.array(a).astype(float)) \\\n",
    "        for a in int_det.loc[int_det.index.difference(ignore)]['Counts'].tolist()]).T\n",
    "    return mat_q\n",
    "\n",
    "mat_q = construct_q(int_det, {s for s in sections if s not in (('3100', '37'), ('37', '3100'), ('1011', '1010'), ('1010', '1011'))})\n",
    "torch.save(mat_q, 'mat_q_excluded_missing.pt')\n",
    "mat_q.shape"
   ]
  },
  {
   "cell_type": "code",
   "execution_count": 60,
   "metadata": {},
   "outputs": [
    {
     "data": {
      "text/plain": [
       "torch.Size([32064, 233])"
      ]
     },
     "execution_count": 60,
     "metadata": {},
     "output_type": "execute_result"
    }
   ],
   "source": [
    "mat_q.shape"
   ]
  },
  {
   "attachments": {},
   "cell_type": "markdown",
   "metadata": {},
   "source": [
    "Construct a correlation coefficient matrix\n",
    "$$\n",
    "R(i, j)=\\frac{\\sum_{k=1}^d(z(s_i,t_k)-\\tilde{z}(s_i))(z(s_j,t_k)-\\tilde{z}(s_j))}{\\sqrt{\\sum_{k=1}^d(z(s_i,t_k)-\\tilde{z}(s_i))^2}\\sqrt{\\sum_{k=1}^d(z(s_j,t_k)-\\tilde{z}(s_j))^2}},\n",
    "$$\n",
    "where $$\\tilde{z}(s_i)=\\frac{1}{d}\\sum_{k=1}^dz(s_i,t_k)$$"
   ]
  },
  {
   "cell_type": "code",
   "execution_count": 54,
   "metadata": {},
   "outputs": [
    {
     "data": {
      "text/plain": [
       "tensor([[0.0000, 0.0000, 0.0000,  ..., 0.0000, 0.0000, 0.0000],\n",
       "        [0.0000, 1.0000, 0.9995,  ..., 1.0000, 0.9719, 0.0000],\n",
       "        [0.0000, 0.9995, 1.0000,  ..., 0.9995, 0.9779, 0.0000],\n",
       "        ...,\n",
       "        [0.0000, 1.0000, 0.9995,  ..., 1.0000, 0.9718, 0.0000],\n",
       "        [0.0000, 0.9719, 0.9779,  ..., 0.9718, 1.0000, 0.0000],\n",
       "        [0.0000, 0.0000, 0.0000,  ..., 0.0000, 0.0000, 0.0000]])"
      ]
     },
     "execution_count": 54,
     "metadata": {},
     "output_type": "execute_result"
    }
   ],
   "source": [
    "def construct_r(mat_q):\n",
    "    d, p = mat_q.shape\n",
    "    mat_q_normalized = mat_q - mat_q.mean(dim=0)\n",
    "    mat_r = torch.zeros(p, p)\n",
    "    for i in range(p):\n",
    "        for j in range(i, p):\n",
    "            i_col = mat_q_normalized[:, i]\n",
    "            j_col = mat_q_normalized[:, j]\n",
    "            i_norm = max(torch.norm(i_col), 1e-12)\n",
    "            j_norm = max(torch.norm(j_col), 1e-12)\n",
    "            if i_norm == 0 or j_norm == 0:\n",
    "                if i_norm == j_norm:\n",
    "                    mat_r[i][j] = 1\n",
    "                else:\n",
    "                    mat_r[i][j] = 0\n",
    "            else:\n",
    "                mat_r[i][j] = (i_col @ j_col) / i_norm / j_norm\n",
    "            mat_r[j][i] = mat_r[i][j]\n",
    "    return mat_r\n",
    "\n",
    "mat_r = construct_r(mat_q)\n",
    "torch.save(mat_r, 'mat_r_excluded_missing.pt')\n",
    "mat_r"
   ]
  },
  {
   "attachments": {},
   "cell_type": "markdown",
   "metadata": {},
   "source": [
    "Load matrices R and Q"
   ]
  },
  {
   "cell_type": "code",
   "execution_count": 55,
   "metadata": {},
   "outputs": [],
   "source": [
    "mat_q = torch.load('mat_q_excluded_missing.pt')\n",
    "mat_r = torch.load('mat_r_excluded_missing.pt')"
   ]
  },
  {
   "cell_type": "code",
   "execution_count": 68,
   "metadata": {},
   "outputs": [],
   "source": [
    "id = int_det.astype({'Start': 'str', 'End': 'str'}).set_index(['Start', 'End'])"
   ]
  },
  {
   "cell_type": "code",
   "execution_count": 79,
   "metadata": {},
   "outputs": [
    {
     "ename": "NameError",
     "evalue": "name 'int_dat' is not defined",
     "output_type": "error",
     "traceback": [
      "\u001b[1;31m---------------------------------------------------------------------------\u001b[0m",
      "\u001b[1;31mNameError\u001b[0m                                 Traceback (most recent call last)",
      "Cell \u001b[1;32mIn [79], line 2\u001b[0m\n\u001b[0;32m      1\u001b[0m \u001b[39mid\u001b[39m\u001b[39m.\u001b[39mloc[\u001b[39mid\u001b[39m\u001b[39m.\u001b[39mindex\u001b[39m.\u001b[39mdifference(((\u001b[39m'\u001b[39m\u001b[39mSteinheilstrasse\u001b[39m\u001b[39m'\u001b[39m, \u001b[39m'\u001b[39m\u001b[39m6070\u001b[39m\u001b[39m'\u001b[39m), (\u001b[39m'\u001b[39m\u001b[39m7020\u001b[39m\u001b[39m'\u001b[39m, \u001b[39m'\u001b[39m\u001b[39m6010\u001b[39m\u001b[39m'\u001b[39m)))]\n\u001b[1;32m----> 2\u001b[0m construct_q(int_dat, ignore\u001b[39m=\u001b[39m[((\u001b[39m'\u001b[39m\u001b[39mSteinheilstrasse\u001b[39m\u001b[39m'\u001b[39m, \u001b[39m'\u001b[39m\u001b[39m6070\u001b[39m\u001b[39m'\u001b[39m),)])\n",
      "\u001b[1;31mNameError\u001b[0m: name 'int_dat' is not defined"
     ]
    }
   ],
   "source": [
    "id.loc[id.index.difference((('Steinheilstrasse', '6070'), ('7020', '6010')))]\n",
    "construct_q(int_dat, ignore=[(('Steinheilstrasse', '6070'),)])"
   ]
  }
 ],
 "metadata": {
  "kernelspec": {
   "display_name": ".idp",
   "language": "python",
   "name": "python3"
  },
  "language_info": {
   "codemirror_mode": {
    "name": "ipython",
    "version": 3
   },
   "file_extension": ".py",
   "mimetype": "text/x-python",
   "name": "python",
   "nbconvert_exporter": "python",
   "pygments_lexer": "ipython3",
   "version": "3.9.15"
  },
  "orig_nbformat": 4,
  "vscode": {
   "interpreter": {
    "hash": "912fb52f238e5d0393cd3cb39c1046be4cbf42cc336ebf4385af401bc969f2f7"
   }
  }
 },
 "nbformat": 4,
 "nbformat_minor": 2
}
