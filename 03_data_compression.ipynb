{
 "cells": [
  {
   "cell_type": "code",
   "execution_count": 3,
   "metadata": {},
   "outputs": [],
   "source": [
    "import torch"
   ]
  },
  {
   "attachments": {},
   "cell_type": "markdown",
   "metadata": {},
   "source": [
    "Load matrix $Q$"
   ]
  },
  {
   "cell_type": "code",
   "execution_count": 4,
   "metadata": {},
   "outputs": [],
   "source": [
    "mat_q = torch.load('mat_q_excluded_missing.pt')"
   ]
  },
  {
   "cell_type": "markdown",
   "metadata": {},
   "source": [
    "Construct a correlation coefficient matrix\n",
    "$$\n",
    "R(i, j)=\\frac{\\sum_{k=1}^d(z(s_i,t_k)-\\tilde{z}(s_i))(z(s_j,t_k)-\\tilde{z}(s_j))}{\\sqrt{\\sum_{k=1}^d(z(s_i,t_k)-\\tilde{z}(s_i))^2}\\sqrt{\\sum_{k=1}^d(z(s_j,t_k)-\\tilde{z}(s_j))^2}},\n",
    "$$\n",
    "where $$\\tilde{z}(s_i)=\\frac{1}{d}\\sum_{k=1}^dz(s_i,t_k)$$"
   ]
  },
  {
   "cell_type": "code",
   "execution_count": 5,
   "metadata": {},
   "outputs": [
    {
     "data": {
      "text/plain": [
       "tensor([[0.0000, 0.0000, 0.0000,  ..., 0.0000, 0.0000, 0.0000],\n",
       "        [0.0000, 1.0000, 0.9998,  ..., 0.9999, 0.0000, 0.9144],\n",
       "        [0.0000, 0.9998, 1.0000,  ..., 0.9998, 0.0000, 0.9150],\n",
       "        ...,\n",
       "        [0.0000, 0.9999, 0.9998,  ..., 1.0000, 0.0000, 0.9167],\n",
       "        [0.0000, 0.0000, 0.0000,  ..., 0.0000, 0.0000, 0.0000],\n",
       "        [0.0000, 0.9144, 0.9150,  ..., 0.9167, 0.0000, 1.0000]])"
      ]
     },
     "execution_count": 5,
     "metadata": {},
     "output_type": "execute_result"
    }
   ],
   "source": [
    "def construct_r(mat_q, ignore: set=None):\n",
    "    if ignore is None:\n",
    "        ignore = set()\n",
    "    d, p = mat_q.shape\n",
    "    mat_q_normalized = mat_q - mat_q.mean(dim=0)\n",
    "    mat_r = torch.zeros(p, p)\n",
    "    for i in range(p):\n",
    "        for j in range(i, p):\n",
    "            if (i, j) in ignore:\n",
    "                mat_r[i][j] = 0.0\n",
    "            else:\n",
    "                i_col = mat_q_normalized[:, i]\n",
    "                j_col = mat_q_normalized[:, j]\n",
    "                i_norm = max(torch.norm(i_col), 1e-12)\n",
    "                j_norm = max(torch.norm(j_col), 1e-12)\n",
    "                if i_norm == 0 or j_norm == 0:\n",
    "                    if i_norm == j_norm:\n",
    "                        mat_r[i][j] = 1\n",
    "                    else:\n",
    "                        mat_r[i][j] = 0\n",
    "                else:\n",
    "                    mat_r[i][j] = (i_col @ j_col) / i_norm / j_norm\n",
    "            mat_r[j][i] = mat_r[i][j]\n",
    "    return mat_r\n",
    "\n",
    "mat_r = construct_r(mat_q)\n",
    "torch.save(mat_r, 'mat_r_excluded_missing.pt')\n",
    "mat_r"
   ]
  },
  {
   "cell_type": "markdown",
   "metadata": {},
   "source": [
    "Load matrices R and Q"
   ]
  },
  {
   "cell_type": "code",
   "execution_count": 6,
   "metadata": {},
   "outputs": [],
   "source": [
    "mat_q = torch.load('mat_q_excluded_missing.pt')\n",
    "mat_r = torch.load('mat_r_excluded_missing.pt')\n",
    "mat_r = mat_r / mat_r.max()"
   ]
  },
  {
   "cell_type": "code",
   "execution_count": 7,
   "metadata": {},
   "outputs": [],
   "source": [
    "ALPHA = 0.9999\n",
    "\n",
    "n_timesteps, n_sections = mat_q.shape\n",
    "n_grouped = 0\n",
    "groups = []\n",
    "\n",
    "mat_r_copy = mat_r - torch.diag(mat_r.diag())\n",
    "while n_grouped < n_sections:\n",
    "    new_group_idx = torch.nonzero(mat_r_copy > ALPHA)\n",
    "    if len(new_group_idx) > 0:\n",
    "        corr = mat_r[new_group_idx[:, 0], new_group_idx[:, 1]]\n",
    "        new_group_idx = new_group_idx[:, 0].unique()\n",
    "\n",
    "        n_grouped += len(new_group_idx)\n",
    "        mat_r_copy[new_group_idx, :] = 0\n",
    "        mat_r_copy[:, new_group_idx] = 0\n",
    "        groups.append((new_group_idx, corr.min(), corr.max()))\n",
    "        if mat_r_copy.max() == 0:\n",
    "            break\n",
    "        else:\n",
    "            mat_r_copy /= mat_r_copy.max()\n",
    "del mat_r_copy"
   ]
  },
  {
   "cell_type": "markdown",
   "metadata": {},
   "source": [
    "Analyse grouping"
   ]
  },
  {
   "cell_type": "code",
   "execution_count": 8,
   "metadata": {},
   "outputs": [
    {
     "name": "stdout",
     "output_type": "stream",
     "text": [
      "Using alpha=0.9999, 468 correlated sections were divided into 24 groups:\n",
      "Group 1 - 182 sections with correlation coefficients 1.000 to 1.000\n",
      "Group 2 - 45 sections with correlation coefficients 1.000 to 1.000\n",
      "Group 3 - 26 sections with correlation coefficients 1.000 to 1.000\n",
      "Group 4 - 7 sections with correlation coefficients 1.000 to 1.000\n",
      "Group 5 - 3 sections with correlation coefficients 0.999 to 1.000\n",
      "Group 6 - 6 sections with correlation coefficients 0.999 to 0.999\n",
      "Group 7 - 6 sections with correlation coefficients 0.999 to 0.999\n",
      "Group 8 - 4 sections with correlation coefficients 0.999 to 0.999\n",
      "Group 9 - 4 sections with correlation coefficients 0.999 to 0.999\n",
      "Group 10 - 6 sections with correlation coefficients 0.998 to 0.998\n",
      "Group 11 - 2 sections with correlation coefficients 0.998 to 0.998\n",
      "Group 12 - 2 sections with correlation coefficients 0.998 to 0.998\n",
      "Group 13 - 2 sections with correlation coefficients 0.997 to 0.997\n",
      "Group 14 - 2 sections with correlation coefficients 0.996 to 0.996\n",
      "Group 15 - 2 sections with correlation coefficients 0.996 to 0.996\n",
      "Group 16 - 2 sections with correlation coefficients 0.995 to 0.995\n",
      "Group 17 - 2 sections with correlation coefficients 0.995 to 0.995\n",
      "Group 18 - 2 sections with correlation coefficients 0.987 to 0.987\n",
      "Group 19 - 2 sections with correlation coefficients 0.983 to 0.983\n",
      "Group 20 - 2 sections with correlation coefficients 0.980 to 0.980\n",
      "Group 21 - 2 sections with correlation coefficients 0.977 to 0.977\n",
      "Group 22 - 2 sections with correlation coefficients 0.967 to 0.967\n",
      "Group 23 - 2 sections with correlation coefficients 0.935 to 0.935\n",
      "Group 24 - 2 sections with correlation coefficients 0.865 to 0.865\n",
      "151 section(s) don't correlate with anything and weren't grouped\n"
     ]
    },
    {
     "name": "stderr",
     "output_type": "stream",
     "text": [
      "C:\\Users\\19ak9\\AppData\\Local\\Temp\\ipykernel_10020\\3453684837.py:5: UserWarning: The use of `x.T` on tensors of dimension other than 2 to reverse their shape is deprecated and it will throw an error in a future release. Consider `x.mT` to transpose batches of matrices or `x.permute(*torch.arange(x.ndim - 1, -1, -1))` to reverse the dimensions of a tensor. (Triggered internally at C:\\cb\\pytorch_1000000000000\\work\\aten\\src\\ATen\\native\\TensorShape.cpp:3281.)\n",
      "  group_coeffs = mat_r[tuple(group.T), :]\n"
     ]
    }
   ],
   "source": [
    "print(f'Using alpha={ALPHA}, {n_sections} correlated sections were divided ' +\n",
    "      f'into {len(groups)} groups:')\n",
    "n_ungrouped = 0\n",
    "for i, (group, corr_min, corr_max) in enumerate(groups, start=1):\n",
    "      group_coeffs = mat_r[tuple(group.T), :]\n",
    "      print(f'Group {i} - {len(group)} sections with correlation coefficients '\n",
    "          f'{corr_min:.3f} to {corr_max:.3f}')\n",
    "print(str(n_sections - n_grouped) + \" section(s) don't correlate with anything and weren't grouped\")\n"
   ]
  },
  {
   "cell_type": "code",
   "execution_count": 9,
   "metadata": {},
   "outputs": [
    {
     "data": {
      "text/plain": [
       "torch.Size([32064, 24])"
      ]
     },
     "execution_count": 9,
     "metadata": {},
     "output_type": "execute_result"
    }
   ],
   "source": [
    "representatives = torch.stack([g[0] for g, _, _ in groups])\n",
    "mat_c = mat_q[:, representatives]\n",
    "assert mat_c.shape == (mat_q.shape[0], len(groups))\n",
    "torch.save(mat_c, 'mat_c_excluded_missing.pt')\n",
    "mat_c.shape"
   ]
  },
  {
   "cell_type": "code",
   "execution_count": 10,
   "metadata": {},
   "outputs": [
    {
     "data": {
      "text/plain": [
       "torch.Size([24, 468])"
      ]
     },
     "execution_count": 10,
     "metadata": {},
     "output_type": "execute_result"
    }
   ],
   "source": [
    "mat_x = torch.linalg.pinv(mat_c) @ mat_q\n",
    "torch.save(mat_x, 'mat_x_excluded_missing.pt')\n",
    "mat_x.shape"
   ]
  },
  {
   "cell_type": "code",
   "execution_count": 11,
   "metadata": {},
   "outputs": [
    {
     "name": "stdout",
     "output_type": "stream",
     "text": [
      "tensor(196032.1875)\n"
     ]
    }
   ],
   "source": [
    "print(torch.max((mat_c @ mat_x) - mat_q))"
   ]
  },
  {
   "cell_type": "code",
   "execution_count": null,
   "metadata": {},
   "outputs": [],
   "source": []
  }
 ],
 "metadata": {
  "kernelspec": {
   "display_name": ".idp",
   "language": "python",
   "name": "python3"
  },
  "language_info": {
   "codemirror_mode": {
    "name": "ipython",
    "version": 3
   },
   "file_extension": ".py",
   "mimetype": "text/x-python",
   "name": "python",
   "nbconvert_exporter": "python",
   "pygments_lexer": "ipython3",
   "version": "3.9.15"
  },
  "orig_nbformat": 4
 },
 "nbformat": 4,
 "nbformat_minor": 2
}
