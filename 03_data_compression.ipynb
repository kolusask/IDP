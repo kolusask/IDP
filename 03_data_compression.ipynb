{
 "cells": [
  {
   "cell_type": "code",
   "execution_count": 27,
   "metadata": {},
   "outputs": [],
   "source": [
    "from datetime import datetime\n",
    "\n",
    "import torch\n",
    "from config import *\n",
    "\n",
    "from data.compress import *\n",
    "from data.util import count_points_between, crop_q_between_dates\n",
    "\n",
    "%reload_ext autoreload\n",
    "%autoreload 2"
   ]
  },
  {
   "cell_type": "code",
   "execution_count": 28,
   "metadata": {},
   "outputs": [],
   "source": [
    "READ_START_DATE = datetime.strptime(CONFIG['READ_START_DATE'], DATE_FORMAT)\n",
    "READ_END_DATE = datetime.strptime(CONFIG['READ_END_DATE'], DATE_FORMAT)\n",
    "TRAIN_START_DATE = datetime.strptime(CONFIG['TRAIN_START_DATE'], DATE_FORMAT)\n",
    "TRAIN_END_DATE = datetime.strptime(CONFIG['TRAIN_END_DATE'], DATE_FORMAT)\n",
    "ALPHA = CONFIG['ALPHA']"
   ]
  },
  {
   "attachments": {},
   "cell_type": "markdown",
   "metadata": {},
   "source": [
    "Load matrix $Q$"
   ]
  },
  {
   "cell_type": "code",
   "execution_count": 29,
   "metadata": {},
   "outputs": [
    {
     "data": {
      "text/plain": [
       "torch.Size([32064, 472])"
      ]
     },
     "execution_count": 29,
     "metadata": {},
     "output_type": "execute_result"
    }
   ],
   "source": [
    "mat_q = torch.load(out_path('mat_q_resid.pt'))\n",
    "mat_q = torch.abs(mat_q)\n",
    "mat_q.shape"
   ]
  },
  {
   "attachments": {},
   "cell_type": "markdown",
   "metadata": {},
   "source": [
    "Crop $Q$ to the required time period"
   ]
  },
  {
   "cell_type": "code",
   "execution_count": 30,
   "metadata": {},
   "outputs": [
    {
     "data": {
      "text/plain": [
       "torch.Size([2880, 472])"
      ]
     },
     "execution_count": 30,
     "metadata": {},
     "output_type": "execute_result"
    }
   ],
   "source": [
    "_, n_sections = mat_q.shape\n",
    "mat_q = crop_q_between_dates(mat_q, READ_START_DATE, READ_END_DATE, TRAIN_START_DATE, TRAIN_END_DATE)\n",
    "assert mat_q.shape == (count_points_between(TRAIN_START_DATE, TRAIN_END_DATE), n_sections)\n",
    "mat_q.shape"
   ]
  },
  {
   "attachments": {},
   "cell_type": "markdown",
   "metadata": {},
   "source": [
    "Construct a correlation coefficient matrix\n",
    "$$\n",
    "R(i, j)=\\frac{\\sum_{k=1}^d(z(s_i,t_k)-\\tilde{z}(s_i))(z(s_j,t_k)-\\tilde{z}(s_j))}{\\sqrt{\\sum_{k=1}^d(z(s_i,t_k)-\\tilde{z}(s_i))^2}\\sqrt{\\sum_{k=1}^d(z(s_j,t_k)-\\tilde{z}(s_j))^2}},\n",
    "$$\n",
    "where $$\\tilde{z}(s_i)=\\frac{1}{d}\\sum_{k=1}^dz(s_i,t_k)$$"
   ]
  },
  {
   "cell_type": "code",
   "execution_count": 31,
   "metadata": {},
   "outputs": [
    {
     "data": {
      "text/plain": [
       "torch.Size([472, 472])"
      ]
     },
     "execution_count": 31,
     "metadata": {},
     "output_type": "execute_result"
    }
   ],
   "source": [
    "mat_r = build_correlation_matrix(mat_q)\n",
    "mat_r.shape"
   ]
  },
  {
   "cell_type": "code",
   "execution_count": 32,
   "metadata": {},
   "outputs": [],
   "source": [
    "groups, n_ungrouped = split_sections_into_groups(mat_r, ALPHA)"
   ]
  },
  {
   "attachments": {},
   "cell_type": "markdown",
   "metadata": {},
   "source": [
    "Analyse grouping"
   ]
  },
  {
   "cell_type": "code",
   "execution_count": 33,
   "metadata": {},
   "outputs": [
    {
     "name": "stdout",
     "output_type": "stream",
     "text": [
      "Using alpha=0.9999, 472 correlated sections were divided into 159 groups:\n",
      "Group 1 - 2 sections with correlation coefficients 1.000 to 1.000\n",
      "Group 2 - 2 sections with correlation coefficients 0.994 to 0.994\n",
      "Group 3 - 2 sections with correlation coefficients 0.844 to 0.844\n",
      "Group 4 - 2 sections with correlation coefficients 0.781 to 0.781\n",
      "Group 5 - 2 sections with correlation coefficients 0.776 to 0.776\n",
      "Group 6 - 2 sections with correlation coefficients 0.756 to 0.756\n",
      "Group 7 - 2 sections with correlation coefficients 0.707 to 0.707\n",
      "Group 8 - 2 sections with correlation coefficients 0.697 to 0.697\n",
      "Group 9 - 2 sections with correlation coefficients 0.680 to 0.680\n",
      "Group 10 - 2 sections with correlation coefficients 0.671 to 0.671\n",
      "Group 11 - 2 sections with correlation coefficients 0.660 to 0.660\n",
      "Group 12 - 2 sections with correlation coefficients 0.658 to 0.658\n",
      "Group 13 - 2 sections with correlation coefficients 0.656 to 0.656\n",
      "Group 14 - 2 sections with correlation coefficients 0.652 to 0.652\n",
      "Group 15 - 2 sections with correlation coefficients 0.645 to 0.645\n",
      "Group 16 - 2 sections with correlation coefficients 0.629 to 0.629\n",
      "Group 17 - 2 sections with correlation coefficients 0.624 to 0.624\n",
      "Group 18 - 2 sections with correlation coefficients 0.610 to 0.610\n",
      "Group 19 - 2 sections with correlation coefficients 0.609 to 0.609\n",
      "Group 20 - 2 sections with correlation coefficients 0.602 to 0.602\n",
      "Group 21 - 2 sections with correlation coefficients 0.595 to 0.595\n",
      "Group 22 - 2 sections with correlation coefficients 0.594 to 0.594\n",
      "Group 23 - 2 sections with correlation coefficients 0.589 to 0.589\n",
      "Group 24 - 2 sections with correlation coefficients 0.589 to 0.589\n",
      "Group 25 - 2 sections with correlation coefficients 0.588 to 0.588\n",
      "Group 26 - 2 sections with correlation coefficients 0.583 to 0.583\n",
      "Group 27 - 2 sections with correlation coefficients 0.579 to 0.579\n",
      "Group 28 - 2 sections with correlation coefficients 0.565 to 0.565\n",
      "Group 29 - 2 sections with correlation coefficients 0.565 to 0.565\n",
      "Group 30 - 2 sections with correlation coefficients 0.564 to 0.564\n",
      "Group 31 - 2 sections with correlation coefficients 0.556 to 0.556\n",
      "Group 32 - 2 sections with correlation coefficients 0.545 to 0.545\n",
      "Group 33 - 2 sections with correlation coefficients 0.534 to 0.534\n",
      "Group 34 - 2 sections with correlation coefficients 0.531 to 0.531\n",
      "Group 35 - 2 sections with correlation coefficients 0.527 to 0.527\n",
      "Group 36 - 2 sections with correlation coefficients 0.527 to 0.527\n",
      "Group 37 - 2 sections with correlation coefficients 0.522 to 0.522\n",
      "Group 38 - 2 sections with correlation coefficients 0.513 to 0.513\n",
      "Group 39 - 2 sections with correlation coefficients 0.507 to 0.507\n",
      "Group 40 - 2 sections with correlation coefficients 0.506 to 0.506\n",
      "Group 41 - 2 sections with correlation coefficients 0.502 to 0.502\n",
      "Group 42 - 2 sections with correlation coefficients 0.498 to 0.498\n",
      "Group 43 - 2 sections with correlation coefficients 0.496 to 0.496\n",
      "Group 44 - 2 sections with correlation coefficients 0.496 to 0.496\n",
      "Group 45 - 2 sections with correlation coefficients 0.490 to 0.490\n",
      "Group 46 - 2 sections with correlation coefficients 0.487 to 0.487\n",
      "Group 47 - 2 sections with correlation coefficients 0.483 to 0.483\n",
      "Group 48 - 2 sections with correlation coefficients 0.477 to 0.477\n",
      "Group 49 - 2 sections with correlation coefficients 0.475 to 0.475\n",
      "Group 50 - 2 sections with correlation coefficients 0.475 to 0.475\n",
      "Group 51 - 2 sections with correlation coefficients 0.473 to 0.473\n",
      "Group 52 - 2 sections with correlation coefficients 0.471 to 0.471\n",
      "Group 53 - 2 sections with correlation coefficients 0.469 to 0.469\n",
      "Group 54 - 2 sections with correlation coefficients 0.464 to 0.464\n",
      "Group 55 - 2 sections with correlation coefficients 0.455 to 0.455\n",
      "Group 56 - 2 sections with correlation coefficients 0.454 to 0.454\n",
      "Group 57 - 2 sections with correlation coefficients 0.450 to 0.450\n",
      "Group 58 - 2 sections with correlation coefficients 0.448 to 0.448\n",
      "Group 59 - 2 sections with correlation coefficients 0.447 to 0.447\n",
      "Group 60 - 2 sections with correlation coefficients 0.445 to 0.445\n",
      "Group 61 - 2 sections with correlation coefficients 0.442 to 0.442\n",
      "Group 62 - 2 sections with correlation coefficients 0.435 to 0.435\n",
      "Group 63 - 2 sections with correlation coefficients 0.435 to 0.435\n",
      "Group 64 - 2 sections with correlation coefficients 0.433 to 0.433\n",
      "Group 65 - 2 sections with correlation coefficients 0.432 to 0.432\n",
      "Group 66 - 2 sections with correlation coefficients 0.429 to 0.429\n",
      "Group 67 - 2 sections with correlation coefficients 0.425 to 0.425\n",
      "Group 68 - 2 sections with correlation coefficients 0.423 to 0.423\n",
      "Group 69 - 2 sections with correlation coefficients 0.421 to 0.421\n",
      "Group 70 - 2 sections with correlation coefficients 0.419 to 0.419\n",
      "Group 71 - 2 sections with correlation coefficients 0.419 to 0.419\n",
      "Group 72 - 2 sections with correlation coefficients 0.414 to 0.414\n",
      "Group 73 - 2 sections with correlation coefficients 0.411 to 0.411\n",
      "Group 74 - 2 sections with correlation coefficients 0.407 to 0.407\n",
      "Group 75 - 2 sections with correlation coefficients 0.402 to 0.402\n",
      "Group 76 - 2 sections with correlation coefficients 0.395 to 0.395\n",
      "Group 77 - 2 sections with correlation coefficients 0.392 to 0.392\n",
      "Group 78 - 2 sections with correlation coefficients 0.391 to 0.391\n",
      "Group 79 - 2 sections with correlation coefficients 0.387 to 0.387\n",
      "Group 80 - 2 sections with correlation coefficients 0.382 to 0.382\n",
      "Group 81 - 2 sections with correlation coefficients 0.380 to 0.380\n",
      "Group 82 - 2 sections with correlation coefficients 0.379 to 0.379\n",
      "Group 83 - 2 sections with correlation coefficients 0.378 to 0.378\n",
      "Group 84 - 2 sections with correlation coefficients 0.373 to 0.373\n",
      "Group 85 - 2 sections with correlation coefficients 0.371 to 0.371\n",
      "Group 86 - 2 sections with correlation coefficients 0.370 to 0.370\n",
      "Group 87 - 2 sections with correlation coefficients 0.358 to 0.358\n",
      "Group 88 - 2 sections with correlation coefficients 0.353 to 0.353\n",
      "Group 89 - 2 sections with correlation coefficients 0.351 to 0.351\n",
      "Group 90 - 2 sections with correlation coefficients 0.347 to 0.347\n",
      "Group 91 - 2 sections with correlation coefficients 0.344 to 0.344\n",
      "Group 92 - 2 sections with correlation coefficients 0.342 to 0.342\n",
      "Group 93 - 2 sections with correlation coefficients 0.338 to 0.338\n",
      "Group 94 - 2 sections with correlation coefficients 0.337 to 0.337\n",
      "Group 95 - 2 sections with correlation coefficients 0.336 to 0.336\n",
      "Group 96 - 2 sections with correlation coefficients 0.321 to 0.321\n",
      "Group 97 - 2 sections with correlation coefficients 0.320 to 0.320\n",
      "Group 98 - 2 sections with correlation coefficients 0.319 to 0.319\n",
      "Group 99 - 2 sections with correlation coefficients 0.315 to 0.315\n",
      "Group 100 - 2 sections with correlation coefficients 0.314 to 0.314\n",
      "Group 101 - 2 sections with correlation coefficients 0.311 to 0.311\n",
      "Group 102 - 2 sections with correlation coefficients 0.311 to 0.311\n",
      "Group 103 - 2 sections with correlation coefficients 0.308 to 0.308\n",
      "Group 104 - 2 sections with correlation coefficients 0.307 to 0.307\n",
      "Group 105 - 2 sections with correlation coefficients 0.307 to 0.307\n",
      "Group 106 - 2 sections with correlation coefficients 0.303 to 0.303\n",
      "Group 107 - 2 sections with correlation coefficients 0.297 to 0.297\n",
      "Group 108 - 2 sections with correlation coefficients 0.295 to 0.295\n",
      "Group 109 - 2 sections with correlation coefficients 0.294 to 0.294\n",
      "Group 110 - 2 sections with correlation coefficients 0.294 to 0.294\n",
      "Group 111 - 2 sections with correlation coefficients 0.288 to 0.288\n",
      "Group 112 - 2 sections with correlation coefficients 0.280 to 0.280\n",
      "Group 113 - 2 sections with correlation coefficients 0.278 to 0.278\n",
      "Group 114 - 2 sections with correlation coefficients 0.277 to 0.277\n",
      "Group 115 - 2 sections with correlation coefficients 0.274 to 0.274\n",
      "Group 116 - 2 sections with correlation coefficients 0.266 to 0.266\n",
      "Group 117 - 2 sections with correlation coefficients 0.255 to 0.255\n",
      "Group 118 - 2 sections with correlation coefficients 0.253 to 0.253\n",
      "Group 119 - 2 sections with correlation coefficients 0.249 to 0.249\n",
      "Group 120 - 2 sections with correlation coefficients 0.248 to 0.248\n",
      "Group 121 - 2 sections with correlation coefficients 0.244 to 0.244\n",
      "Group 122 - 2 sections with correlation coefficients 0.243 to 0.243\n",
      "Group 123 - 2 sections with correlation coefficients 0.237 to 0.237\n",
      "Group 124 - 2 sections with correlation coefficients 0.236 to 0.236\n",
      "Group 125 - 2 sections with correlation coefficients 0.228 to 0.228\n",
      "Group 126 - 2 sections with correlation coefficients 0.226 to 0.226\n",
      "Group 127 - 2 sections with correlation coefficients 0.221 to 0.221\n",
      "Group 128 - 2 sections with correlation coefficients 0.219 to 0.219\n",
      "Group 129 - 2 sections with correlation coefficients 0.214 to 0.214\n",
      "Group 130 - 2 sections with correlation coefficients 0.209 to 0.209\n",
      "Group 131 - 2 sections with correlation coefficients 0.203 to 0.203\n",
      "Group 132 - 2 sections with correlation coefficients 0.203 to 0.203\n",
      "Group 133 - 2 sections with correlation coefficients 0.201 to 0.201\n",
      "Group 134 - 2 sections with correlation coefficients 0.201 to 0.201\n",
      "Group 135 - 2 sections with correlation coefficients 0.199 to 0.199\n",
      "Group 136 - 2 sections with correlation coefficients 0.193 to 0.193\n",
      "Group 137 - 2 sections with correlation coefficients 0.181 to 0.181\n",
      "Group 138 - 2 sections with correlation coefficients 0.175 to 0.175\n",
      "Group 139 - 2 sections with correlation coefficients 0.159 to 0.159\n",
      "Group 140 - 2 sections with correlation coefficients 0.151 to 0.151\n",
      "Group 141 - 2 sections with correlation coefficients 0.151 to 0.151\n",
      "Group 142 - 2 sections with correlation coefficients 0.142 to 0.142\n",
      "Group 143 - 2 sections with correlation coefficients 0.134 to 0.134\n",
      "Group 144 - 2 sections with correlation coefficients 0.129 to 0.129\n",
      "Group 145 - 2 sections with correlation coefficients 0.118 to 0.118\n",
      "Group 146 - 2 sections with correlation coefficients 0.116 to 0.116\n",
      "Group 147 - 2 sections with correlation coefficients 0.116 to 0.116\n",
      "Group 148 - 2 sections with correlation coefficients 0.086 to 0.086\n",
      "Group 149 - 2 sections with correlation coefficients 0.085 to 0.085\n",
      "Group 150 - 2 sections with correlation coefficients 0.083 to 0.083\n",
      "Group 151 - 2 sections with correlation coefficients 0.074 to 0.074\n",
      "Group 152 - 2 sections with correlation coefficients 0.063 to 0.063\n",
      "Group 153 - 2 sections with correlation coefficients 0.058 to 0.058\n",
      "Group 154 - 2 sections with correlation coefficients 0.033 to 0.033\n",
      "Group 155 - 2 sections with correlation coefficients 0.031 to 0.031\n",
      "Group 156 - 2 sections with correlation coefficients 0.029 to 0.029\n",
      "Group 157 - 2 sections with correlation coefficients 0.027 to 0.027\n",
      "Group 158 - 2 sections with correlation coefficients 0.020 to 0.020\n",
      "Group 159 - 2 sections with correlation coefficients 0.020 to 0.020\n",
      "0 section(s) don't correlate with anything and weren't grouped\n"
     ]
    },
    {
     "name": "stderr",
     "output_type": "stream",
     "text": [
      "/tmp/ipykernel_18442/3401722382.py:6: UserWarning: The use of `x.T` on tensors of dimension other than 2 to reverse their shape is deprecated and it will throw an error in a future release. Consider `x.mT` to transpose batches of matrices or `x.permute(*torch.arange(x.ndim - 1, -1, -1))` to reverse the dimensions of a tensor. (Triggered internally at ../aten/src/ATen/native/TensorShape.cpp:3571.)\n",
      "  group_coeffs = mat_r[tuple(group.T), :]\n"
     ]
    }
   ],
   "source": [
    "_, n_sections = mat_q.shape\n",
    "print(f'Using alpha={ALPHA}, {n_sections} correlated sections were divided ' +\n",
    "      f'into {len(groups)} groups:')\n",
    "n_ungrouped = 0\n",
    "for i, (group, corr_min, corr_max) in enumerate(groups, start=1):\n",
    "      group_coeffs = mat_r[tuple(group.T), :]\n",
    "      print(f'Group {i} - {len(group)} sections with correlation coefficients '\n",
    "          f'{corr_min:.3f} to {corr_max:.3f}')\n",
    "print(str(n_ungrouped) + \" section(s) don't correlate with anything and weren't grouped\")\n"
   ]
  },
  {
   "cell_type": "code",
   "execution_count": 35,
   "metadata": {},
   "outputs": [
    {
     "data": {
      "text/plain": [
       "torch.Size([2880, 159])"
      ]
     },
     "execution_count": 35,
     "metadata": {},
     "output_type": "execute_result"
    }
   ],
   "source": [
    "mat_c = get_compression_matrix(mat_q, groups)\n",
    "\n",
    "assert mat_c.shape == (mat_q.shape[0], len(groups))\n",
    "torch.save(mat_c, out_path('mat_c.pt'))\n",
    "mat_c.shape"
   ]
  },
  {
   "cell_type": "code",
   "execution_count": 36,
   "metadata": {},
   "outputs": [
    {
     "data": {
      "text/plain": [
       "torch.Size([159, 472])"
      ]
     },
     "execution_count": 36,
     "metadata": {},
     "output_type": "execute_result"
    }
   ],
   "source": [
    "mat_x = get_compressed_matrix(mat_c, mat_q)\n",
    "torch.save(mat_x, out_path('mat_x.pt'))\n",
    "mat_x.shape"
   ]
  }
 ],
 "metadata": {
  "kernelspec": {
   "display_name": ".idp",
   "language": "python",
   "name": "python3"
  },
  "language_info": {
   "codemirror_mode": {
    "name": "ipython",
    "version": 3
   },
   "file_extension": ".py",
   "mimetype": "text/x-python",
   "name": "python",
   "nbconvert_exporter": "python",
   "pygments_lexer": "ipython3",
   "version": "3.11.3"
  },
  "orig_nbformat": 4,
  "vscode": {
   "interpreter": {
    "hash": "912fb52f238e5d0393cd3cb39c1046be4cbf42cc336ebf4385af401bc969f2f7"
   }
  }
 },
 "nbformat": 4,
 "nbformat_minor": 2
}
