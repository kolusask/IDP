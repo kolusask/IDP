{
 "cells": [
  {
   "cell_type": "code",
   "execution_count": 1,
   "metadata": {},
   "outputs": [],
   "source": [
    "from datetime import datetime\n",
    "\n",
    "import torch\n",
    "from config import *\n",
    "\n",
    "from data.compress import *\n",
    "from data.util import count_points_between, crop_q_between\n",
    "\n",
    "%reload_ext autoreload\n",
    "%autoreload 2"
   ]
  },
  {
   "cell_type": "code",
   "execution_count": 2,
   "metadata": {},
   "outputs": [],
   "source": [
    "READ_START_DATE = datetime.strptime(CONFIG['READ_START_DATE'], DATE_FORMAT)\n",
    "READ_END_DATE = datetime.strptime(CONFIG['READ_END_DATE'], DATE_FORMAT)\n",
    "TRAIN_START_DATE = datetime.strptime(CONFIG['TRAIN_START_DATE'], DATE_FORMAT)\n",
    "TRAIN_END_DATE = datetime.strptime(CONFIG['TRAIN_END_DATE'], DATE_FORMAT)\n",
    "ALPHA = CONFIG['ALPHA']"
   ]
  },
  {
   "attachments": {},
   "cell_type": "markdown",
   "metadata": {},
   "source": [
    "Load matrix $Q$"
   ]
  },
  {
   "cell_type": "code",
   "execution_count": 3,
   "metadata": {},
   "outputs": [
    {
     "data": {
      "text/plain": [
       "torch.Size([32064, 472])"
      ]
     },
     "execution_count": 3,
     "metadata": {},
     "output_type": "execute_result"
    }
   ],
   "source": [
    "mat_q = torch.load(out_path('mat_q_resid.pt'))\n",
    "mat_q = torch.abs(mat_q)\n",
    "mat_q.shape"
   ]
  },
  {
   "attachments": {},
   "cell_type": "markdown",
   "metadata": {},
   "source": [
    "Crop $Q$ to the required time period"
   ]
  },
  {
   "cell_type": "code",
   "execution_count": 4,
   "metadata": {},
   "outputs": [
    {
     "data": {
      "text/plain": [
       "torch.Size([2880, 472])"
      ]
     },
     "execution_count": 4,
     "metadata": {},
     "output_type": "execute_result"
    }
   ],
   "source": [
    "n_samples, n_sections = mat_q.shape\n",
    "mat_q = crop_q_between(mat_q, READ_START_DATE, READ_END_DATE, TRAIN_START_DATE, TRAIN_END_DATE)\n",
    "assert mat_q.shape == (count_points_between(TRAIN_START_DATE, TRAIN_END_DATE), n_sections)\n",
    "mat_q.shape"
   ]
  },
  {
   "attachments": {},
   "cell_type": "markdown",
   "metadata": {},
   "source": [
    "Construct a correlation coefficient matrix\n",
    "$$\n",
    "R(i, j)=\\frac{\\sum_{k=1}^d(z(s_i,t_k)-\\tilde{z}(s_i))(z(s_j,t_k)-\\tilde{z}(s_j))}{\\sqrt{\\sum_{k=1}^d(z(s_i,t_k)-\\tilde{z}(s_i))^2}\\sqrt{\\sum_{k=1}^d(z(s_j,t_k)-\\tilde{z}(s_j))^2}},\n",
    "$$\n",
    "where $$\\tilde{z}(s_i)=\\frac{1}{d}\\sum_{k=1}^dz(s_i,t_k)$$"
   ]
  },
  {
   "cell_type": "code",
   "execution_count": 5,
   "metadata": {},
   "outputs": [
    {
     "data": {
      "text/plain": [
       "(torch.Size([319, 319]),\n",
       " tensor([  1,   3,   5,   6,   9,  11,  12,  13,  15,  17,  19,  21,  23,  24,\n",
       "          25,  26,  27,  29,  30,  32,  33,  34,  37,  38,  39,  40,  41,  43,\n",
       "          45,  46,  47,  49,  50,  52,  53,  54,  55,  56,  58,  59,  61,  63,\n",
       "          65,  67,  69,  71,  72,  74,  77,  79,  80,  81,  83,  85,  87,  90,\n",
       "          91,  92,  98,  99, 101, 102, 103, 105, 106, 109, 110, 111, 112, 113,\n",
       "         114, 115, 116, 117, 119, 120, 121, 123, 124, 125, 126, 129, 130, 133,\n",
       "         134, 135, 136, 137, 139, 141, 142, 143, 144, 145, 147, 148, 149, 150,\n",
       "         151, 153, 155, 156, 157, 159, 160, 161, 163, 165, 166, 167, 168, 169,\n",
       "         170, 171, 173, 174, 175, 177, 179, 180, 183, 184, 185, 186, 189, 190,\n",
       "         191, 193, 195, 197, 199, 201, 202, 203, 205, 206, 207, 209, 210, 211,\n",
       "         212, 215, 217, 219, 220, 221, 223, 225, 226, 227, 229, 230, 231, 233,\n",
       "         234, 235, 237, 238, 239, 241, 242, 243, 245, 246, 248, 249, 251, 253,\n",
       "         254, 255, 256, 257, 258, 259, 261, 263, 264, 267, 268, 269, 270, 273,\n",
       "         275, 277, 279, 281, 282, 283, 285, 286, 287, 288, 289, 290, 291, 293,\n",
       "         295, 297, 299, 301, 302, 303, 306, 307, 309, 311, 312, 313, 314, 315,\n",
       "         317, 318, 321, 323, 324, 326, 327, 329, 330, 331, 332, 333, 335, 336,\n",
       "         337, 338, 340, 341, 342, 343, 344, 345, 347, 349, 350, 351, 352, 353,\n",
       "         354, 357, 359, 361, 362, 363, 365, 366, 369, 370, 372, 373, 375, 376,\n",
       "         378, 379, 381, 383, 385, 386, 387, 389, 390, 391, 393, 394, 396, 397,\n",
       "         398, 399, 400, 401, 402, 405, 406, 407, 408, 411, 413, 415, 417, 418,\n",
       "         419, 421, 423, 424, 427, 428, 429, 430, 432, 433, 435, 436, 439, 441,\n",
       "         443, 444, 445, 446, 447, 448, 449, 450, 451, 453, 455, 456, 457, 459,\n",
       "         461, 462, 463, 464, 465, 466, 467, 468, 469, 470, 471],\n",
       "        device='cuda:0'))"
      ]
     },
     "execution_count": 5,
     "metadata": {},
     "output_type": "execute_result"
    }
   ],
   "source": [
    "mat_r, nonempty = build_correlation_matrix(mat_q, True)\n",
    "mat_r.shape, nonempty"
   ]
  },
  {
   "cell_type": "code",
   "execution_count": 6,
   "metadata": {},
   "outputs": [
    {
     "data": {
      "text/plain": [
       "({1, 2, 3, 4, 6, 9, 10, 11, 14, 23}, 194)"
      ]
     },
     "execution_count": 6,
     "metadata": {},
     "output_type": "execute_result"
    }
   ],
   "source": [
    "groups = split_sections_into_groups(mat_r, 0.54)\n",
    "set([len(g) for g in groups]), len(groups)"
   ]
  },
  {
   "attachments": {},
   "cell_type": "markdown",
   "metadata": {},
   "source": [
    "Analyse grouping"
   ]
  },
  {
   "cell_type": "code",
   "execution_count": 7,
   "metadata": {},
   "outputs": [
    {
     "name": "stdout",
     "output_type": "stream",
     "text": [
      "Using alpha=0.54, 472 correlated sections were divided into 194 groups:\n",
      "Group 1 - 1 sections: 0\n",
      "Group 2 - 6 sections: 1, 87, 204, 57, 238, 18\n",
      "Group 3 - 1 sections: 2\n",
      "Group 4 - 10 sections: 3, 98, 165, 63, 164, 232, 236, 248, 311, 14\n",
      "Group 5 - 2 sections: 4, 19\n",
      "Group 6 - 1 sections: 5\n",
      "Group 7 - 14 sections: 6, 203, 7, 32, 64, 66, 110, 169, 186, 198, 114, 209, 226, 23\n",
      "Group 8 - 1 sections: 8\n",
      "Group 9 - 1 sections: 9\n",
      "Group 10 - 1 sections: 10\n",
      "Group 11 - 3 sections: 11, 133, 53\n",
      "Group 12 - 1 sections: 12\n",
      "Group 13 - 11 sections: 13, 291, 45, 97, 162, 185, 249, 303, 312, 313, 314\n",
      "Group 14 - 1 sections: 15\n",
      "Group 15 - 2 sections: 16, 201\n",
      "Group 16 - 1 sections: 17\n",
      "Group 17 - 23 sections: 20, 126, 171, 122, 316, 136, 25, 70, 71, 127, 174, 269, 288, 306, 308, 85, 298, 302, 235, 80, 176, 305, 116\n",
      "Group 18 - 1 sections: 21\n",
      "Group 19 - 1 sections: 22\n",
      "Group 20 - 1 sections: 24\n",
      "Group 21 - 6 sections: 26, 67, 115, 251, 301, 84\n",
      "Group 22 - 1 sections: 27\n",
      "Group 23 - 9 sections: 28, 89, 154, 219, 259, 131, 120, 304, 101\n",
      "Group 24 - 4 sections: 29, 125, 170, 243\n",
      "Group 25 - 1 sections: 30\n",
      "Group 26 - 11 sections: 31, 52, 62, 181, 250, 137, 255, 130, 134, 156, 199\n",
      "Group 27 - 2 sections: 33, 34\n",
      "Group 28 - 2 sections: 35, 200\n",
      "Group 29 - 1 sections: 36\n",
      "Group 30 - 2 sections: 37, 144\n",
      "Group 31 - 1 sections: 38\n",
      "Group 32 - 1 sections: 39\n",
      "Group 33 - 1 sections: 40\n",
      "Group 34 - 1 sections: 41\n",
      "Group 35 - 1 sections: 42\n",
      "Group 36 - 1 sections: 43\n",
      "Group 37 - 1 sections: 44\n",
      "Group 38 - 1 sections: 46\n",
      "Group 39 - 2 sections: 47, 180\n",
      "Group 40 - 1 sections: 48\n",
      "Group 41 - 1 sections: 49\n",
      "Group 42 - 6 sections: 50, 90, 223, 300, 139, 59\n",
      "Group 43 - 3 sections: 51, 91, 299\n",
      "Group 44 - 1 sections: 54\n",
      "Group 45 - 3 sections: 55, 220, 252\n",
      "Group 46 - 3 sections: 56, 74, 221\n",
      "Group 47 - 1 sections: 58\n",
      "Group 48 - 1 sections: 60\n",
      "Group 49 - 2 sections: 61, 287\n",
      "Group 50 - 1 sections: 65\n",
      "Group 51 - 1 sections: 68\n",
      "Group 52 - 3 sections: 69, 189, 145\n",
      "Group 53 - 2 sections: 72, 242\n",
      "Group 54 - 1 sections: 73\n",
      "Group 55 - 1 sections: 75\n",
      "Group 56 - 1 sections: 76\n",
      "Group 57 - 1 sections: 77\n",
      "Group 58 - 1 sections: 78\n",
      "Group 59 - 1 sections: 79\n",
      "Group 60 - 1 sections: 81\n",
      "Group 61 - 1 sections: 82\n",
      "Group 62 - 1 sections: 83\n",
      "Group 63 - 1 sections: 86\n",
      "Group 64 - 3 sections: 88, 234, 278\n",
      "Group 65 - 4 sections: 92, 112, 163, 207\n",
      "Group 66 - 2 sections: 93, 206\n",
      "Group 67 - 1 sections: 94\n",
      "Group 68 - 2 sections: 95, 208\n",
      "Group 69 - 1 sections: 96\n",
      "Group 70 - 1 sections: 99\n",
      "Group 71 - 1 sections: 100\n",
      "Group 72 - 1 sections: 102\n",
      "Group 73 - 1 sections: 103\n",
      "Group 74 - 1 sections: 104\n",
      "Group 75 - 1 sections: 105\n",
      "Group 76 - 1 sections: 106\n",
      "Group 77 - 1 sections: 107\n",
      "Group 78 - 1 sections: 108\n",
      "Group 79 - 1 sections: 109\n",
      "Group 80 - 1 sections: 111\n",
      "Group 81 - 1 sections: 113\n",
      "Group 82 - 1 sections: 117\n",
      "Group 83 - 1 sections: 118\n",
      "Group 84 - 1 sections: 119\n",
      "Group 85 - 1 sections: 121\n",
      "Group 86 - 1 sections: 123\n",
      "Group 87 - 1 sections: 124\n",
      "Group 88 - 1 sections: 128\n",
      "Group 89 - 1 sections: 129\n",
      "Group 90 - 1 sections: 132\n",
      "Group 91 - 1 sections: 135\n",
      "Group 92 - 1 sections: 138\n",
      "Group 93 - 1 sections: 140\n",
      "Group 94 - 2 sections: 141, 193\n",
      "Group 95 - 1 sections: 142\n",
      "Group 96 - 1 sections: 143\n",
      "Group 97 - 1 sections: 146\n",
      "Group 98 - 2 sections: 147, 293\n",
      "Group 99 - 1 sections: 148\n",
      "Group 100 - 1 sections: 149\n",
      "Group 101 - 1 sections: 150\n",
      "Group 102 - 1 sections: 151\n",
      "Group 103 - 1 sections: 152\n",
      "Group 104 - 1 sections: 153\n",
      "Group 105 - 1 sections: 155\n",
      "Group 106 - 1 sections: 157\n",
      "Group 107 - 2 sections: 158, 297\n",
      "Group 108 - 1 sections: 159\n",
      "Group 109 - 1 sections: 160\n",
      "Group 110 - 1 sections: 161\n",
      "Group 111 - 1 sections: 166\n",
      "Group 112 - 1 sections: 167\n",
      "Group 113 - 1 sections: 168\n",
      "Group 114 - 1 sections: 172\n",
      "Group 115 - 2 sections: 173, 267\n",
      "Group 116 - 1 sections: 175\n",
      "Group 117 - 1 sections: 177\n",
      "Group 118 - 1 sections: 178\n",
      "Group 119 - 2 sections: 179, 289\n",
      "Group 120 - 1 sections: 182\n",
      "Group 121 - 1 sections: 183\n",
      "Group 122 - 1 sections: 184\n",
      "Group 123 - 1 sections: 187\n",
      "Group 124 - 1 sections: 188\n",
      "Group 125 - 1 sections: 190\n",
      "Group 126 - 1 sections: 191\n",
      "Group 127 - 1 sections: 192\n",
      "Group 128 - 1 sections: 194\n",
      "Group 129 - 1 sections: 195\n",
      "Group 130 - 1 sections: 196\n",
      "Group 131 - 1 sections: 197\n",
      "Group 132 - 1 sections: 202\n",
      "Group 133 - 1 sections: 205\n",
      "Group 134 - 1 sections: 210\n",
      "Group 135 - 3 sections: 211, 268, 279\n",
      "Group 136 - 1 sections: 212\n",
      "Group 137 - 1 sections: 213\n",
      "Group 138 - 1 sections: 214\n",
      "Group 139 - 1 sections: 215\n",
      "Group 140 - 1 sections: 216\n",
      "Group 141 - 1 sections: 217\n",
      "Group 142 - 1 sections: 218\n",
      "Group 143 - 2 sections: 222, 309\n",
      "Group 144 - 1 sections: 224\n",
      "Group 145 - 1 sections: 225\n",
      "Group 146 - 1 sections: 227\n",
      "Group 147 - 1 sections: 228\n",
      "Group 148 - 1 sections: 229\n",
      "Group 149 - 1 sections: 230\n",
      "Group 150 - 1 sections: 231\n",
      "Group 151 - 1 sections: 233\n",
      "Group 152 - 1 sections: 237\n",
      "Group 153 - 1 sections: 239\n",
      "Group 154 - 1 sections: 240\n",
      "Group 155 - 1 sections: 241\n",
      "Group 156 - 1 sections: 244\n",
      "Group 157 - 1 sections: 245\n",
      "Group 158 - 1 sections: 246\n",
      "Group 159 - 1 sections: 247\n",
      "Group 160 - 1 sections: 253\n",
      "Group 161 - 1 sections: 254\n",
      "Group 162 - 1 sections: 256\n",
      "Group 163 - 1 sections: 257\n",
      "Group 164 - 1 sections: 258\n",
      "Group 165 - 1 sections: 260\n",
      "Group 166 - 3 sections: 261, 285, 286\n",
      "Group 167 - 1 sections: 262\n",
      "Group 168 - 1 sections: 263\n",
      "Group 169 - 1 sections: 264\n",
      "Group 170 - 1 sections: 265\n",
      "Group 171 - 1 sections: 266\n",
      "Group 172 - 1 sections: 270\n",
      "Group 173 - 1 sections: 271\n",
      "Group 174 - 1 sections: 272\n",
      "Group 175 - 1 sections: 273\n",
      "Group 176 - 1 sections: 274\n",
      "Group 177 - 1 sections: 275\n",
      "Group 178 - 1 sections: 276\n",
      "Group 179 - 1 sections: 277\n",
      "Group 180 - 1 sections: 280\n",
      "Group 181 - 1 sections: 281\n",
      "Group 182 - 1 sections: 282\n",
      "Group 183 - 1 sections: 283\n",
      "Group 184 - 1 sections: 284\n",
      "Group 185 - 1 sections: 290\n",
      "Group 186 - 1 sections: 292\n",
      "Group 187 - 1 sections: 294\n",
      "Group 188 - 1 sections: 295\n",
      "Group 189 - 1 sections: 296\n",
      "Group 190 - 1 sections: 307\n",
      "Group 191 - 1 sections: 310\n",
      "Group 192 - 1 sections: 315\n",
      "Group 193 - 1 sections: 317\n",
      "Group 194 - 1 sections: 318\n"
     ]
    }
   ],
   "source": [
    "_, n_sections = mat_q.shape\n",
    "print(f'Using alpha={ALPHA}, {n_sections} correlated sections were divided ' +\n",
    "      f'into {len(groups)} groups:')\n",
    "for i, group in enumerate(groups, start=1):\n",
    "      print(f'Group {i} - {len(group)} sections: {\", \".join(str(s) for s in group)}')\n"
   ]
  },
  {
   "cell_type": "code",
   "execution_count": 8,
   "metadata": {},
   "outputs": [
    {
     "data": {
      "text/plain": [
       "torch.Size([2880, 194])"
      ]
     },
     "execution_count": 8,
     "metadata": {},
     "output_type": "execute_result"
    }
   ],
   "source": [
    "mat_c = get_compression_matrix(mat_q, groups)\n",
    "\n",
    "assert mat_c.shape == (mat_q.shape[0], len(groups))\n",
    "torch.save(mat_c, out_path('mat_c.pt'))\n",
    "mat_c.shape"
   ]
  },
  {
   "cell_type": "code",
   "execution_count": 9,
   "metadata": {},
   "outputs": [
    {
     "data": {
      "text/plain": [
       "torch.Size([194, 472])"
      ]
     },
     "execution_count": 9,
     "metadata": {},
     "output_type": "execute_result"
    }
   ],
   "source": [
    "mat_x = get_compressed_matrix(mat_c, mat_q)\n",
    "torch.save(mat_x, out_path('mat_x.pt'))\n",
    "mat_x.shape"
   ]
  }
 ],
 "metadata": {
  "kernelspec": {
   "display_name": ".idp",
   "language": "python",
   "name": "python3"
  },
  "language_info": {
   "codemirror_mode": {
    "name": "ipython",
    "version": 3
   },
   "file_extension": ".py",
   "mimetype": "text/x-python",
   "name": "python",
   "nbconvert_exporter": "python",
   "pygments_lexer": "ipython3",
   "version": "3.10.9"
  },
  "orig_nbformat": 4,
  "vscode": {
   "interpreter": {
    "hash": "912fb52f238e5d0393cd3cb39c1046be4cbf42cc336ebf4385af401bc969f2f7"
   }
  }
 },
 "nbformat": 4,
 "nbformat_minor": 2
}
