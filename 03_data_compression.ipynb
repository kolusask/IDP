{
 "cells": [
  {
   "cell_type": "code",
   "execution_count": 1,
   "metadata": {},
   "outputs": [],
   "source": [
    "import torch"
   ]
  },
  {
   "attachments": {},
   "cell_type": "markdown",
   "metadata": {},
   "source": [
    "Load matrix $Q$"
   ]
  },
  {
   "cell_type": "code",
   "execution_count": 2,
   "metadata": {},
   "outputs": [
    {
     "data": {
      "text/plain": [
       "torch.Size([32064, 472])"
      ]
     },
     "execution_count": 2,
     "metadata": {},
     "output_type": "execute_result"
    }
   ],
   "source": [
    "mat_q = torch.load('mat_q_resid_excluded_missing.pt')\n",
    "mat_q = torch.abs(mat_q)\n",
    "mat_q.shape"
   ]
  },
  {
   "cell_type": "markdown",
   "metadata": {},
   "source": [
    "Construct a correlation coefficient matrix\n",
    "$$\n",
    "R(i, j)=\\frac{\\sum_{k=1}^d(z(s_i,t_k)-\\tilde{z}(s_i))(z(s_j,t_k)-\\tilde{z}(s_j))}{\\sqrt{\\sum_{k=1}^d(z(s_i,t_k)-\\tilde{z}(s_i))^2}\\sqrt{\\sum_{k=1}^d(z(s_j,t_k)-\\tilde{z}(s_j))^2}},\n",
    "$$\n",
    "where $$\\tilde{z}(s_i)=\\frac{1}{d}\\sum_{k=1}^dz(s_i,t_k)$$"
   ]
  },
  {
   "cell_type": "code",
   "execution_count": 3,
   "metadata": {},
   "outputs": [
    {
     "data": {
      "text/plain": [
       "torch.Size([472, 472])"
      ]
     },
     "execution_count": 3,
     "metadata": {},
     "output_type": "execute_result"
    }
   ],
   "source": [
    "d, p = mat_q.shape\n",
    "mat_q_normalized = mat_q - mat_q.mean(dim=0)\n",
    "mat_r = torch.zeros(p, p)\n",
    "for i in range(p):\n",
    "    for j in range(i, p):\n",
    "        i_col = mat_q_normalized[:, i]\n",
    "        j_col = mat_q_normalized[:, j]\n",
    "        i_norm = max(torch.norm(i_col), 1e-12)\n",
    "        j_norm = max(torch.norm(j_col), 1e-12)\n",
    "        if i_norm == 0 or j_norm == 0:\n",
    "            if i_norm == j_norm:\n",
    "                mat_r[i][j] = 1\n",
    "            else:\n",
    "                mat_r[i][j] = 0\n",
    "        else:\n",
    "            mat_r[i][j] = (i_col @ j_col) / i_norm / j_norm\n",
    "        mat_r[j][i] = mat_r[i][j]\n",
    "mat_r = mat_r / mat_r.max()\n",
    "\n",
    "torch.save(mat_r, 'mat_r_excluded_missing.pt')\n",
    "mat_r.shape"
   ]
  },
  {
   "attachments": {},
   "cell_type": "markdown",
   "metadata": {},
   "source": [
    "Load matrix R"
   ]
  },
  {
   "cell_type": "code",
   "execution_count": 4,
   "metadata": {},
   "outputs": [
    {
     "data": {
      "text/plain": [
       "torch.Size([472, 472])"
      ]
     },
     "execution_count": 4,
     "metadata": {},
     "output_type": "execute_result"
    }
   ],
   "source": [
    "mat_r = torch.load('mat_r_excluded_missing.pt')\n",
    "mat_r.shape"
   ]
  },
  {
   "cell_type": "code",
   "execution_count": 5,
   "metadata": {},
   "outputs": [],
   "source": [
    "ALPHA = 0.9999\n",
    "\n",
    "n_timesteps, n_sections = mat_q.shape\n",
    "n_grouped = 0\n",
    "groups = []\n",
    "\n",
    "mat_r_copy = mat_r - torch.diag(mat_r.diag())\n",
    "while n_grouped < n_sections:\n",
    "    new_group_idx = torch.nonzero(mat_r_copy > ALPHA)\n",
    "    if len(new_group_idx) > 0:\n",
    "        corr = mat_r[new_group_idx[:, 0], new_group_idx[:, 1]]\n",
    "        new_group_idx = new_group_idx[:, 0].unique()\n",
    "\n",
    "        n_grouped += len(new_group_idx)\n",
    "        mat_r_copy[new_group_idx, :] = 0\n",
    "        mat_r_copy[:, new_group_idx] = 0\n",
    "        groups.append((new_group_idx, corr.min(), corr.max()))\n",
    "        if mat_r_copy.max() == 0:\n",
    "            break\n",
    "        else:\n",
    "            mat_r_copy /= mat_r_copy.max()\n",
    "del mat_r_copy"
   ]
  },
  {
   "cell_type": "markdown",
   "metadata": {},
   "source": [
    "Analyse grouping"
   ]
  },
  {
   "cell_type": "code",
   "execution_count": 6,
   "metadata": {},
   "outputs": [
    {
     "name": "stdout",
     "output_type": "stream",
     "text": [
      "Using alpha=0.9999, 472 correlated sections were divided into 154 groups:\n",
      "Group 1 - 2 sections with correlation coefficients 1.000 to 1.000\n",
      "Group 2 - 2 sections with correlation coefficients 0.970 to 0.970\n",
      "Group 3 - 2 sections with correlation coefficients 0.969 to 0.969\n",
      "Group 4 - 2 sections with correlation coefficients 0.261 to 0.261\n",
      "Group 5 - 2 sections with correlation coefficients 0.259 to 0.259\n",
      "Group 6 - 2 sections with correlation coefficients 0.252 to 0.252\n",
      "Group 7 - 2 sections with correlation coefficients 0.252 to 0.252\n",
      "Group 8 - 2 sections with correlation coefficients 0.249 to 0.249\n",
      "Group 9 - 2 sections with correlation coefficients 0.248 to 0.248\n",
      "Group 10 - 2 sections with correlation coefficients 0.246 to 0.246\n",
      "Group 11 - 2 sections with correlation coefficients 0.244 to 0.244\n",
      "Group 12 - 2 sections with correlation coefficients 0.244 to 0.244\n",
      "Group 13 - 2 sections with correlation coefficients 0.242 to 0.242\n",
      "Group 14 - 2 sections with correlation coefficients 0.241 to 0.241\n",
      "Group 15 - 2 sections with correlation coefficients 0.241 to 0.241\n",
      "Group 16 - 2 sections with correlation coefficients 0.240 to 0.240\n",
      "Group 17 - 2 sections with correlation coefficients 0.239 to 0.239\n",
      "Group 18 - 2 sections with correlation coefficients 0.239 to 0.239\n",
      "Group 19 - 2 sections with correlation coefficients 0.239 to 0.239\n",
      "Group 20 - 2 sections with correlation coefficients 0.238 to 0.238\n",
      "Group 21 - 2 sections with correlation coefficients 0.238 to 0.238\n",
      "Group 22 - 2 sections with correlation coefficients 0.238 to 0.238\n",
      "Group 23 - 2 sections with correlation coefficients 0.237 to 0.237\n",
      "Group 24 - 2 sections with correlation coefficients 0.237 to 0.237\n",
      "Group 25 - 2 sections with correlation coefficients 0.237 to 0.237\n",
      "Group 26 - 2 sections with correlation coefficients 0.236 to 0.236\n",
      "Group 27 - 2 sections with correlation coefficients 0.235 to 0.235\n",
      "Group 28 - 2 sections with correlation coefficients 0.235 to 0.235\n",
      "Group 29 - 2 sections with correlation coefficients 0.234 to 0.234\n",
      "Group 30 - 2 sections with correlation coefficients 0.234 to 0.234\n",
      "Group 31 - 2 sections with correlation coefficients 0.234 to 0.234\n",
      "Group 32 - 4 sections with correlation coefficients 0.234 to 0.234\n",
      "Group 33 - 2 sections with correlation coefficients 0.234 to 0.234\n",
      "Group 34 - 2 sections with correlation coefficients 0.233 to 0.233\n",
      "Group 35 - 2 sections with correlation coefficients 0.232 to 0.232\n",
      "Group 36 - 2 sections with correlation coefficients 0.232 to 0.232\n",
      "Group 37 - 2 sections with correlation coefficients 0.230 to 0.230\n",
      "Group 38 - 2 sections with correlation coefficients 0.230 to 0.230\n",
      "Group 39 - 2 sections with correlation coefficients 0.229 to 0.229\n",
      "Group 40 - 2 sections with correlation coefficients 0.229 to 0.229\n",
      "Group 41 - 2 sections with correlation coefficients 0.229 to 0.229\n",
      "Group 42 - 2 sections with correlation coefficients 0.229 to 0.229\n",
      "Group 43 - 2 sections with correlation coefficients 0.229 to 0.229\n",
      "Group 44 - 2 sections with correlation coefficients 0.229 to 0.229\n",
      "Group 45 - 2 sections with correlation coefficients 0.229 to 0.229\n",
      "Group 46 - 4 sections with correlation coefficients 0.228 to 0.228\n",
      "Group 47 - 2 sections with correlation coefficients 0.228 to 0.228\n",
      "Group 48 - 2 sections with correlation coefficients 0.228 to 0.228\n",
      "Group 49 - 2 sections with correlation coefficients 0.227 to 0.227\n",
      "Group 50 - 2 sections with correlation coefficients 0.226 to 0.226\n",
      "Group 51 - 2 sections with correlation coefficients 0.226 to 0.226\n",
      "Group 52 - 2 sections with correlation coefficients 0.225 to 0.225\n",
      "Group 53 - 2 sections with correlation coefficients 0.225 to 0.225\n",
      "Group 54 - 2 sections with correlation coefficients 0.225 to 0.225\n",
      "Group 55 - 2 sections with correlation coefficients 0.224 to 0.224\n",
      "Group 56 - 2 sections with correlation coefficients 0.224 to 0.224\n",
      "Group 57 - 2 sections with correlation coefficients 0.224 to 0.224\n",
      "Group 58 - 2 sections with correlation coefficients 0.224 to 0.224\n",
      "Group 59 - 2 sections with correlation coefficients 0.223 to 0.223\n",
      "Group 60 - 2 sections with correlation coefficients 0.223 to 0.223\n",
      "Group 61 - 2 sections with correlation coefficients 0.223 to 0.223\n",
      "Group 62 - 2 sections with correlation coefficients 0.222 to 0.222\n",
      "Group 63 - 2 sections with correlation coefficients 0.221 to 0.221\n",
      "Group 64 - 2 sections with correlation coefficients 0.220 to 0.220\n",
      "Group 65 - 2 sections with correlation coefficients 0.220 to 0.220\n",
      "Group 66 - 2 sections with correlation coefficients 0.220 to 0.220\n",
      "Group 67 - 2 sections with correlation coefficients 0.219 to 0.219\n",
      "Group 68 - 2 sections with correlation coefficients 0.219 to 0.219\n",
      "Group 69 - 2 sections with correlation coefficients 0.219 to 0.219\n",
      "Group 70 - 2 sections with correlation coefficients 0.219 to 0.219\n",
      "Group 71 - 4 sections with correlation coefficients 0.218 to 0.218\n",
      "Group 72 - 2 sections with correlation coefficients 0.218 to 0.218\n",
      "Group 73 - 2 sections with correlation coefficients 0.218 to 0.218\n",
      "Group 74 - 2 sections with correlation coefficients 0.218 to 0.218\n",
      "Group 75 - 2 sections with correlation coefficients 0.218 to 0.218\n",
      "Group 76 - 2 sections with correlation coefficients 0.218 to 0.218\n",
      "Group 77 - 2 sections with correlation coefficients 0.218 to 0.218\n",
      "Group 78 - 2 sections with correlation coefficients 0.217 to 0.217\n",
      "Group 79 - 2 sections with correlation coefficients 0.217 to 0.217\n",
      "Group 80 - 2 sections with correlation coefficients 0.217 to 0.217\n",
      "Group 81 - 2 sections with correlation coefficients 0.216 to 0.216\n",
      "Group 82 - 2 sections with correlation coefficients 0.216 to 0.216\n",
      "Group 83 - 2 sections with correlation coefficients 0.215 to 0.215\n",
      "Group 84 - 2 sections with correlation coefficients 0.215 to 0.215\n",
      "Group 85 - 2 sections with correlation coefficients 0.215 to 0.215\n",
      "Group 86 - 2 sections with correlation coefficients 0.214 to 0.214\n",
      "Group 87 - 4 sections with correlation coefficients 0.214 to 0.214\n",
      "Group 88 - 2 sections with correlation coefficients 0.214 to 0.214\n",
      "Group 89 - 2 sections with correlation coefficients 0.213 to 0.213\n",
      "Group 90 - 2 sections with correlation coefficients 0.213 to 0.213\n",
      "Group 91 - 2 sections with correlation coefficients 0.212 to 0.212\n",
      "Group 92 - 2 sections with correlation coefficients 0.211 to 0.211\n",
      "Group 93 - 2 sections with correlation coefficients 0.210 to 0.210\n",
      "Group 94 - 2 sections with correlation coefficients 0.210 to 0.210\n",
      "Group 95 - 2 sections with correlation coefficients 0.209 to 0.209\n",
      "Group 96 - 2 sections with correlation coefficients 0.209 to 0.209\n",
      "Group 97 - 2 sections with correlation coefficients 0.208 to 0.208\n",
      "Group 98 - 2 sections with correlation coefficients 0.208 to 0.208\n",
      "Group 99 - 2 sections with correlation coefficients 0.207 to 0.207\n",
      "Group 100 - 2 sections with correlation coefficients 0.207 to 0.207\n",
      "Group 101 - 2 sections with correlation coefficients 0.206 to 0.206\n",
      "Group 102 - 2 sections with correlation coefficients 0.206 to 0.206\n",
      "Group 103 - 2 sections with correlation coefficients 0.206 to 0.206\n",
      "Group 104 - 2 sections with correlation coefficients 0.206 to 0.206\n",
      "Group 105 - 2 sections with correlation coefficients 0.206 to 0.206\n",
      "Group 106 - 2 sections with correlation coefficients 0.206 to 0.206\n",
      "Group 107 - 2 sections with correlation coefficients 0.206 to 0.206\n",
      "Group 108 - 2 sections with correlation coefficients 0.205 to 0.205\n",
      "Group 109 - 4 sections with correlation coefficients 0.205 to 0.205\n",
      "Group 110 - 2 sections with correlation coefficients 0.205 to 0.205\n",
      "Group 111 - 2 sections with correlation coefficients 0.204 to 0.204\n",
      "Group 112 - 2 sections with correlation coefficients 0.204 to 0.204\n",
      "Group 113 - 2 sections with correlation coefficients 0.203 to 0.203\n",
      "Group 114 - 2 sections with correlation coefficients 0.203 to 0.203\n",
      "Group 115 - 2 sections with correlation coefficients 0.202 to 0.202\n",
      "Group 116 - 2 sections with correlation coefficients 0.202 to 0.202\n",
      "Group 117 - 2 sections with correlation coefficients 0.202 to 0.202\n",
      "Group 118 - 2 sections with correlation coefficients 0.202 to 0.202\n",
      "Group 119 - 2 sections with correlation coefficients 0.201 to 0.201\n",
      "Group 120 - 2 sections with correlation coefficients 0.201 to 0.201\n",
      "Group 121 - 4 sections with correlation coefficients 0.201 to 0.201\n",
      "Group 122 - 2 sections with correlation coefficients 0.200 to 0.200\n",
      "Group 123 - 2 sections with correlation coefficients 0.200 to 0.200\n",
      "Group 124 - 2 sections with correlation coefficients 0.200 to 0.200\n",
      "Group 125 - 2 sections with correlation coefficients 0.200 to 0.200\n",
      "Group 126 - 2 sections with correlation coefficients 0.200 to 0.200\n",
      "Group 127 - 2 sections with correlation coefficients 0.200 to 0.200\n",
      "Group 128 - 2 sections with correlation coefficients 0.199 to 0.199\n",
      "Group 129 - 2 sections with correlation coefficients 0.199 to 0.199\n",
      "Group 130 - 2 sections with correlation coefficients 0.198 to 0.198\n",
      "Group 131 - 2 sections with correlation coefficients 0.198 to 0.198\n",
      "Group 132 - 2 sections with correlation coefficients 0.198 to 0.198\n",
      "Group 133 - 2 sections with correlation coefficients 0.197 to 0.197\n",
      "Group 134 - 2 sections with correlation coefficients 0.196 to 0.196\n",
      "Group 135 - 2 sections with correlation coefficients 0.195 to 0.195\n",
      "Group 136 - 2 sections with correlation coefficients 0.195 to 0.195\n",
      "Group 137 - 2 sections with correlation coefficients 0.194 to 0.194\n",
      "Group 138 - 2 sections with correlation coefficients 0.191 to 0.191\n",
      "Group 139 - 2 sections with correlation coefficients 0.189 to 0.189\n",
      "Group 140 - 2 sections with correlation coefficients 0.188 to 0.188\n",
      "Group 141 - 2 sections with correlation coefficients 0.188 to 0.188\n",
      "Group 142 - 2 sections with correlation coefficients 0.188 to 0.188\n",
      "Group 143 - 2 sections with correlation coefficients 0.186 to 0.186\n",
      "Group 144 - 2 sections with correlation coefficients 0.183 to 0.183\n",
      "Group 145 - 2 sections with correlation coefficients 0.183 to 0.183\n",
      "Group 146 - 2 sections with correlation coefficients 0.183 to 0.183\n",
      "Group 147 - 2 sections with correlation coefficients 0.182 to 0.182\n",
      "Group 148 - 2 sections with correlation coefficients 0.182 to 0.182\n",
      "Group 149 - 2 sections with correlation coefficients 0.179 to 0.179\n",
      "Group 150 - 2 sections with correlation coefficients 0.178 to 0.178\n",
      "Group 151 - 2 sections with correlation coefficients 0.176 to 0.176\n",
      "Group 152 - 2 sections with correlation coefficients 0.162 to 0.162\n",
      "Group 153 - 2 sections with correlation coefficients 0.160 to 0.160\n",
      "Group 154 - 2 sections with correlation coefficients 0.074 to 0.074\n",
      "152 section(s) don't correlate with anything and weren't grouped\n"
     ]
    },
    {
     "name": "stderr",
     "output_type": "stream",
     "text": [
      "C:\\Users\\19ak9\\AppData\\Local\\Temp\\ipykernel_56520\\3453684837.py:5: UserWarning: The use of `x.T` on tensors of dimension other than 2 to reverse their shape is deprecated and it will throw an error in a future release. Consider `x.mT` to transpose batches of matrices or `x.permute(*torch.arange(x.ndim - 1, -1, -1))` to reverse the dimensions of a tensor. (Triggered internally at C:\\cb\\pytorch_1000000000000\\work\\aten\\src\\ATen\\native\\TensorShape.cpp:3281.)\n",
      "  group_coeffs = mat_r[tuple(group.T), :]\n"
     ]
    }
   ],
   "source": [
    "print(f'Using alpha={ALPHA}, {n_sections} correlated sections were divided ' +\n",
    "      f'into {len(groups)} groups:')\n",
    "n_ungrouped = 0\n",
    "for i, (group, corr_min, corr_max) in enumerate(groups, start=1):\n",
    "      group_coeffs = mat_r[tuple(group.T), :]\n",
    "      print(f'Group {i} - {len(group)} sections with correlation coefficients '\n",
    "          f'{corr_min:.3f} to {corr_max:.3f}')\n",
    "print(str(n_sections - n_grouped) + \" section(s) don't correlate with anything and weren't grouped\")\n"
   ]
  },
  {
   "cell_type": "code",
   "execution_count": 7,
   "metadata": {},
   "outputs": [
    {
     "data": {
      "text/plain": [
       "torch.Size([32064, 154])"
      ]
     },
     "execution_count": 7,
     "metadata": {},
     "output_type": "execute_result"
    }
   ],
   "source": [
    "representatives = torch.stack([g[0] for g, _, _ in groups])\n",
    "mat_c = mat_q[:, representatives]\n",
    "assert mat_c.shape == (mat_q.shape[0], len(groups))\n",
    "torch.save(mat_c, 'mat_c_excluded_missing.pt')\n",
    "mat_c.shape"
   ]
  },
  {
   "cell_type": "code",
   "execution_count": 8,
   "metadata": {},
   "outputs": [
    {
     "data": {
      "text/plain": [
       "torch.Size([154, 472])"
      ]
     },
     "execution_count": 8,
     "metadata": {},
     "output_type": "execute_result"
    }
   ],
   "source": [
    "mat_x = torch.linalg.pinv(mat_c) @ mat_q\n",
    "torch.save(mat_x, 'mat_x_excluded_missing.pt')\n",
    "mat_x.shape"
   ]
  },
  {
   "cell_type": "code",
   "execution_count": 9,
   "metadata": {},
   "outputs": [
    {
     "name": "stdout",
     "output_type": "stream",
     "text": [
      "tensor(365.1183)\n"
     ]
    }
   ],
   "source": [
    "print(torch.max((mat_c @ mat_x) - mat_q))"
   ]
  },
  {
   "cell_type": "code",
   "execution_count": null,
   "metadata": {},
   "outputs": [],
   "source": []
  }
 ],
 "metadata": {
  "kernelspec": {
   "display_name": ".idp",
   "language": "python",
   "name": "python3"
  },
  "language_info": {
   "codemirror_mode": {
    "name": "ipython",
    "version": 3
   },
   "file_extension": ".py",
   "mimetype": "text/x-python",
   "name": "python",
   "nbconvert_exporter": "python",
   "pygments_lexer": "ipython3",
   "version": "3.9.15"
  },
  "orig_nbformat": 4,
  "vscode": {
   "interpreter": {
    "hash": "912fb52f238e5d0393cd3cb39c1046be4cbf42cc336ebf4385af401bc969f2f7"
   }
  }
 },
 "nbformat": 4,
 "nbformat_minor": 2
}
