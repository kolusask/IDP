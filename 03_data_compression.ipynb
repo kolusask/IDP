{
 "cells": [
  {
   "cell_type": "code",
   "execution_count": 1,
   "metadata": {},
   "outputs": [],
   "source": [
    "from datetime import datetime\n",
    "\n",
    "import torch\n",
    "from config import *\n",
    "\n",
    "from data.compress import *\n",
    "from data.util import count_points_between, crop_q_between\n",
    "\n",
    "%reload_ext autoreload\n",
    "%autoreload 2"
   ]
  },
  {
   "cell_type": "code",
   "execution_count": 2,
   "metadata": {},
   "outputs": [],
   "source": [
    "READ_START_DATE = datetime.strptime(CONFIG['READ_START_DATE'], DATE_FORMAT)\n",
    "READ_END_DATE = datetime.strptime(CONFIG['READ_END_DATE'], DATE_FORMAT)\n",
    "TRAIN_START_DATE = datetime.strptime(CONFIG['TRAIN_START_DATE'], DATE_FORMAT)\n",
    "TRAIN_END_DATE = datetime.strptime(CONFIG['TRAIN_END_DATE'], DATE_FORMAT)\n",
    "ALPHA = CONFIG['ALPHA']"
   ]
  },
  {
   "attachments": {},
   "cell_type": "markdown",
   "metadata": {},
   "source": [
    "Load matrix $Q$"
   ]
  },
  {
   "cell_type": "code",
   "execution_count": 3,
   "metadata": {},
   "outputs": [
    {
     "data": {
      "text/plain": [
       "torch.Size([32064, 472])"
      ]
     },
     "execution_count": 3,
     "metadata": {},
     "output_type": "execute_result"
    }
   ],
   "source": [
    "mat_q = torch.load(out_path('mat_q_resid.pt'))\n",
    "mat_q = torch.abs(mat_q)\n",
    "mat_q.shape"
   ]
  },
  {
   "attachments": {},
   "cell_type": "markdown",
   "metadata": {},
   "source": [
    "Crop $Q$ to the required time period"
   ]
  },
  {
   "cell_type": "code",
   "execution_count": 4,
   "metadata": {},
   "outputs": [
    {
     "data": {
      "text/plain": [
       "torch.Size([2880, 472])"
      ]
     },
     "execution_count": 4,
     "metadata": {},
     "output_type": "execute_result"
    }
   ],
   "source": [
    "n_samples, n_sections = mat_q.shape\n",
    "mat_q = crop_q_between(mat_q, READ_START_DATE, READ_END_DATE, TRAIN_START_DATE, TRAIN_END_DATE)\n",
    "assert mat_q.shape == (count_points_between(TRAIN_START_DATE, TRAIN_END_DATE), n_sections)\n",
    "mat_q.shape"
   ]
  },
  {
   "attachments": {},
   "cell_type": "markdown",
   "metadata": {},
   "source": [
    "Construct a correlation coefficient matrix\n",
    "$$\n",
    "R(i, j)=\\frac{\\sum_{k=1}^d(z(s_i,t_k)-\\tilde{z}(s_i))(z(s_j,t_k)-\\tilde{z}(s_j))}{\\sqrt{\\sum_{k=1}^d(z(s_i,t_k)-\\tilde{z}(s_i))^2}\\sqrt{\\sum_{k=1}^d(z(s_j,t_k)-\\tilde{z}(s_j))^2}},\n",
    "$$\n",
    "where $$\\tilde{z}(s_i)=\\frac{1}{d}\\sum_{k=1}^dz(s_i,t_k)$$"
   ]
  },
  {
   "cell_type": "code",
   "execution_count": 16,
   "metadata": {},
   "outputs": [
    {
     "data": {
      "text/plain": [
       "tensor([[ 0.0000,  0.0000,  0.0000,  ...,  0.0000,  0.0000,  0.0000],\n",
       "        [ 0.0000,  1.0000,  0.0000,  ...,  0.0021, -0.0053, -0.0141],\n",
       "        [ 0.0000,  0.0000,  0.0000,  ...,  0.0000,  0.0000,  0.0000],\n",
       "        ...,\n",
       "        [ 0.0000,  0.0021,  0.0000,  ...,  1.0000,  0.3693,  0.3200],\n",
       "        [ 0.0000, -0.0053,  0.0000,  ...,  0.3693,  1.0000,  0.3010],\n",
       "        [ 0.0000, -0.0141,  0.0000,  ...,  0.3200,  0.3010,  1.0000]])"
      ]
     },
     "metadata": {},
     "output_type": "display_data"
    },
    {
     "data": {
      "text/plain": [
       "tensor([[ 1.0000,  0.0512,  0.0026,  ...,  0.0021, -0.0053, -0.0141],\n",
       "        [ 0.0512,  1.0000,  0.1154,  ...,  0.1707,  0.2455,  0.1391],\n",
       "        [ 0.0026,  0.1154,  1.0000,  ...,  0.4088,  0.2961,  0.3215],\n",
       "        ...,\n",
       "        [ 0.0021,  0.1707,  0.4088,  ...,  1.0000,  0.3693,  0.3200],\n",
       "        [-0.0053,  0.2455,  0.2961,  ...,  0.3693,  1.0000,  0.3010],\n",
       "        [-0.0141,  0.1391,  0.3215,  ...,  0.3200,  0.3010,  1.0000]])"
      ]
     },
     "metadata": {},
     "output_type": "display_data"
    },
    {
     "data": {
      "text/plain": [
       "tensor([  1,   3,   5,   6,   9,  11,  12,  13,  15,  17,  19,  21,  23,  24,\n",
       "         25,  26,  27,  29,  30,  32,  33,  34,  37,  38,  39,  40,  41,  43,\n",
       "         45,  46,  47,  49,  50,  52,  53,  54,  55,  56,  58,  59,  61,  63,\n",
       "         65,  67,  69,  71,  72,  74,  77,  79,  80,  81,  83,  85,  87,  89,\n",
       "         90,  91,  92,  98,  99, 101, 102, 103, 105, 106, 109, 110, 111, 112,\n",
       "        113, 114, 115, 116, 117, 119, 120, 121, 123, 124, 125, 126, 129, 130,\n",
       "        133, 134, 135, 136, 137, 139, 141, 142, 143, 144, 145, 147, 148, 149,\n",
       "        150, 151, 153, 155, 156, 157, 159, 160, 161, 163, 165, 166, 167, 168,\n",
       "        169, 170, 171, 173, 174, 175, 177, 179, 180, 183, 184, 185, 186, 189,\n",
       "        190, 191, 193, 195, 197, 199, 201, 202, 203, 205, 206, 207, 209, 210,\n",
       "        211, 212, 215, 217, 219, 220, 221, 223, 225, 226, 227, 229, 230, 231,\n",
       "        233, 234, 235, 237, 238, 239, 241, 242, 243, 245, 246, 248, 249, 251,\n",
       "        253, 254, 255, 256, 257, 258, 259, 261, 263, 264, 267, 268, 269, 270,\n",
       "        273, 275, 277, 279, 281, 282, 283, 285, 286, 287, 288, 289, 290, 291,\n",
       "        293, 295, 297, 299, 301, 302, 303, 306, 307, 309, 311, 312, 313, 314,\n",
       "        315, 317, 318, 321, 323, 324, 326, 327, 329, 330, 331, 332, 333, 335,\n",
       "        336, 337, 338, 340, 341, 342, 343, 344, 345, 347, 349, 350, 351, 352,\n",
       "        353, 354, 357, 359, 361, 362, 363, 365, 366, 369, 370, 372, 373, 375,\n",
       "        376, 378, 379, 381, 383, 385, 386, 387, 389, 390, 391, 393, 394, 396,\n",
       "        397, 398, 399, 400, 401, 402, 405, 406, 407, 408, 411, 413, 415, 417,\n",
       "        418, 419, 421, 423, 424, 427, 428, 429, 430, 432, 433, 435, 436, 439,\n",
       "        441, 443, 444, 445, 446, 447, 448, 449, 450, 451, 453, 455, 456, 457,\n",
       "        459, 461, 462, 463, 464, 465, 466, 467, 468, 469, 470, 471])"
      ]
     },
     "execution_count": 16,
     "metadata": {},
     "output_type": "execute_result"
    }
   ],
   "source": [
    "mat_r_orig = build_correlation_matrix(mat_q)\n",
    "mat_r, nonempty = build_correlation_matrix(mat_q, True)\n",
    "display(mat_r_orig)\n",
    "display(mat_r)\n",
    "del mat_r_orig\n",
    "nonempty"
   ]
  },
  {
   "cell_type": "code",
   "execution_count": 6,
   "metadata": {},
   "outputs": [
    {
     "data": {
      "text/plain": [
       "({1, 2, 3, 4, 6, 9, 10, 11, 14, 23}, 347)"
      ]
     },
     "execution_count": 6,
     "metadata": {},
     "output_type": "execute_result"
    }
   ],
   "source": [
    "groups = split_sections_into_groups(mat_r, 0.54)\n",
    "set([len(g) for g in groups]), len(groups)"
   ]
  },
  {
   "attachments": {},
   "cell_type": "markdown",
   "metadata": {},
   "source": [
    "Analyse grouping"
   ]
  },
  {
   "cell_type": "code",
   "execution_count": 7,
   "metadata": {},
   "outputs": [
    {
     "name": "stdout",
     "output_type": "stream",
     "text": [
      "Using alpha=0.54, 472 correlated sections were divided into 347 groups:\n",
      "Group 1 - 1 sections: 0\n",
      "Group 2 - 1 sections: 1\n",
      "Group 3 - 1 sections: 2\n",
      "Group 4 - 6 sections: 3, 137, 309, 92, 354, 30\n",
      "Group 5 - 1 sections: 4\n",
      "Group 6 - 1 sections: 5\n",
      "Group 7 - 10 sections: 6, 151, 249, 105, 248, 347, 352, 372, 464, 25\n",
      "Group 8 - 1 sections: 7\n",
      "Group 9 - 1 sections: 8\n",
      "Group 10 - 2 sections: 9, 32\n",
      "Group 11 - 1 sections: 10\n",
      "Group 12 - 1 sections: 11\n",
      "Group 13 - 14 sections: 12, 307, 13, 50, 106, 110, 168, 255, 282, 299, 173, 315, 340, 38\n",
      "Group 14 - 1 sections: 14\n",
      "Group 15 - 1 sections: 15\n",
      "Group 16 - 1 sections: 16\n",
      "Group 17 - 1 sections: 17\n",
      "Group 18 - 1 sections: 18\n",
      "Group 19 - 1 sections: 19\n",
      "Group 20 - 1 sections: 20\n",
      "Group 21 - 3 sections: 21, 203, 85\n",
      "Group 22 - 1 sections: 22\n",
      "Group 23 - 1 sections: 23\n",
      "Group 24 - 11 sections: 24, 436, 71, 150, 245, 281, 373, 453, 465, 466, 467\n",
      "Group 25 - 1 sections: 26\n",
      "Group 26 - 2 sections: 27, 303\n",
      "Group 27 - 1 sections: 28\n",
      "Group 28 - 1 sections: 29\n",
      "Group 29 - 1 sections: 31\n",
      "Group 30 - 23 sections: 33, 191, 257, 185, 469, 207, 40, 114, 115, 193, 261, 401, 432, 457, 461, 135, 447, 451, 351, 126, 264, 456, 175\n",
      "Group 31 - 1 sections: 34\n",
      "Group 32 - 1 sections: 35\n",
      "Group 33 - 1 sections: 36\n",
      "Group 34 - 1 sections: 37\n",
      "Group 35 - 1 sections: 39\n",
      "Group 36 - 6 sections: 41, 111, 174, 376, 450, 134\n",
      "Group 37 - 1 sections: 42\n",
      "Group 38 - 1 sections: 43\n",
      "Group 39 - 1 sections: 44\n",
      "Group 40 - 9 sections: 45, 141, 234, 331, 389, 201, 183, 455, 156\n",
      "Group 41 - 4 sections: 46, 190, 256, 363\n",
      "Group 42 - 1 sections: 47\n",
      "Group 43 - 1 sections: 48\n",
      "Group 44 - 11 sections: 49, 83, 103, 273, 375, 209, 383, 199, 205, 237, 301\n",
      "Group 45 - 1 sections: 51\n",
      "Group 46 - 2 sections: 52, 53\n",
      "Group 47 - 2 sections: 54, 302\n",
      "Group 48 - 1 sections: 55\n",
      "Group 49 - 2 sections: 56, 220\n",
      "Group 50 - 1 sections: 57\n",
      "Group 51 - 1 sections: 58\n",
      "Group 52 - 1 sections: 59\n",
      "Group 53 - 1 sections: 60\n",
      "Group 54 - 1 sections: 61\n",
      "Group 55 - 1 sections: 62\n",
      "Group 56 - 1 sections: 63\n",
      "Group 57 - 1 sections: 64\n",
      "Group 58 - 1 sections: 65\n",
      "Group 59 - 1 sections: 66\n",
      "Group 60 - 1 sections: 67\n",
      "Group 61 - 1 sections: 68\n",
      "Group 62 - 1 sections: 69\n",
      "Group 63 - 1 sections: 70\n",
      "Group 64 - 1 sections: 72\n",
      "Group 65 - 1 sections: 73\n",
      "Group 66 - 2 sections: 74, 270\n",
      "Group 67 - 1 sections: 75\n",
      "Group 68 - 1 sections: 76\n",
      "Group 69 - 1 sections: 77\n",
      "Group 70 - 1 sections: 78\n",
      "Group 71 - 1 sections: 79\n",
      "Group 72 - 6 sections: 80, 142, 336, 449, 211, 99\n",
      "Group 73 - 3 sections: 81, 143, 448\n",
      "Group 74 - 1 sections: 82\n",
      "Group 75 - 1 sections: 84\n",
      "Group 76 - 1 sections: 86\n",
      "Group 77 - 1 sections: 87\n",
      "Group 78 - 1 sections: 88\n",
      "Group 79 - 1 sections: 89\n",
      "Group 80 - 3 sections: 90, 332, 378\n",
      "Group 81 - 3 sections: 91, 119, 333\n",
      "Group 82 - 1 sections: 93\n",
      "Group 83 - 1 sections: 94\n",
      "Group 84 - 1 sections: 95\n",
      "Group 85 - 1 sections: 96\n",
      "Group 86 - 1 sections: 97\n",
      "Group 87 - 1 sections: 98\n",
      "Group 88 - 1 sections: 100\n",
      "Group 89 - 1 sections: 101\n",
      "Group 90 - 2 sections: 102, 430\n",
      "Group 91 - 1 sections: 104\n",
      "Group 92 - 1 sections: 107\n",
      "Group 93 - 1 sections: 108\n",
      "Group 94 - 1 sections: 109\n",
      "Group 95 - 1 sections: 112\n",
      "Group 96 - 3 sections: 113, 286, 221\n",
      "Group 97 - 2 sections: 116, 362\n",
      "Group 98 - 1 sections: 117\n",
      "Group 99 - 1 sections: 118\n",
      "Group 100 - 1 sections: 120\n",
      "Group 101 - 1 sections: 121\n",
      "Group 102 - 1 sections: 122\n",
      "Group 103 - 1 sections: 123\n",
      "Group 104 - 1 sections: 124\n",
      "Group 105 - 1 sections: 125\n",
      "Group 106 - 1 sections: 127\n",
      "Group 107 - 1 sections: 128\n",
      "Group 108 - 1 sections: 129\n",
      "Group 109 - 1 sections: 130\n",
      "Group 110 - 1 sections: 131\n",
      "Group 111 - 1 sections: 132\n",
      "Group 112 - 1 sections: 133\n",
      "Group 113 - 1 sections: 136\n",
      "Group 114 - 1 sections: 138\n",
      "Group 115 - 3 sections: 139, 350, 417\n",
      "Group 116 - 1 sections: 140\n",
      "Group 117 - 4 sections: 144, 170, 246, 313\n",
      "Group 118 - 2 sections: 145, 312\n",
      "Group 119 - 1 sections: 146\n",
      "Group 120 - 1 sections: 147\n",
      "Group 121 - 2 sections: 148, 314\n",
      "Group 122 - 1 sections: 149\n",
      "Group 123 - 1 sections: 152\n",
      "Group 124 - 1 sections: 153\n",
      "Group 125 - 1 sections: 154\n",
      "Group 126 - 1 sections: 155\n",
      "Group 127 - 1 sections: 157\n",
      "Group 128 - 1 sections: 158\n",
      "Group 129 - 1 sections: 159\n",
      "Group 130 - 1 sections: 160\n",
      "Group 131 - 1 sections: 161\n",
      "Group 132 - 1 sections: 162\n",
      "Group 133 - 1 sections: 163\n",
      "Group 134 - 1 sections: 164\n",
      "Group 135 - 1 sections: 165\n",
      "Group 136 - 1 sections: 166\n",
      "Group 137 - 1 sections: 167\n",
      "Group 138 - 1 sections: 169\n",
      "Group 139 - 1 sections: 171\n",
      "Group 140 - 1 sections: 172\n",
      "Group 141 - 1 sections: 176\n",
      "Group 142 - 1 sections: 177\n",
      "Group 143 - 1 sections: 178\n",
      "Group 144 - 1 sections: 179\n",
      "Group 145 - 1 sections: 180\n",
      "Group 146 - 1 sections: 181\n",
      "Group 147 - 1 sections: 182\n",
      "Group 148 - 1 sections: 184\n",
      "Group 149 - 1 sections: 186\n",
      "Group 150 - 1 sections: 187\n",
      "Group 151 - 1 sections: 188\n",
      "Group 152 - 1 sections: 189\n",
      "Group 153 - 1 sections: 192\n",
      "Group 154 - 1 sections: 194\n",
      "Group 155 - 1 sections: 195\n",
      "Group 156 - 1 sections: 196\n",
      "Group 157 - 1 sections: 197\n",
      "Group 158 - 1 sections: 198\n",
      "Group 159 - 1 sections: 200\n",
      "Group 160 - 1 sections: 202\n",
      "Group 161 - 1 sections: 204\n",
      "Group 162 - 1 sections: 206\n",
      "Group 163 - 1 sections: 208\n",
      "Group 164 - 1 sections: 210\n",
      "Group 165 - 1 sections: 212\n",
      "Group 166 - 1 sections: 213\n",
      "Group 167 - 1 sections: 214\n",
      "Group 168 - 2 sections: 215, 290\n",
      "Group 169 - 1 sections: 216\n",
      "Group 170 - 1 sections: 217\n",
      "Group 171 - 1 sections: 218\n",
      "Group 172 - 1 sections: 219\n",
      "Group 173 - 1 sections: 222\n",
      "Group 174 - 1 sections: 223\n",
      "Group 175 - 1 sections: 224\n",
      "Group 176 - 2 sections: 225, 441\n",
      "Group 177 - 1 sections: 226\n",
      "Group 178 - 1 sections: 227\n",
      "Group 179 - 1 sections: 228\n",
      "Group 180 - 1 sections: 229\n",
      "Group 181 - 1 sections: 230\n",
      "Group 182 - 1 sections: 231\n",
      "Group 183 - 1 sections: 232\n",
      "Group 184 - 1 sections: 233\n",
      "Group 185 - 1 sections: 235\n",
      "Group 186 - 1 sections: 236\n",
      "Group 187 - 1 sections: 238\n",
      "Group 188 - 2 sections: 239, 446\n",
      "Group 189 - 1 sections: 240\n",
      "Group 190 - 1 sections: 241\n",
      "Group 191 - 1 sections: 242\n",
      "Group 192 - 1 sections: 243\n",
      "Group 193 - 1 sections: 244\n",
      "Group 194 - 1 sections: 247\n",
      "Group 195 - 1 sections: 250\n",
      "Group 196 - 1 sections: 251\n",
      "Group 197 - 1 sections: 252\n",
      "Group 198 - 1 sections: 253\n",
      "Group 199 - 1 sections: 254\n",
      "Group 200 - 1 sections: 258\n",
      "Group 201 - 2 sections: 259, 399\n",
      "Group 202 - 1 sections: 260\n",
      "Group 203 - 1 sections: 262\n",
      "Group 204 - 1 sections: 263\n",
      "Group 205 - 1 sections: 265\n",
      "Group 206 - 1 sections: 266\n",
      "Group 207 - 1 sections: 267\n",
      "Group 208 - 1 sections: 268\n",
      "Group 209 - 2 sections: 269, 433\n",
      "Group 210 - 1 sections: 271\n",
      "Group 211 - 1 sections: 272\n",
      "Group 212 - 1 sections: 274\n",
      "Group 213 - 1 sections: 275\n",
      "Group 214 - 1 sections: 276\n",
      "Group 215 - 1 sections: 277\n",
      "Group 216 - 1 sections: 278\n",
      "Group 217 - 1 sections: 279\n",
      "Group 218 - 1 sections: 280\n",
      "Group 219 - 1 sections: 283\n",
      "Group 220 - 1 sections: 284\n",
      "Group 221 - 1 sections: 285\n",
      "Group 222 - 1 sections: 287\n",
      "Group 223 - 1 sections: 288\n",
      "Group 224 - 1 sections: 289\n",
      "Group 225 - 1 sections: 291\n",
      "Group 226 - 1 sections: 292\n",
      "Group 227 - 1 sections: 293\n",
      "Group 228 - 1 sections: 294\n",
      "Group 229 - 1 sections: 295\n",
      "Group 230 - 1 sections: 296\n",
      "Group 231 - 1 sections: 297\n",
      "Group 232 - 1 sections: 298\n",
      "Group 233 - 1 sections: 300\n",
      "Group 234 - 1 sections: 304\n",
      "Group 235 - 1 sections: 305\n",
      "Group 236 - 1 sections: 306\n",
      "Group 237 - 1 sections: 308\n",
      "Group 238 - 1 sections: 310\n",
      "Group 239 - 1 sections: 311\n",
      "Group 240 - 1 sections: 316\n",
      "Group 241 - 1 sections: 317\n",
      "Group 242 - 3 sections: 318, 400, 418\n",
      "Group 243 - 1 sections: 319\n",
      "Group 244 - 1 sections: 320\n",
      "Group 245 - 1 sections: 321\n",
      "Group 246 - 1 sections: 322\n",
      "Group 247 - 1 sections: 323\n",
      "Group 248 - 1 sections: 324\n",
      "Group 249 - 1 sections: 325\n",
      "Group 250 - 1 sections: 326\n",
      "Group 251 - 1 sections: 327\n",
      "Group 252 - 1 sections: 328\n",
      "Group 253 - 1 sections: 329\n",
      "Group 254 - 1 sections: 330\n",
      "Group 255 - 1 sections: 334\n",
      "Group 256 - 2 sections: 335, 462\n",
      "Group 257 - 1 sections: 337\n",
      "Group 258 - 1 sections: 338\n",
      "Group 259 - 1 sections: 339\n",
      "Group 260 - 1 sections: 341\n",
      "Group 261 - 1 sections: 342\n",
      "Group 262 - 1 sections: 343\n",
      "Group 263 - 1 sections: 344\n",
      "Group 264 - 1 sections: 345\n",
      "Group 265 - 1 sections: 346\n",
      "Group 266 - 1 sections: 348\n",
      "Group 267 - 1 sections: 349\n",
      "Group 268 - 1 sections: 353\n",
      "Group 269 - 1 sections: 355\n",
      "Group 270 - 1 sections: 356\n",
      "Group 271 - 1 sections: 357\n",
      "Group 272 - 1 sections: 358\n",
      "Group 273 - 1 sections: 359\n",
      "Group 274 - 1 sections: 360\n",
      "Group 275 - 1 sections: 361\n",
      "Group 276 - 1 sections: 364\n",
      "Group 277 - 1 sections: 365\n",
      "Group 278 - 1 sections: 366\n",
      "Group 279 - 1 sections: 367\n",
      "Group 280 - 1 sections: 368\n",
      "Group 281 - 1 sections: 369\n",
      "Group 282 - 1 sections: 370\n",
      "Group 283 - 1 sections: 371\n",
      "Group 284 - 1 sections: 374\n",
      "Group 285 - 1 sections: 377\n",
      "Group 286 - 1 sections: 379\n",
      "Group 287 - 1 sections: 380\n",
      "Group 288 - 1 sections: 381\n",
      "Group 289 - 1 sections: 382\n",
      "Group 290 - 1 sections: 384\n",
      "Group 291 - 1 sections: 385\n",
      "Group 292 - 1 sections: 386\n",
      "Group 293 - 1 sections: 387\n",
      "Group 294 - 1 sections: 388\n",
      "Group 295 - 1 sections: 390\n",
      "Group 296 - 3 sections: 391, 428, 429\n",
      "Group 297 - 1 sections: 392\n",
      "Group 298 - 1 sections: 393\n",
      "Group 299 - 1 sections: 394\n",
      "Group 300 - 1 sections: 395\n",
      "Group 301 - 1 sections: 396\n",
      "Group 302 - 1 sections: 397\n",
      "Group 303 - 1 sections: 398\n",
      "Group 304 - 1 sections: 402\n",
      "Group 305 - 1 sections: 403\n",
      "Group 306 - 1 sections: 404\n",
      "Group 307 - 1 sections: 405\n",
      "Group 308 - 1 sections: 406\n",
      "Group 309 - 1 sections: 407\n",
      "Group 310 - 1 sections: 408\n",
      "Group 311 - 1 sections: 409\n",
      "Group 312 - 1 sections: 410\n",
      "Group 313 - 1 sections: 411\n",
      "Group 314 - 1 sections: 412\n",
      "Group 315 - 1 sections: 413\n",
      "Group 316 - 1 sections: 414\n",
      "Group 317 - 1 sections: 415\n",
      "Group 318 - 1 sections: 416\n",
      "Group 319 - 1 sections: 419\n",
      "Group 320 - 1 sections: 420\n",
      "Group 321 - 1 sections: 421\n",
      "Group 322 - 1 sections: 422\n",
      "Group 323 - 1 sections: 423\n",
      "Group 324 - 1 sections: 424\n",
      "Group 325 - 1 sections: 425\n",
      "Group 326 - 1 sections: 426\n",
      "Group 327 - 1 sections: 427\n",
      "Group 328 - 1 sections: 431\n",
      "Group 329 - 1 sections: 434\n",
      "Group 330 - 1 sections: 435\n",
      "Group 331 - 1 sections: 437\n",
      "Group 332 - 1 sections: 438\n",
      "Group 333 - 1 sections: 439\n",
      "Group 334 - 1 sections: 440\n",
      "Group 335 - 1 sections: 442\n",
      "Group 336 - 1 sections: 443\n",
      "Group 337 - 1 sections: 444\n",
      "Group 338 - 1 sections: 445\n",
      "Group 339 - 1 sections: 452\n",
      "Group 340 - 1 sections: 454\n",
      "Group 341 - 1 sections: 458\n",
      "Group 342 - 1 sections: 459\n",
      "Group 343 - 1 sections: 460\n",
      "Group 344 - 1 sections: 463\n",
      "Group 345 - 1 sections: 468\n",
      "Group 346 - 1 sections: 470\n",
      "Group 347 - 1 sections: 471\n"
     ]
    }
   ],
   "source": [
    "_, n_sections = mat_q.shape\n",
    "print(f'Using alpha={ALPHA}, {n_sections} correlated sections were divided ' +\n",
    "      f'into {len(groups)} groups:')\n",
    "for i, group in enumerate(groups, start=1):\n",
    "      print(f'Group {i} - {len(group)} sections: {\", \".join(str(s) for s in group)}')\n"
   ]
  },
  {
   "cell_type": "code",
   "execution_count": 8,
   "metadata": {},
   "outputs": [
    {
     "data": {
      "text/plain": [
       "torch.Size([2880, 347])"
      ]
     },
     "execution_count": 8,
     "metadata": {},
     "output_type": "execute_result"
    }
   ],
   "source": [
    "mat_c = get_compression_matrix(mat_q, groups)\n",
    "\n",
    "assert mat_c.shape == (mat_q.shape[0], len(groups))\n",
    "torch.save(mat_c, out_path('mat_c.pt'))\n",
    "mat_c.shape"
   ]
  },
  {
   "cell_type": "code",
   "execution_count": 9,
   "metadata": {},
   "outputs": [
    {
     "data": {
      "text/plain": [
       "torch.Size([347, 472])"
      ]
     },
     "execution_count": 9,
     "metadata": {},
     "output_type": "execute_result"
    }
   ],
   "source": [
    "mat_x = get_compressed_matrix(mat_c, mat_q)\n",
    "torch.save(mat_x, out_path('mat_x.pt'))\n",
    "mat_x.shape"
   ]
  }
 ],
 "metadata": {
  "kernelspec": {
   "display_name": ".idp",
   "language": "python",
   "name": "python3"
  },
  "language_info": {
   "codemirror_mode": {
    "name": "ipython",
    "version": 3
   },
   "file_extension": ".py",
   "mimetype": "text/x-python",
   "name": "python",
   "nbconvert_exporter": "python",
   "pygments_lexer": "ipython3",
   "version": "3.10.9"
  },
  "orig_nbformat": 4,
  "vscode": {
   "interpreter": {
    "hash": "912fb52f238e5d0393cd3cb39c1046be4cbf42cc336ebf4385af401bc969f2f7"
   }
  }
 },
 "nbformat": 4,
 "nbformat_minor": 2
}
