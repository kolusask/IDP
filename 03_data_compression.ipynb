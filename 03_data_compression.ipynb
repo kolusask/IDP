{
 "cells": [
  {
   "cell_type": "code",
   "execution_count": 1,
   "metadata": {},
   "outputs": [],
   "source": [
    "import torch\n",
    "from config import *\n",
    "\n",
    "%reload_ext autoreload\n",
    "%autoreload 2"
   ]
  },
  {
   "cell_type": "code",
   "execution_count": 2,
   "metadata": {},
   "outputs": [],
   "source": [
    "ALPHA = CONFIG['ALPHA']"
   ]
  },
  {
   "attachments": {},
   "cell_type": "markdown",
   "metadata": {},
   "source": [
    "Load matrix $Q$"
   ]
  },
  {
   "cell_type": "code",
   "execution_count": 3,
   "metadata": {},
   "outputs": [
    {
     "data": {
      "text/plain": [
       "torch.Size([20352, 472])"
      ]
     },
     "execution_count": 3,
     "metadata": {},
     "output_type": "execute_result"
    }
   ],
   "source": [
    "mat_q = torch.load(out_path('mat_q_resid.pt'))\n",
    "mat_q = torch.abs(mat_q)\n",
    "mat_q.shape"
   ]
  },
  {
   "attachments": {},
   "cell_type": "markdown",
   "metadata": {},
   "source": [
    "Construct a correlation coefficient matrix\n",
    "$$\n",
    "R(i, j)=\\frac{\\sum_{k=1}^d(z(s_i,t_k)-\\tilde{z}(s_i))(z(s_j,t_k)-\\tilde{z}(s_j))}{\\sqrt{\\sum_{k=1}^d(z(s_i,t_k)-\\tilde{z}(s_i))^2}\\sqrt{\\sum_{k=1}^d(z(s_j,t_k)-\\tilde{z}(s_j))^2}},\n",
    "$$\n",
    "where $$\\tilde{z}(s_i)=\\frac{1}{d}\\sum_{k=1}^dz(s_i,t_k)$$"
   ]
  },
  {
   "cell_type": "code",
   "execution_count": 4,
   "metadata": {},
   "outputs": [
    {
     "data": {
      "text/plain": [
       "torch.Size([472, 472])"
      ]
     },
     "execution_count": 4,
     "metadata": {},
     "output_type": "execute_result"
    }
   ],
   "source": [
    "d, p = mat_q.shape\n",
    "mat_q_normalized = mat_q - mat_q.mean(dim=0)\n",
    "mat_r = torch.zeros(p, p)\n",
    "for i in range(p):\n",
    "    for j in range(i, p):\n",
    "        i_col = mat_q_normalized[:, i]\n",
    "        j_col = mat_q_normalized[:, j]\n",
    "        i_norm = max(torch.norm(i_col), 1e-12)\n",
    "        j_norm = max(torch.norm(j_col), 1e-12)\n",
    "        if i_norm == 0 or j_norm == 0:\n",
    "            if i_norm == j_norm:\n",
    "                mat_r[i][j] = 1\n",
    "            else:\n",
    "                mat_r[i][j] = 0\n",
    "        else:\n",
    "            mat_r[i][j] = (i_col @ j_col) / i_norm / j_norm\n",
    "        mat_r[j][i] = mat_r[i][j]\n",
    "mat_r = mat_r / mat_r.max()\n",
    "\n",
    "torch.save(mat_r, out_path('mat_r.pt'))\n",
    "mat_r.shape"
   ]
  },
  {
   "attachments": {},
   "cell_type": "markdown",
   "metadata": {},
   "source": [
    "Load matrix R"
   ]
  },
  {
   "cell_type": "code",
   "execution_count": 5,
   "metadata": {},
   "outputs": [
    {
     "data": {
      "text/plain": [
       "torch.Size([472, 472])"
      ]
     },
     "execution_count": 5,
     "metadata": {},
     "output_type": "execute_result"
    }
   ],
   "source": [
    "mat_r = torch.load(out_path('mat_r.pt'))\n",
    "mat_r.shape"
   ]
  },
  {
   "cell_type": "code",
   "execution_count": 6,
   "metadata": {},
   "outputs": [],
   "source": [
    "n_timesteps, n_sections = mat_q.shape\n",
    "n_grouped = 0\n",
    "groups = []\n",
    "\n",
    "mat_r_copy = mat_r - torch.diag(mat_r.diag())\n",
    "while n_grouped < n_sections:\n",
    "    new_group_idx = torch.nonzero(mat_r_copy > ALPHA)\n",
    "    if len(new_group_idx) > 0:\n",
    "        corr = mat_r[new_group_idx[:, 0], new_group_idx[:, 1]]\n",
    "        new_group_idx = new_group_idx[:, 0].unique()\n",
    "\n",
    "        n_grouped += len(new_group_idx)\n",
    "        mat_r_copy[new_group_idx, :] = 0\n",
    "        mat_r_copy[:, new_group_idx] = 0\n",
    "        groups.append((new_group_idx, corr.min(), corr.max()))\n",
    "        if mat_r_copy.max() == 0:\n",
    "            break\n",
    "        else:\n",
    "            mat_r_copy /= mat_r_copy.max()\n",
    "del mat_r_copy"
   ]
  },
  {
   "attachments": {},
   "cell_type": "markdown",
   "metadata": {},
   "source": [
    "Analyse grouping"
   ]
  },
  {
   "cell_type": "code",
   "execution_count": 7,
   "metadata": {},
   "outputs": [
    {
     "name": "stdout",
     "output_type": "stream",
     "text": [
      "Using alpha=0.9999, 472 correlated sections were divided into 159 groups:\n",
      "Group 1 - 2 sections with correlation coefficients 1.000 to 1.000\n",
      "Group 2 - 2 sections with correlation coefficients 0.981 to 0.981\n",
      "Group 3 - 2 sections with correlation coefficients 0.976 to 0.976\n",
      "Group 4 - 2 sections with correlation coefficients 0.952 to 0.952\n",
      "Group 5 - 2 sections with correlation coefficients 0.288 to 0.288\n",
      "Group 6 - 2 sections with correlation coefficients 0.258 to 0.258\n",
      "Group 7 - 2 sections with correlation coefficients 0.247 to 0.247\n",
      "Group 8 - 2 sections with correlation coefficients 0.225 to 0.225\n",
      "Group 9 - 2 sections with correlation coefficients 0.220 to 0.220\n",
      "Group 10 - 2 sections with correlation coefficients 0.213 to 0.213\n",
      "Group 11 - 2 sections with correlation coefficients 0.191 to 0.191\n",
      "Group 12 - 2 sections with correlation coefficients 0.187 to 0.187\n",
      "Group 13 - 2 sections with correlation coefficients 0.183 to 0.183\n",
      "Group 14 - 2 sections with correlation coefficients 0.182 to 0.182\n",
      "Group 15 - 2 sections with correlation coefficients 0.176 to 0.176\n",
      "Group 16 - 2 sections with correlation coefficients 0.175 to 0.175\n",
      "Group 17 - 2 sections with correlation coefficients 0.175 to 0.175\n",
      "Group 18 - 2 sections with correlation coefficients 0.172 to 0.172\n",
      "Group 19 - 2 sections with correlation coefficients 0.161 to 0.161\n",
      "Group 20 - 2 sections with correlation coefficients 0.160 to 0.160\n",
      "Group 21 - 2 sections with correlation coefficients 0.159 to 0.159\n",
      "Group 22 - 2 sections with correlation coefficients 0.150 to 0.150\n",
      "Group 23 - 2 sections with correlation coefficients 0.145 to 0.145\n",
      "Group 24 - 2 sections with correlation coefficients 0.144 to 0.144\n",
      "Group 25 - 2 sections with correlation coefficients 0.140 to 0.140\n",
      "Group 26 - 2 sections with correlation coefficients 0.140 to 0.140\n",
      "Group 27 - 2 sections with correlation coefficients 0.138 to 0.138\n",
      "Group 28 - 2 sections with correlation coefficients 0.135 to 0.135\n",
      "Group 29 - 2 sections with correlation coefficients 0.133 to 0.133\n",
      "Group 30 - 4 sections with correlation coefficients 0.127 to 0.127\n",
      "Group 31 - 2 sections with correlation coefficients 0.126 to 0.126\n",
      "Group 32 - 2 sections with correlation coefficients 0.124 to 0.124\n",
      "Group 33 - 2 sections with correlation coefficients 0.123 to 0.123\n",
      "Group 34 - 2 sections with correlation coefficients 0.117 to 0.117\n",
      "Group 35 - 2 sections with correlation coefficients 0.117 to 0.117\n",
      "Group 36 - 2 sections with correlation coefficients 0.115 to 0.115\n",
      "Group 37 - 2 sections with correlation coefficients 0.113 to 0.113\n",
      "Group 38 - 2 sections with correlation coefficients 0.111 to 0.111\n",
      "Group 39 - 2 sections with correlation coefficients 0.108 to 0.108\n",
      "Group 40 - 2 sections with correlation coefficients 0.107 to 0.107\n",
      "Group 41 - 2 sections with correlation coefficients 0.106 to 0.106\n",
      "Group 42 - 2 sections with correlation coefficients 0.105 to 0.105\n",
      "Group 43 - 2 sections with correlation coefficients 0.105 to 0.105\n",
      "Group 44 - 2 sections with correlation coefficients 0.105 to 0.105\n",
      "Group 45 - 2 sections with correlation coefficients 0.105 to 0.105\n",
      "Group 46 - 2 sections with correlation coefficients 0.103 to 0.103\n",
      "Group 47 - 2 sections with correlation coefficients 0.101 to 0.101\n",
      "Group 48 - 2 sections with correlation coefficients 0.100 to 0.100\n",
      "Group 49 - 2 sections with correlation coefficients 0.099 to 0.099\n",
      "Group 50 - 2 sections with correlation coefficients 0.098 to 0.098\n",
      "Group 51 - 2 sections with correlation coefficients 0.098 to 0.098\n",
      "Group 52 - 2 sections with correlation coefficients 0.098 to 0.098\n",
      "Group 53 - 2 sections with correlation coefficients 0.098 to 0.098\n",
      "Group 54 - 2 sections with correlation coefficients 0.097 to 0.097\n",
      "Group 55 - 2 sections with correlation coefficients 0.097 to 0.097\n",
      "Group 56 - 2 sections with correlation coefficients 0.096 to 0.096\n",
      "Group 57 - 2 sections with correlation coefficients 0.096 to 0.096\n",
      "Group 58 - 2 sections with correlation coefficients 0.096 to 0.096\n",
      "Group 59 - 2 sections with correlation coefficients 0.096 to 0.096\n",
      "Group 60 - 2 sections with correlation coefficients 0.095 to 0.095\n",
      "Group 61 - 2 sections with correlation coefficients 0.094 to 0.094\n",
      "Group 62 - 2 sections with correlation coefficients 0.094 to 0.094\n",
      "Group 63 - 2 sections with correlation coefficients 0.093 to 0.093\n",
      "Group 64 - 2 sections with correlation coefficients 0.092 to 0.092\n",
      "Group 65 - 2 sections with correlation coefficients 0.091 to 0.091\n",
      "Group 66 - 2 sections with correlation coefficients 0.086 to 0.086\n",
      "Group 67 - 2 sections with correlation coefficients 0.086 to 0.086\n",
      "Group 68 - 2 sections with correlation coefficients 0.086 to 0.086\n",
      "Group 69 - 2 sections with correlation coefficients 0.086 to 0.086\n",
      "Group 70 - 2 sections with correlation coefficients 0.082 to 0.082\n",
      "Group 71 - 2 sections with correlation coefficients 0.082 to 0.082\n",
      "Group 72 - 2 sections with correlation coefficients 0.082 to 0.082\n",
      "Group 73 - 2 sections with correlation coefficients 0.081 to 0.081\n",
      "Group 74 - 2 sections with correlation coefficients 0.080 to 0.080\n",
      "Group 75 - 2 sections with correlation coefficients 0.079 to 0.079\n",
      "Group 76 - 2 sections with correlation coefficients 0.079 to 0.079\n",
      "Group 77 - 2 sections with correlation coefficients 0.078 to 0.078\n",
      "Group 78 - 2 sections with correlation coefficients 0.076 to 0.076\n",
      "Group 79 - 2 sections with correlation coefficients 0.075 to 0.075\n",
      "Group 80 - 2 sections with correlation coefficients 0.075 to 0.075\n",
      "Group 81 - 2 sections with correlation coefficients 0.074 to 0.074\n",
      "Group 82 - 2 sections with correlation coefficients 0.074 to 0.074\n",
      "Group 83 - 2 sections with correlation coefficients 0.073 to 0.073\n",
      "Group 84 - 2 sections with correlation coefficients 0.073 to 0.073\n",
      "Group 85 - 2 sections with correlation coefficients 0.073 to 0.073\n",
      "Group 86 - 2 sections with correlation coefficients 0.071 to 0.071\n",
      "Group 87 - 2 sections with correlation coefficients 0.071 to 0.071\n",
      "Group 88 - 2 sections with correlation coefficients 0.070 to 0.070\n",
      "Group 89 - 2 sections with correlation coefficients 0.069 to 0.069\n",
      "Group 90 - 2 sections with correlation coefficients 0.068 to 0.068\n",
      "Group 91 - 2 sections with correlation coefficients 0.068 to 0.068\n",
      "Group 92 - 2 sections with correlation coefficients 0.067 to 0.067\n",
      "Group 93 - 2 sections with correlation coefficients 0.067 to 0.067\n",
      "Group 94 - 2 sections with correlation coefficients 0.066 to 0.066\n",
      "Group 95 - 2 sections with correlation coefficients 0.066 to 0.066\n",
      "Group 96 - 2 sections with correlation coefficients 0.065 to 0.065\n",
      "Group 97 - 2 sections with correlation coefficients 0.063 to 0.063\n",
      "Group 98 - 2 sections with correlation coefficients 0.063 to 0.063\n",
      "Group 99 - 2 sections with correlation coefficients 0.063 to 0.063\n",
      "Group 100 - 2 sections with correlation coefficients 0.063 to 0.063\n",
      "Group 101 - 2 sections with correlation coefficients 0.062 to 0.062\n",
      "Group 102 - 2 sections with correlation coefficients 0.062 to 0.062\n",
      "Group 103 - 2 sections with correlation coefficients 0.062 to 0.062\n",
      "Group 104 - 2 sections with correlation coefficients 0.061 to 0.061\n",
      "Group 105 - 2 sections with correlation coefficients 0.061 to 0.061\n",
      "Group 106 - 2 sections with correlation coefficients 0.061 to 0.061\n",
      "Group 107 - 2 sections with correlation coefficients 0.059 to 0.059\n",
      "Group 108 - 2 sections with correlation coefficients 0.059 to 0.059\n",
      "Group 109 - 2 sections with correlation coefficients 0.058 to 0.058\n",
      "Group 110 - 2 sections with correlation coefficients 0.058 to 0.058\n",
      "Group 111 - 2 sections with correlation coefficients 0.057 to 0.057\n",
      "Group 112 - 2 sections with correlation coefficients 0.056 to 0.056\n",
      "Group 113 - 2 sections with correlation coefficients 0.054 to 0.054\n",
      "Group 114 - 2 sections with correlation coefficients 0.054 to 0.054\n",
      "Group 115 - 2 sections with correlation coefficients 0.054 to 0.054\n",
      "Group 116 - 2 sections with correlation coefficients 0.054 to 0.054\n",
      "Group 117 - 2 sections with correlation coefficients 0.054 to 0.054\n",
      "Group 118 - 2 sections with correlation coefficients 0.053 to 0.053\n",
      "Group 119 - 2 sections with correlation coefficients 0.052 to 0.052\n",
      "Group 120 - 2 sections with correlation coefficients 0.052 to 0.052\n",
      "Group 121 - 2 sections with correlation coefficients 0.051 to 0.051\n",
      "Group 122 - 2 sections with correlation coefficients 0.050 to 0.050\n",
      "Group 123 - 2 sections with correlation coefficients 0.049 to 0.049\n",
      "Group 124 - 2 sections with correlation coefficients 0.049 to 0.049\n",
      "Group 125 - 2 sections with correlation coefficients 0.048 to 0.048\n",
      "Group 126 - 2 sections with correlation coefficients 0.048 to 0.048\n",
      "Group 127 - 2 sections with correlation coefficients 0.048 to 0.048\n",
      "Group 128 - 2 sections with correlation coefficients 0.047 to 0.047\n",
      "Group 129 - 2 sections with correlation coefficients 0.047 to 0.047\n",
      "Group 130 - 2 sections with correlation coefficients 0.047 to 0.047\n",
      "Group 131 - 2 sections with correlation coefficients 0.046 to 0.046\n",
      "Group 132 - 2 sections with correlation coefficients 0.045 to 0.045\n",
      "Group 133 - 2 sections with correlation coefficients 0.045 to 0.045\n",
      "Group 134 - 2 sections with correlation coefficients 0.044 to 0.044\n",
      "Group 135 - 2 sections with correlation coefficients 0.043 to 0.043\n",
      "Group 136 - 2 sections with correlation coefficients 0.043 to 0.043\n",
      "Group 137 - 2 sections with correlation coefficients 0.042 to 0.042\n",
      "Group 138 - 2 sections with correlation coefficients 0.042 to 0.042\n",
      "Group 139 - 2 sections with correlation coefficients 0.042 to 0.042\n",
      "Group 140 - 2 sections with correlation coefficients 0.042 to 0.042\n",
      "Group 141 - 2 sections with correlation coefficients 0.041 to 0.041\n",
      "Group 142 - 2 sections with correlation coefficients 0.040 to 0.040\n",
      "Group 143 - 2 sections with correlation coefficients 0.040 to 0.040\n",
      "Group 144 - 2 sections with correlation coefficients 0.039 to 0.039\n",
      "Group 145 - 2 sections with correlation coefficients 0.039 to 0.039\n",
      "Group 146 - 2 sections with correlation coefficients 0.037 to 0.037\n",
      "Group 147 - 2 sections with correlation coefficients 0.037 to 0.037\n",
      "Group 148 - 2 sections with correlation coefficients 0.036 to 0.036\n",
      "Group 149 - 2 sections with correlation coefficients 0.036 to 0.036\n",
      "Group 150 - 2 sections with correlation coefficients 0.036 to 0.036\n",
      "Group 151 - 2 sections with correlation coefficients 0.035 to 0.035\n",
      "Group 152 - 2 sections with correlation coefficients 0.035 to 0.035\n",
      "Group 153 - 2 sections with correlation coefficients 0.034 to 0.034\n",
      "Group 154 - 2 sections with correlation coefficients 0.033 to 0.033\n",
      "Group 155 - 2 sections with correlation coefficients 0.030 to 0.030\n",
      "Group 156 - 2 sections with correlation coefficients 0.030 to 0.030\n",
      "Group 157 - 2 sections with correlation coefficients 0.014 to 0.014\n",
      "Group 158 - 2 sections with correlation coefficients 0.006 to 0.006\n",
      "Group 159 - 2 sections with correlation coefficients 0.001 to 0.001\n",
      "152 section(s) don't correlate with anything and weren't grouped\n"
     ]
    },
    {
     "name": "stderr",
     "output_type": "stream",
     "text": [
      "/tmp/ipykernel_14303/3453684837.py:5: UserWarning: The use of `x.T` on tensors of dimension other than 2 to reverse their shape is deprecated and it will throw an error in a future release. Consider `x.mT` to transpose batches of matrices or `x.permute(*torch.arange(x.ndim - 1, -1, -1))` to reverse the dimensions of a tensor. (Triggered internally at ../aten/src/ATen/native/TensorShape.cpp:3571.)\n",
      "  group_coeffs = mat_r[tuple(group.T), :]\n"
     ]
    }
   ],
   "source": [
    "print(f'Using alpha={ALPHA}, {n_sections} correlated sections were divided ' +\n",
    "      f'into {len(groups)} groups:')\n",
    "n_ungrouped = 0\n",
    "for i, (group, corr_min, corr_max) in enumerate(groups, start=1):\n",
    "      group_coeffs = mat_r[tuple(group.T), :]\n",
    "      print(f'Group {i} - {len(group)} sections with correlation coefficients '\n",
    "          f'{corr_min:.3f} to {corr_max:.3f}')\n",
    "print(str(n_sections - n_grouped) + \" section(s) don't correlate with anything and weren't grouped\")\n"
   ]
  },
  {
   "cell_type": "code",
   "execution_count": 8,
   "metadata": {},
   "outputs": [
    {
     "data": {
      "text/plain": [
       "torch.Size([20352, 159])"
      ]
     },
     "execution_count": 8,
     "metadata": {},
     "output_type": "execute_result"
    }
   ],
   "source": [
    "representatives = torch.stack([g[0] for g, _, _ in groups])\n",
    "mat_c = mat_q[:, representatives]\n",
    "assert mat_c.shape == (mat_q.shape[0], len(groups))\n",
    "torch.save(mat_c, out_path('mat_c.pt'))\n",
    "mat_c.shape"
   ]
  },
  {
   "cell_type": "code",
   "execution_count": 9,
   "metadata": {},
   "outputs": [
    {
     "data": {
      "text/plain": [
       "torch.Size([159, 472])"
      ]
     },
     "execution_count": 9,
     "metadata": {},
     "output_type": "execute_result"
    }
   ],
   "source": [
    "mat_x = torch.linalg.pinv(mat_c) @ mat_q\n",
    "torch.save(mat_x, out_path('mat_x.pt'))\n",
    "mat_x.shape"
   ]
  },
  {
   "cell_type": "code",
   "execution_count": null,
   "metadata": {},
   "outputs": [],
   "source": []
  }
 ],
 "metadata": {
  "kernelspec": {
   "display_name": ".idp",
   "language": "python",
   "name": "python3"
  },
  "language_info": {
   "codemirror_mode": {
    "name": "ipython",
    "version": 3
   },
   "file_extension": ".py",
   "mimetype": "text/x-python",
   "name": "python",
   "nbconvert_exporter": "python",
   "pygments_lexer": "ipython3",
   "version": "3.11.3"
  },
  "orig_nbformat": 4,
  "vscode": {
   "interpreter": {
    "hash": "912fb52f238e5d0393cd3cb39c1046be4cbf42cc336ebf4385af401bc969f2f7"
   }
  }
 },
 "nbformat": 4,
 "nbformat_minor": 2
}
