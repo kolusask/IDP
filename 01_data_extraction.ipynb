{
 "cells": [
  {
   "cell_type": "code",
   "execution_count": 10,
   "metadata": {},
   "outputs": [],
   "source": [
    "import pandas as pd\n",
    "import sys\n",
    "import torch\n",
    "\n",
    "from datetime import datetime\n",
    "from pprint import pprint\n",
    "\n",
    "\n",
    "if 'src' not in sys.path:\n",
    "    sys.path.append('src')\n",
    "\n",
    "%reload_ext autoreload\n",
    "%autoreload 2\n",
    "\n",
    "from explore.data import DetectorDataProvider, LookUpTable"
   ]
  },
  {
   "attachments": {},
   "cell_type": "markdown",
   "metadata": {},
   "source": [
    "### Read data from the data set"
   ]
  },
  {
   "attachments": {},
   "cell_type": "markdown",
   "metadata": {},
   "source": [
    "Get list of all sections"
   ]
  },
  {
   "cell_type": "code",
   "execution_count": 11,
   "metadata": {},
   "outputs": [
    {
     "name": "stdout",
     "output_type": "stream",
     "text": [
      "[('12', '4020'),\n",
      " ('6041', '6042'),\n",
      " ('3160', 'SH'),\n",
      " ('6100', 'Scheelestrasse'),\n",
      " ('23', '4100'),\n",
      " ('6090', '8505'),\n",
      " ('8402', 'Am Heidgraben'),\n",
      " ('4090', 'Hindemithstraße'),\n",
      " ('1060', '2010'),\n",
      " ('3030', 'Friedrich-Ebert-Strasse')]\n"
     ]
    }
   ],
   "source": [
    "lut = LookUpTable('Data')\n",
    "sections = set()\n",
    "for inter in lut.list_intersections():\n",
    "    detectors = lut.get_detectors_on(inter)\n",
    "    for sec in detectors[['Starting Intersection', 'Ending Intersection']].values:\n",
    "        sections.add(tuple(sorted(sec)))\n",
    "pprint(list(sections)[:10])"
   ]
  },
  {
   "attachments": {},
   "cell_type": "markdown",
   "metadata": {},
   "source": [
    "Extract list of detectors for each section"
   ]
  },
  {
   "cell_type": "code",
   "execution_count": 12,
   "metadata": {},
   "outputs": [
    {
     "data": {
      "text/html": [
       "<div>\n",
       "<style scoped>\n",
       "    .dataframe tbody tr th:only-of-type {\n",
       "        vertical-align: middle;\n",
       "    }\n",
       "\n",
       "    .dataframe tbody tr th {\n",
       "        vertical-align: top;\n",
       "    }\n",
       "\n",
       "    .dataframe thead th {\n",
       "        text-align: right;\n",
       "    }\n",
       "</style>\n",
       "<table border=\"1\" class=\"dataframe\">\n",
       "  <thead>\n",
       "    <tr style=\"text-align: right;\">\n",
       "      <th></th>\n",
       "      <th>Start</th>\n",
       "      <th>End</th>\n",
       "      <th>Detectors</th>\n",
       "    </tr>\n",
       "  </thead>\n",
       "  <tbody>\n",
       "    <tr>\n",
       "      <th>0</th>\n",
       "      <td>12</td>\n",
       "      <td>4020</td>\n",
       "      <td>[6(DC1), 7(DC2)]</td>\n",
       "    </tr>\n",
       "    <tr>\n",
       "      <th>1</th>\n",
       "      <td>4020</td>\n",
       "      <td>12</td>\n",
       "      <td>[1(DA1), 2(DA2)]</td>\n",
       "    </tr>\n",
       "    <tr>\n",
       "      <th>2</th>\n",
       "      <td>6041</td>\n",
       "      <td>6042</td>\n",
       "      <td>[1(DA1), 2(DA2), 3(DA3)]</td>\n",
       "    </tr>\n",
       "    <tr>\n",
       "      <th>3</th>\n",
       "      <td>6042</td>\n",
       "      <td>6041</td>\n",
       "      <td>[7(DC1), 8(DC2)]</td>\n",
       "    </tr>\n",
       "    <tr>\n",
       "      <th>4</th>\n",
       "      <td>3160</td>\n",
       "      <td>SH</td>\n",
       "      <td>[]</td>\n",
       "    </tr>\n",
       "    <tr>\n",
       "      <th>...</th>\n",
       "      <td>...</td>\n",
       "      <td>...</td>\n",
       "      <td>...</td>\n",
       "    </tr>\n",
       "    <tr>\n",
       "      <th>475</th>\n",
       "      <td>4010</td>\n",
       "      <td>2</td>\n",
       "      <td>[]</td>\n",
       "    </tr>\n",
       "    <tr>\n",
       "      <th>476</th>\n",
       "      <td>6050</td>\n",
       "      <td>Messerschmittstrasse</td>\n",
       "      <td>[]</td>\n",
       "    </tr>\n",
       "    <tr>\n",
       "      <th>477</th>\n",
       "      <td>Messerschmittstrasse</td>\n",
       "      <td>6050</td>\n",
       "      <td>[7(DD2A), 8(DD2B), 9(DD1)]</td>\n",
       "    </tr>\n",
       "    <tr>\n",
       "      <th>478</th>\n",
       "      <td>5050</td>\n",
       "      <td>Friedhofstrasse</td>\n",
       "      <td>[]</td>\n",
       "    </tr>\n",
       "    <tr>\n",
       "      <th>479</th>\n",
       "      <td>Friedhofstrasse</td>\n",
       "      <td>5050</td>\n",
       "      <td>[7(DE1), 8(DE2), 9(DE3)]</td>\n",
       "    </tr>\n",
       "  </tbody>\n",
       "</table>\n",
       "<p>480 rows × 3 columns</p>\n",
       "</div>"
      ],
      "text/plain": [
       "                    Start                   End                   Detectors\n",
       "0                      12                  4020            [6(DC1), 7(DC2)]\n",
       "1                    4020                    12            [1(DA1), 2(DA2)]\n",
       "2                    6041                  6042    [1(DA1), 2(DA2), 3(DA3)]\n",
       "3                    6042                  6041            [7(DC1), 8(DC2)]\n",
       "4                    3160                    SH                          []\n",
       "..                    ...                   ...                         ...\n",
       "475                  4010                     2                          []\n",
       "476                  6050  Messerschmittstrasse                          []\n",
       "477  Messerschmittstrasse                  6050  [7(DD2A), 8(DD2B), 9(DD1)]\n",
       "478                  5050       Friedhofstrasse                          []\n",
       "479       Friedhofstrasse                  5050    [7(DE1), 8(DE2), 9(DE3)]\n",
       "\n",
       "[480 rows x 3 columns]"
      ]
     },
     "execution_count": 12,
     "metadata": {},
     "output_type": "execute_result"
    }
   ],
   "source": [
    "lut = LookUpTable('Data')\n",
    "int_det = []\n",
    "for int_1, int_2 in sections:\n",
    "    det_1_2, det_2_1 = lut.get_detectors_between(int_1, int_2)\n",
    "    int_det.append((int_1, int_2, det_1_2))\n",
    "    int_det.append((int_2, int_1, det_2_1))\n",
    "int_det = pd.DataFrame(int_det, columns=['Start', 'End', 'Detectors'])\n",
    "int_det"
   ]
  },
  {
   "attachments": {},
   "cell_type": "markdown",
   "metadata": {},
   "source": [
    "Extract data from January to August and accumulate counts by section"
   ]
  },
  {
   "cell_type": "code",
   "execution_count": 13,
   "metadata": {},
   "outputs": [],
   "source": [
    "ddp = DetectorDataProvider('Data')"
   ]
  },
  {
   "cell_type": "code",
   "execution_count": 14,
   "metadata": {},
   "outputs": [
    {
     "name": "stdout",
     "output_type": "stream",
     "text": [
      "2040 Index([], dtype='object') ['8(DE1)', '9(DE2)']\n",
      "2040 Index([], dtype='object') ['2(DB1)']\n",
      "2040 Index([], dtype='object') ['7(DD1)']\n",
      "2040 Index([], dtype='object') ['1(DA1)', '3(DF4)', '4(DF3)', '5(DF2)', '6(DF1)']\n"
     ]
    },
    {
     "name": "stderr",
     "output_type": "stream",
     "text": [
      "C:\\Users\\19ak9\\AppData\\Local\\Temp\\ipykernel_18888\\3390864795.py:15: PerformanceWarning: \n",
      "your performance may suffer as PyTables will pickle object types that it cannot\n",
      "map directly to c-types [inferred_type->mixed,key->block0_values] [items->Index(['Start', 'End', 'Detectors', 'Counts'], dtype='object')]\n",
      "\n",
      "  int_det.to_hdf('int_det_excluded_missing.hdf', 'int_det')\n"
     ]
    },
    {
     "data": {
      "text/html": [
       "<div>\n",
       "<style scoped>\n",
       "    .dataframe tbody tr th:only-of-type {\n",
       "        vertical-align: middle;\n",
       "    }\n",
       "\n",
       "    .dataframe tbody tr th {\n",
       "        vertical-align: top;\n",
       "    }\n",
       "\n",
       "    .dataframe thead th {\n",
       "        text-align: right;\n",
       "    }\n",
       "</style>\n",
       "<table border=\"1\" class=\"dataframe\">\n",
       "  <thead>\n",
       "    <tr style=\"text-align: right;\">\n",
       "      <th></th>\n",
       "      <th>Start</th>\n",
       "      <th>End</th>\n",
       "      <th>Detectors</th>\n",
       "      <th>Counts</th>\n",
       "    </tr>\n",
       "  </thead>\n",
       "  <tbody>\n",
       "    <tr>\n",
       "      <th>0</th>\n",
       "      <td>12</td>\n",
       "      <td>4020</td>\n",
       "      <td>[6(DC1), 7(DC2)]</td>\n",
       "      <td>[0.0, 0.0, 0.0, 0.0, 2.0, 5.0, 5.0, 5.0, 6.0, ...</td>\n",
       "    </tr>\n",
       "    <tr>\n",
       "      <th>1</th>\n",
       "      <td>4020</td>\n",
       "      <td>12</td>\n",
       "      <td>[1(DA1), 2(DA2)]</td>\n",
       "      <td>[2.0, 3.0, 4.0, 13.0, 14.0, 16.0, 21.0, 23.0, ...</td>\n",
       "    </tr>\n",
       "    <tr>\n",
       "      <th>2</th>\n",
       "      <td>6041</td>\n",
       "      <td>6042</td>\n",
       "      <td>[1(DA1), 2(DA2), 3(DA3)]</td>\n",
       "      <td>[0.0, 0.0, 0.0, 2.0, 7.0, 9.0, 9.0, 11.0, 13.0...</td>\n",
       "    </tr>\n",
       "    <tr>\n",
       "      <th>3</th>\n",
       "      <td>6042</td>\n",
       "      <td>6041</td>\n",
       "      <td>[7(DC1), 8(DC2)]</td>\n",
       "      <td>[1.0, 1.0, 3.0, 8.0, 11.0, 11.0, 13.0, 13.0, 1...</td>\n",
       "    </tr>\n",
       "    <tr>\n",
       "      <th>4</th>\n",
       "      <td>3160</td>\n",
       "      <td>SH</td>\n",
       "      <td>[]</td>\n",
       "      <td>[0.0, 0.0, 0.0, 0.0, 0.0, 0.0, 0.0, 0.0, 0.0, ...</td>\n",
       "    </tr>\n",
       "    <tr>\n",
       "      <th>...</th>\n",
       "      <td>...</td>\n",
       "      <td>...</td>\n",
       "      <td>...</td>\n",
       "      <td>...</td>\n",
       "    </tr>\n",
       "    <tr>\n",
       "      <th>475</th>\n",
       "      <td>4010</td>\n",
       "      <td>2</td>\n",
       "      <td>[]</td>\n",
       "      <td>[0.0, 0.0, 0.0, 0.0, 0.0, 0.0, 0.0, 0.0, 0.0, ...</td>\n",
       "    </tr>\n",
       "    <tr>\n",
       "      <th>476</th>\n",
       "      <td>6050</td>\n",
       "      <td>Messerschmittstrasse</td>\n",
       "      <td>[]</td>\n",
       "      <td>[0.0, 0.0, 0.0, 0.0, 0.0, 0.0, 0.0, 0.0, 0.0, ...</td>\n",
       "    </tr>\n",
       "    <tr>\n",
       "      <th>477</th>\n",
       "      <td>Messerschmittstrasse</td>\n",
       "      <td>6050</td>\n",
       "      <td>[7(DD2A), 8(DD2B), 9(DD1)]</td>\n",
       "      <td>[0.0, 0.0, 0.0, 0.0, 0.0, 0.0, 0.0, 0.0, 0.0, ...</td>\n",
       "    </tr>\n",
       "    <tr>\n",
       "      <th>478</th>\n",
       "      <td>5050</td>\n",
       "      <td>Friedhofstrasse</td>\n",
       "      <td>[]</td>\n",
       "      <td>[0.0, 0.0, 0.0, 0.0, 0.0, 0.0, 0.0, 0.0, 0.0, ...</td>\n",
       "    </tr>\n",
       "    <tr>\n",
       "      <th>479</th>\n",
       "      <td>Friedhofstrasse</td>\n",
       "      <td>5050</td>\n",
       "      <td>[7(DE1), 8(DE2), 9(DE3)]</td>\n",
       "      <td>[0.0, 4.0, 4.0, 6.0, 9.0, 9.0, 9.0, 9.0, 9.0, ...</td>\n",
       "    </tr>\n",
       "  </tbody>\n",
       "</table>\n",
       "<p>480 rows × 4 columns</p>\n",
       "</div>"
      ],
      "text/plain": [
       "                    Start                   End                   Detectors  \\\n",
       "0                      12                  4020            [6(DC1), 7(DC2)]   \n",
       "1                    4020                    12            [1(DA1), 2(DA2)]   \n",
       "2                    6041                  6042    [1(DA1), 2(DA2), 3(DA3)]   \n",
       "3                    6042                  6041            [7(DC1), 8(DC2)]   \n",
       "4                    3160                    SH                          []   \n",
       "..                    ...                   ...                         ...   \n",
       "475                  4010                     2                          []   \n",
       "476                  6050  Messerschmittstrasse                          []   \n",
       "477  Messerschmittstrasse                  6050  [7(DD2A), 8(DD2B), 9(DD1)]   \n",
       "478                  5050       Friedhofstrasse                          []   \n",
       "479       Friedhofstrasse                  5050    [7(DE1), 8(DE2), 9(DE3)]   \n",
       "\n",
       "                                                Counts  \n",
       "0    [0.0, 0.0, 0.0, 0.0, 2.0, 5.0, 5.0, 5.0, 6.0, ...  \n",
       "1    [2.0, 3.0, 4.0, 13.0, 14.0, 16.0, 21.0, 23.0, ...  \n",
       "2    [0.0, 0.0, 0.0, 2.0, 7.0, 9.0, 9.0, 11.0, 13.0...  \n",
       "3    [1.0, 1.0, 3.0, 8.0, 11.0, 11.0, 13.0, 13.0, 1...  \n",
       "4    [0.0, 0.0, 0.0, 0.0, 0.0, 0.0, 0.0, 0.0, 0.0, ...  \n",
       "..                                                 ...  \n",
       "475  [0.0, 0.0, 0.0, 0.0, 0.0, 0.0, 0.0, 0.0, 0.0, ...  \n",
       "476  [0.0, 0.0, 0.0, 0.0, 0.0, 0.0, 0.0, 0.0, 0.0, ...  \n",
       "477  [0.0, 0.0, 0.0, 0.0, 0.0, 0.0, 0.0, 0.0, 0.0, ...  \n",
       "478  [0.0, 0.0, 0.0, 0.0, 0.0, 0.0, 0.0, 0.0, 0.0, ...  \n",
       "479  [0.0, 4.0, 4.0, 6.0, 9.0, 9.0, 9.0, 9.0, 9.0, ...  \n",
       "\n",
       "[480 rows x 4 columns]"
      ]
     },
     "execution_count": 14,
     "metadata": {},
     "output_type": "execute_result"
    }
   ],
   "source": [
    "START_DATE = datetime(2021, 1, 1)\n",
    "END_DATE = datetime(2021, 12, 1)\n",
    "\n",
    "lens = set()\n",
    "def get_count(section_end, detectors):\n",
    "    section_data = ddp.get_data_for_period(section_end, START_DATE, END_DATE)\n",
    "    for col in section_data.columns:\n",
    "        section_data[col] = pd.to_numeric(section_data[col], errors='coerce')\n",
    "    try:\n",
    "        return list(section_data[detectors].fillna(0).sum(axis=1, numeric_only=True).cumsum())\n",
    "    except KeyError:\n",
    "        print(section_end, section_data.columns, detectors)\n",
    "int_det['Counts'] = int_det.apply(lambda sec: get_count(sec['End'], sec['Detectors']), axis=1)\n",
    "\n",
    "int_det.to_hdf('int_det_excluded_missing.hdf', 'int_det')\n",
    "int_det"
   ]
  },
  {
   "attachments": {},
   "cell_type": "markdown",
   "metadata": {},
   "source": [
    "### Write data into a matrix"
   ]
  },
  {
   "attachments": {},
   "cell_type": "markdown",
   "metadata": {},
   "source": [
    "Write counts into a matrix\n",
    "$$Q=[q_1,q_2,...,q_p]$$\n",
    "for\n",
    "$$q_i=\\set{z(s_i,t_1),z(s_i,t_2),...z(s_i,t_d)}^T,$$\n",
    "$z(s_i,t_j)$ is the traffic flow of the road section $s_i$ within the time interval $(t_0,t_j)$"
   ]
  },
  {
   "cell_type": "code",
   "execution_count": 15,
   "metadata": {},
   "outputs": [
    {
     "ename": "RuntimeError",
     "evalue": "Could not infer dtype of NoneType",
     "output_type": "error",
     "traceback": [
      "\u001b[1;31m---------------------------------------------------------------------------\u001b[0m",
      "\u001b[1;31mRuntimeError\u001b[0m                              Traceback (most recent call last)",
      "Cell \u001b[1;32mIn [15], line 5\u001b[0m\n\u001b[0;32m      2\u001b[0m     mat_q \u001b[39m=\u001b[39m torch\u001b[39m.\u001b[39mtensor(int_det[\u001b[39m'\u001b[39m\u001b[39mCounts\u001b[39m\u001b[39m'\u001b[39m]\u001b[39m.\u001b[39mtolist())\u001b[39m.\u001b[39mT\n\u001b[0;32m      3\u001b[0m     \u001b[39mreturn\u001b[39;00m mat_q\n\u001b[1;32m----> 5\u001b[0m mat_q \u001b[39m=\u001b[39m construct_q(int_det)\n\u001b[0;32m      6\u001b[0m torch\u001b[39m.\u001b[39msave(mat_q, \u001b[39m'\u001b[39m\u001b[39mmat_q_excluded_missing.pt\u001b[39m\u001b[39m'\u001b[39m)\n\u001b[0;32m      7\u001b[0m mat_q\u001b[39m.\u001b[39mshape\n",
      "Cell \u001b[1;32mIn [15], line 2\u001b[0m, in \u001b[0;36mconstruct_q\u001b[1;34m(int_det)\u001b[0m\n\u001b[0;32m      1\u001b[0m \u001b[39mdef\u001b[39;00m \u001b[39mconstruct_q\u001b[39m(int_det: pd\u001b[39m.\u001b[39mDataFrame):\n\u001b[1;32m----> 2\u001b[0m     mat_q \u001b[39m=\u001b[39m torch\u001b[39m.\u001b[39;49mtensor(int_det[\u001b[39m'\u001b[39;49m\u001b[39mCounts\u001b[39;49m\u001b[39m'\u001b[39;49m]\u001b[39m.\u001b[39;49mtolist())\u001b[39m.\u001b[39mT\n\u001b[0;32m      3\u001b[0m     \u001b[39mreturn\u001b[39;00m mat_q\n",
      "\u001b[1;31mRuntimeError\u001b[0m: Could not infer dtype of NoneType"
     ]
    }
   ],
   "source": [
    "mat_q = torch.tensor(int_det['Counts'].tolist()).T\n",
    "torch.save(mat_q, 'mat_q_excluded_missing.pt')\n",
    "mat_q.shape"
   ]
  }
 ],
 "metadata": {
  "kernelspec": {
   "display_name": ".idp",
   "language": "python",
   "name": "python3"
  },
  "language_info": {
   "codemirror_mode": {
    "name": "ipython",
    "version": 3
   },
   "file_extension": ".py",
   "mimetype": "text/x-python",
   "name": "python",
   "nbconvert_exporter": "python",
   "pygments_lexer": "ipython3",
   "version": "3.9.15"
  },
  "orig_nbformat": 4,
  "vscode": {
   "interpreter": {
    "hash": "912fb52f238e5d0393cd3cb39c1046be4cbf42cc336ebf4385af401bc969f2f7"
   }
  }
 },
 "nbformat": 4,
 "nbformat_minor": 2
}
