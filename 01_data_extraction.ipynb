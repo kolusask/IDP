{
 "cells": [
  {
   "cell_type": "code",
   "execution_count": 1,
   "metadata": {},
   "outputs": [],
   "source": [
    "import pandas as pd\n",
    "import sys\n",
    "import torch\n",
    "\n",
    "from datetime import datetime\n",
    "from pprint import pprint\n",
    "\n",
    "\n",
    "if 'src' not in sys.path:\n",
    "    sys.path.append('src')\n",
    "\n",
    "%reload_ext autoreload\n",
    "%autoreload 2\n",
    "\n",
    "from explore.data import DetectorDataProvider, LookUpTable"
   ]
  },
  {
   "attachments": {},
   "cell_type": "markdown",
   "metadata": {},
   "source": [
    "### Read data from the data set"
   ]
  },
  {
   "attachments": {},
   "cell_type": "markdown",
   "metadata": {},
   "source": [
    "Get list of all sections"
   ]
  },
  {
   "cell_type": "code",
   "execution_count": 2,
   "metadata": {},
   "outputs": [
    {
     "name": "stderr",
     "output_type": "stream",
     "text": [
      "c:\\Users\\19ak9\\TUM\\IDP\\src\\explore\\data.py:76: UserWarning: Boolean Series key will be reindexed to match DataFrame index.\n",
      "  self.lookup_table = self.lookup_table[\n"
     ]
    },
    {
     "name": "stdout",
     "output_type": "stream",
     "text": [
      "[('3130', '3150'),\n",
      " ('3140', '3200'),\n",
      " ('3100', '36'),\n",
      " ('5012', '5020'),\n",
      " ('1080 & 2040', '2010'),\n",
      " ('4140', '4160'),\n",
      " ('24', '4040'),\n",
      " ('4120', 'Audi Tor 16'),\n",
      " ('1010', '8001'),\n",
      " ('3100', 'Lena Christ strasse')]\n"
     ]
    }
   ],
   "source": [
    "lut = LookUpTable('Data')\n",
    "sections = set()\n",
    "for inter in lut.list_intersections():\n",
    "    detectors = lut.get_detectors_on(inter)\n",
    "    for sec in detectors[['Starting Intersection', 'Ending Intersection']].values:\n",
    "        sections.add(tuple(sorted(sec)))\n",
    "pprint(list(sections)[:10])"
   ]
  },
  {
   "attachments": {},
   "cell_type": "markdown",
   "metadata": {},
   "source": [
    "Extract list of detectors for each section"
   ]
  },
  {
   "cell_type": "code",
   "execution_count": 3,
   "metadata": {},
   "outputs": [
    {
     "name": "stderr",
     "output_type": "stream",
     "text": [
      "c:\\Users\\19ak9\\TUM\\IDP\\src\\explore\\data.py:76: UserWarning: Boolean Series key will be reindexed to match DataFrame index.\n",
      "  self.lookup_table = self.lookup_table[\n"
     ]
    },
    {
     "data": {
      "text/html": [
       "<div>\n",
       "<style scoped>\n",
       "    .dataframe tbody tr th:only-of-type {\n",
       "        vertical-align: middle;\n",
       "    }\n",
       "\n",
       "    .dataframe tbody tr th {\n",
       "        vertical-align: top;\n",
       "    }\n",
       "\n",
       "    .dataframe thead th {\n",
       "        text-align: right;\n",
       "    }\n",
       "</style>\n",
       "<table border=\"1\" class=\"dataframe\">\n",
       "  <thead>\n",
       "    <tr style=\"text-align: right;\">\n",
       "      <th></th>\n",
       "      <th>Start</th>\n",
       "      <th>End</th>\n",
       "      <th>Detectors</th>\n",
       "    </tr>\n",
       "  </thead>\n",
       "  <tbody>\n",
       "    <tr>\n",
       "      <th>0</th>\n",
       "      <td>3130</td>\n",
       "      <td>3150</td>\n",
       "      <td>[]</td>\n",
       "    </tr>\n",
       "    <tr>\n",
       "      <th>1</th>\n",
       "      <td>3150</td>\n",
       "      <td>3130</td>\n",
       "      <td>[4(DB1), 5(DB2)]</td>\n",
       "    </tr>\n",
       "    <tr>\n",
       "      <th>2</th>\n",
       "      <td>3140</td>\n",
       "      <td>3200</td>\n",
       "      <td>[5(DC1)]</td>\n",
       "    </tr>\n",
       "    <tr>\n",
       "      <th>3</th>\n",
       "      <td>3200</td>\n",
       "      <td>3140</td>\n",
       "      <td>[1(DA1)]</td>\n",
       "    </tr>\n",
       "    <tr>\n",
       "      <th>4</th>\n",
       "      <td>3100</td>\n",
       "      <td>36</td>\n",
       "      <td>[1(DA1), 2(DA2)]</td>\n",
       "    </tr>\n",
       "    <tr>\n",
       "      <th>...</th>\n",
       "      <td>...</td>\n",
       "      <td>...</td>\n",
       "      <td>...</td>\n",
       "    </tr>\n",
       "    <tr>\n",
       "      <th>463</th>\n",
       "      <td>NB</td>\n",
       "      <td>6070</td>\n",
       "      <td>[3(DB1)]</td>\n",
       "    </tr>\n",
       "    <tr>\n",
       "      <th>464</th>\n",
       "      <td>13</td>\n",
       "      <td>4010</td>\n",
       "      <td>[5(DC1), 6(DC2)]</td>\n",
       "    </tr>\n",
       "    <tr>\n",
       "      <th>465</th>\n",
       "      <td>4010</td>\n",
       "      <td>13</td>\n",
       "      <td>[1(DA1), 2(DA2)]</td>\n",
       "    </tr>\n",
       "    <tr>\n",
       "      <th>466</th>\n",
       "      <td>7040</td>\n",
       "      <td>Erletsstrasse</td>\n",
       "      <td>[]</td>\n",
       "    </tr>\n",
       "    <tr>\n",
       "      <th>467</th>\n",
       "      <td>Erletsstrasse</td>\n",
       "      <td>7040</td>\n",
       "      <td>[2(DB1), 3(DB2), 4(DB3)]</td>\n",
       "    </tr>\n",
       "  </tbody>\n",
       "</table>\n",
       "<p>468 rows × 3 columns</p>\n",
       "</div>"
      ],
      "text/plain": [
       "             Start            End                 Detectors\n",
       "0             3130           3150                        []\n",
       "1             3150           3130          [4(DB1), 5(DB2)]\n",
       "2             3140           3200                  [5(DC1)]\n",
       "3             3200           3140                  [1(DA1)]\n",
       "4             3100             36          [1(DA1), 2(DA2)]\n",
       "..             ...            ...                       ...\n",
       "463             NB           6070                  [3(DB1)]\n",
       "464             13           4010          [5(DC1), 6(DC2)]\n",
       "465           4010             13          [1(DA1), 2(DA2)]\n",
       "466           7040  Erletsstrasse                        []\n",
       "467  Erletsstrasse           7040  [2(DB1), 3(DB2), 4(DB3)]\n",
       "\n",
       "[468 rows x 3 columns]"
      ]
     },
     "execution_count": 3,
     "metadata": {},
     "output_type": "execute_result"
    }
   ],
   "source": [
    "lut = LookUpTable('Data')\n",
    "int_det = []\n",
    "for int_1, int_2 in sections:\n",
    "    det_1_2, det_2_1 = lut.get_detectors_between(int_1, int_2)\n",
    "    int_det.append((int_1, int_2, det_1_2))\n",
    "    int_det.append((int_2, int_1, det_2_1))\n",
    "int_det = pd.DataFrame(int_det, columns=['Start', 'End', 'Detectors'])\n",
    "int_det"
   ]
  },
  {
   "attachments": {},
   "cell_type": "markdown",
   "metadata": {},
   "source": [
    "Extract data from January to August and accumulate counts by section"
   ]
  },
  {
   "cell_type": "code",
   "execution_count": 5,
   "metadata": {},
   "outputs": [],
   "source": [
    "ddp = DetectorDataProvider('Data')"
   ]
  },
  {
   "cell_type": "code",
   "execution_count": 6,
   "metadata": {},
   "outputs": [
    {
     "name": "stderr",
     "output_type": "stream",
     "text": [
      "C:\\Users\\19ak9\\AppData\\Local\\Temp\\ipykernel_15848\\3390864795.py:15: PerformanceWarning: \n",
      "your performance may suffer as PyTables will pickle object types that it cannot\n",
      "map directly to c-types [inferred_type->mixed,key->block0_values] [items->Index(['Start', 'End', 'Detectors', 'Counts'], dtype='object')]\n",
      "\n",
      "  int_det.to_hdf('int_det_excluded_missing.hdf', 'int_det')\n"
     ]
    },
    {
     "data": {
      "text/html": [
       "<div>\n",
       "<style scoped>\n",
       "    .dataframe tbody tr th:only-of-type {\n",
       "        vertical-align: middle;\n",
       "    }\n",
       "\n",
       "    .dataframe tbody tr th {\n",
       "        vertical-align: top;\n",
       "    }\n",
       "\n",
       "    .dataframe thead th {\n",
       "        text-align: right;\n",
       "    }\n",
       "</style>\n",
       "<table border=\"1\" class=\"dataframe\">\n",
       "  <thead>\n",
       "    <tr style=\"text-align: right;\">\n",
       "      <th></th>\n",
       "      <th>Start</th>\n",
       "      <th>End</th>\n",
       "      <th>Detectors</th>\n",
       "      <th>Counts</th>\n",
       "    </tr>\n",
       "  </thead>\n",
       "  <tbody>\n",
       "    <tr>\n",
       "      <th>0</th>\n",
       "      <td>3130</td>\n",
       "      <td>3150</td>\n",
       "      <td>[]</td>\n",
       "      <td>[0.0, 0.0, 0.0, 0.0, 0.0, 0.0, 0.0, 0.0, 0.0, ...</td>\n",
       "    </tr>\n",
       "    <tr>\n",
       "      <th>1</th>\n",
       "      <td>3150</td>\n",
       "      <td>3130</td>\n",
       "      <td>[4(DB1), 5(DB2)]</td>\n",
       "      <td>[0.0, 0.0, 1.0, 2.0, 3.0, 3.0, 3.0, 3.0, 3.0, ...</td>\n",
       "    </tr>\n",
       "    <tr>\n",
       "      <th>2</th>\n",
       "      <td>3140</td>\n",
       "      <td>3200</td>\n",
       "      <td>[5(DC1)]</td>\n",
       "      <td>[1.0, 1.0, 3.0, 4.0, 5.0, 6.0, 6.0, 7.0, 7.0, ...</td>\n",
       "    </tr>\n",
       "    <tr>\n",
       "      <th>3</th>\n",
       "      <td>3200</td>\n",
       "      <td>3140</td>\n",
       "      <td>[1(DA1)]</td>\n",
       "      <td>[0.0, 0.0, 2.0, 3.0, 3.0, 4.0, 4.0, 5.0, 5.0, ...</td>\n",
       "    </tr>\n",
       "    <tr>\n",
       "      <th>4</th>\n",
       "      <td>3100</td>\n",
       "      <td>36</td>\n",
       "      <td>[1(DA1), 2(DA2)]</td>\n",
       "      <td>[2.0, 9.0, 12.0, 14.0, 18.0, 20.0, 21.0, 22.0,...</td>\n",
       "    </tr>\n",
       "    <tr>\n",
       "      <th>...</th>\n",
       "      <td>...</td>\n",
       "      <td>...</td>\n",
       "      <td>...</td>\n",
       "      <td>...</td>\n",
       "    </tr>\n",
       "    <tr>\n",
       "      <th>463</th>\n",
       "      <td>NB</td>\n",
       "      <td>6070</td>\n",
       "      <td>[3(DB1)]</td>\n",
       "      <td>[0.0, 0.0, 0.0, 0.0, 0.0, 0.0, 0.0, 0.0, 0.0, ...</td>\n",
       "    </tr>\n",
       "    <tr>\n",
       "      <th>464</th>\n",
       "      <td>13</td>\n",
       "      <td>4010</td>\n",
       "      <td>[5(DC1), 6(DC2)]</td>\n",
       "      <td>[4.0, 4.0, 4.0, 5.0, 8.0, 8.0, 8.0, 8.0, 9.0, ...</td>\n",
       "    </tr>\n",
       "    <tr>\n",
       "      <th>465</th>\n",
       "      <td>4010</td>\n",
       "      <td>13</td>\n",
       "      <td>[1(DA1), 2(DA2)]</td>\n",
       "      <td>[2.0, 5.0, 6.0, 9.0, 10.0, 11.0, 14.0, 15.0, 1...</td>\n",
       "    </tr>\n",
       "    <tr>\n",
       "      <th>466</th>\n",
       "      <td>7040</td>\n",
       "      <td>Erletsstrasse</td>\n",
       "      <td>[]</td>\n",
       "      <td>[0.0, 0.0, 0.0, 0.0, 0.0, 0.0, 0.0, 0.0, 0.0, ...</td>\n",
       "    </tr>\n",
       "    <tr>\n",
       "      <th>467</th>\n",
       "      <td>Erletsstrasse</td>\n",
       "      <td>7040</td>\n",
       "      <td>[2(DB1), 3(DB2), 4(DB3)]</td>\n",
       "      <td>[0.0, 0.0, 3.0, 3.0, 6.0, 6.0, 6.0, 6.0, 6.0, ...</td>\n",
       "    </tr>\n",
       "  </tbody>\n",
       "</table>\n",
       "<p>468 rows × 4 columns</p>\n",
       "</div>"
      ],
      "text/plain": [
       "             Start            End                 Detectors  \\\n",
       "0             3130           3150                        []   \n",
       "1             3150           3130          [4(DB1), 5(DB2)]   \n",
       "2             3140           3200                  [5(DC1)]   \n",
       "3             3200           3140                  [1(DA1)]   \n",
       "4             3100             36          [1(DA1), 2(DA2)]   \n",
       "..             ...            ...                       ...   \n",
       "463             NB           6070                  [3(DB1)]   \n",
       "464             13           4010          [5(DC1), 6(DC2)]   \n",
       "465           4010             13          [1(DA1), 2(DA2)]   \n",
       "466           7040  Erletsstrasse                        []   \n",
       "467  Erletsstrasse           7040  [2(DB1), 3(DB2), 4(DB3)]   \n",
       "\n",
       "                                                Counts  \n",
       "0    [0.0, 0.0, 0.0, 0.0, 0.0, 0.0, 0.0, 0.0, 0.0, ...  \n",
       "1    [0.0, 0.0, 1.0, 2.0, 3.0, 3.0, 3.0, 3.0, 3.0, ...  \n",
       "2    [1.0, 1.0, 3.0, 4.0, 5.0, 6.0, 6.0, 7.0, 7.0, ...  \n",
       "3    [0.0, 0.0, 2.0, 3.0, 3.0, 4.0, 4.0, 5.0, 5.0, ...  \n",
       "4    [2.0, 9.0, 12.0, 14.0, 18.0, 20.0, 21.0, 22.0,...  \n",
       "..                                                 ...  \n",
       "463  [0.0, 0.0, 0.0, 0.0, 0.0, 0.0, 0.0, 0.0, 0.0, ...  \n",
       "464  [4.0, 4.0, 4.0, 5.0, 8.0, 8.0, 8.0, 8.0, 9.0, ...  \n",
       "465  [2.0, 5.0, 6.0, 9.0, 10.0, 11.0, 14.0, 15.0, 1...  \n",
       "466  [0.0, 0.0, 0.0, 0.0, 0.0, 0.0, 0.0, 0.0, 0.0, ...  \n",
       "467  [0.0, 0.0, 3.0, 3.0, 6.0, 6.0, 6.0, 6.0, 6.0, ...  \n",
       "\n",
       "[468 rows x 4 columns]"
      ]
     },
     "execution_count": 6,
     "metadata": {},
     "output_type": "execute_result"
    }
   ],
   "source": [
    "START_DATE = datetime(2021, 1, 1)\n",
    "END_DATE = datetime(2021, 12, 1)\n",
    "\n",
    "lens = set()\n",
    "def get_count(section_end, detectors):\n",
    "    section_data = ddp.get_data_for_period(section_end, START_DATE, END_DATE)\n",
    "    for col in section_data.columns:\n",
    "        section_data[col] = pd.to_numeric(section_data[col], errors='coerce')\n",
    "    try:\n",
    "        return list(section_data[detectors].fillna(0).sum(axis=1, numeric_only=True).cumsum())\n",
    "    except KeyError:\n",
    "        print(section_end, section_data.columns, detectors)\n",
    "int_det['Counts'] = int_det.apply(lambda sec: get_count(sec['End'], sec['Detectors']), axis=1)\n",
    "\n",
    "int_det.to_hdf('int_det_excluded_missing.hdf', 'int_det')\n",
    "int_det"
   ]
  },
  {
   "attachments": {},
   "cell_type": "markdown",
   "metadata": {},
   "source": [
    "### Write data into a matrix"
   ]
  },
  {
   "attachments": {},
   "cell_type": "markdown",
   "metadata": {},
   "source": [
    "Write counts into a matrix\n",
    "$$Q=[q_1,q_2,...,q_p]$$\n",
    "for\n",
    "$$q_i=\\set{z(s_i,t_1),z(s_i,t_2),...z(s_i,t_d)}^T,$$\n",
    "$z(s_i,t_j)$ is the traffic flow of the road section $s_i$ within the time interval $(t_0,t_j)$"
   ]
  },
  {
   "cell_type": "code",
   "execution_count": 7,
   "metadata": {},
   "outputs": [
    {
     "data": {
      "text/plain": [
       "torch.Size([32064, 468])"
      ]
     },
     "execution_count": 7,
     "metadata": {},
     "output_type": "execute_result"
    }
   ],
   "source": [
    "def construct_q(int_det: pd.DataFrame):\n",
    "    mat_q = torch.tensor(int_det['Counts'].tolist()).T\n",
    "    return mat_q\n",
    "\n",
    "mat_q = construct_q(int_det)\n",
    "torch.save(mat_q, 'mat_q_excluded_missing.pt')\n",
    "mat_q.shape"
   ]
  },
  {
   "cell_type": "code",
   "execution_count": null,
   "metadata": {},
   "outputs": [],
   "source": []
  }
 ],
 "metadata": {
  "kernelspec": {
   "display_name": ".idp",
   "language": "python",
   "name": "python3"
  },
  "language_info": {
   "codemirror_mode": {
    "name": "ipython",
    "version": 3
   },
   "file_extension": ".py",
   "mimetype": "text/x-python",
   "name": "python",
   "nbconvert_exporter": "python",
   "pygments_lexer": "ipython3",
   "version": "3.9.15"
  },
  "orig_nbformat": 4,
  "vscode": {
   "interpreter": {
    "hash": "912fb52f238e5d0393cd3cb39c1046be4cbf42cc336ebf4385af401bc969f2f7"
   }
  }
 },
 "nbformat": 4,
 "nbformat_minor": 2
}
