{
 "cells": [
  {
   "cell_type": "code",
   "execution_count": 1,
   "metadata": {},
   "outputs": [],
   "source": [
    "import pandas as pd\n",
    "import sys\n",
    "import torch\n",
    "\n",
    "from datetime import datetime\n",
    "from pprint import pprint\n",
    "\n",
    "\n",
    "if 'src' not in sys.path:\n",
    "    sys.path.append('src')\n",
    "\n",
    "%reload_ext autoreload\n",
    "%autoreload 2\n",
    "\n",
    "from data.extract import DetectorDataProvider, LookUpTable"
   ]
  },
  {
   "attachments": {},
   "cell_type": "markdown",
   "metadata": {},
   "source": [
    "### Read data from the data set"
   ]
  },
  {
   "attachments": {},
   "cell_type": "markdown",
   "metadata": {},
   "source": [
    "Get list of all sections"
   ]
  },
  {
   "cell_type": "code",
   "execution_count": 2,
   "metadata": {},
   "outputs": [
    {
     "name": "stderr",
     "output_type": "stream",
     "text": [
      "c:\\Users\\19ak9\\TUM\\IDP\\src\\explore\\data.py:81: UserWarning: Boolean Series key will be reindexed to match DataFrame index.\n",
      "  self.lookup_table = self.lookup_table[\n"
     ]
    },
    {
     "name": "stdout",
     "output_type": "stream",
     "text": [
      "[('6020', '6021'),\n",
      " ('3100', '37'),\n",
      " ('7040', 'Erletsstrasse'),\n",
      " ('3022', '48'),\n",
      " ('3130', 'Autobahn Ingolstadt Nord 16a'),\n",
      " ('18', '7020'),\n",
      " ('4120', 'Audi Tor 15'),\n",
      " ('3160', '3180'),\n",
      " ('14', '4140'),\n",
      " ('23', '4100')]\n"
     ]
    }
   ],
   "source": [
    "lut = LookUpTable('Data')\n",
    "sections = set()\n",
    "for inter in lut.list_intersections():\n",
    "    detectors = lut.get_detectors_on(inter)\n",
    "    for sec in detectors[['Starting Intersection', 'Ending Intersection']].values:\n",
    "        sections.add(tuple(sorted(sec)))\n",
    "pprint(list(sections)[:10])"
   ]
  },
  {
   "attachments": {},
   "cell_type": "markdown",
   "metadata": {},
   "source": [
    "Extract list of detectors for each section"
   ]
  },
  {
   "cell_type": "code",
   "execution_count": 3,
   "metadata": {},
   "outputs": [
    {
     "name": "stderr",
     "output_type": "stream",
     "text": [
      "c:\\Users\\19ak9\\TUM\\IDP\\src\\explore\\data.py:81: UserWarning: Boolean Series key will be reindexed to match DataFrame index.\n",
      "  self.lookup_table = self.lookup_table[\n"
     ]
    },
    {
     "data": {
      "text/html": [
       "<div>\n",
       "<style scoped>\n",
       "    .dataframe tbody tr th:only-of-type {\n",
       "        vertical-align: middle;\n",
       "    }\n",
       "\n",
       "    .dataframe tbody tr th {\n",
       "        vertical-align: top;\n",
       "    }\n",
       "\n",
       "    .dataframe thead th {\n",
       "        text-align: right;\n",
       "    }\n",
       "</style>\n",
       "<table border=\"1\" class=\"dataframe\">\n",
       "  <thead>\n",
       "    <tr style=\"text-align: right;\">\n",
       "      <th></th>\n",
       "      <th>Start</th>\n",
       "      <th>End</th>\n",
       "      <th>Detectors</th>\n",
       "    </tr>\n",
       "  </thead>\n",
       "  <tbody>\n",
       "    <tr>\n",
       "      <th>0</th>\n",
       "      <td>6020</td>\n",
       "      <td>6021</td>\n",
       "      <td>[6(DC1), 7(DC2)]</td>\n",
       "    </tr>\n",
       "    <tr>\n",
       "      <th>1</th>\n",
       "      <td>6021</td>\n",
       "      <td>6020</td>\n",
       "      <td>[12(DD1), 13(DD2), 14(DD3)]</td>\n",
       "    </tr>\n",
       "    <tr>\n",
       "      <th>2</th>\n",
       "      <td>3100</td>\n",
       "      <td>37</td>\n",
       "      <td>[]</td>\n",
       "    </tr>\n",
       "    <tr>\n",
       "      <th>3</th>\n",
       "      <td>37</td>\n",
       "      <td>3100</td>\n",
       "      <td>[7(DD1)]</td>\n",
       "    </tr>\n",
       "    <tr>\n",
       "      <th>4</th>\n",
       "      <td>7040</td>\n",
       "      <td>Erletsstrasse</td>\n",
       "      <td>[]</td>\n",
       "    </tr>\n",
       "    <tr>\n",
       "      <th>...</th>\n",
       "      <td>...</td>\n",
       "      <td>...</td>\n",
       "      <td>...</td>\n",
       "    </tr>\n",
       "    <tr>\n",
       "      <th>467</th>\n",
       "      <td>Liegnitzer Strasse</td>\n",
       "      <td>6023</td>\n",
       "      <td>[6(DC1)]</td>\n",
       "    </tr>\n",
       "    <tr>\n",
       "      <th>468</th>\n",
       "      <td>1080</td>\n",
       "      <td>Schutterstrasse</td>\n",
       "      <td>[]</td>\n",
       "    </tr>\n",
       "    <tr>\n",
       "      <th>469</th>\n",
       "      <td>Schutterstrasse</td>\n",
       "      <td>1080</td>\n",
       "      <td>[3(DB1), 4(DB2)]</td>\n",
       "    </tr>\n",
       "    <tr>\n",
       "      <th>470</th>\n",
       "      <td>1010</td>\n",
       "      <td>6010</td>\n",
       "      <td>[]</td>\n",
       "    </tr>\n",
       "    <tr>\n",
       "      <th>471</th>\n",
       "      <td>6010</td>\n",
       "      <td>1010</td>\n",
       "      <td>[5(DB1), 6(DB2), 7(DB3), 8(DBL1), 9(DBL2)]</td>\n",
       "    </tr>\n",
       "  </tbody>\n",
       "</table>\n",
       "<p>472 rows × 3 columns</p>\n",
       "</div>"
      ],
      "text/plain": [
       "                  Start              End  \\\n",
       "0                  6020             6021   \n",
       "1                  6021             6020   \n",
       "2                  3100               37   \n",
       "3                    37             3100   \n",
       "4                  7040    Erletsstrasse   \n",
       "..                  ...              ...   \n",
       "467  Liegnitzer Strasse             6023   \n",
       "468                1080  Schutterstrasse   \n",
       "469     Schutterstrasse             1080   \n",
       "470                1010             6010   \n",
       "471                6010             1010   \n",
       "\n",
       "                                      Detectors  \n",
       "0                              [6(DC1), 7(DC2)]  \n",
       "1                   [12(DD1), 13(DD2), 14(DD3)]  \n",
       "2                                            []  \n",
       "3                                      [7(DD1)]  \n",
       "4                                            []  \n",
       "..                                          ...  \n",
       "467                                    [6(DC1)]  \n",
       "468                                          []  \n",
       "469                            [3(DB1), 4(DB2)]  \n",
       "470                                          []  \n",
       "471  [5(DB1), 6(DB2), 7(DB3), 8(DBL1), 9(DBL2)]  \n",
       "\n",
       "[472 rows x 3 columns]"
      ]
     },
     "execution_count": 3,
     "metadata": {},
     "output_type": "execute_result"
    }
   ],
   "source": [
    "lut = LookUpTable('Data')\n",
    "int_det = []\n",
    "for int_1, int_2 in sections:\n",
    "    det_1_2, det_2_1 = lut.get_detectors_between(int_1, int_2)\n",
    "    int_det.append((int_1, int_2, det_1_2))\n",
    "    int_det.append((int_2, int_1, det_2_1))\n",
    "int_det = pd.DataFrame(int_det, columns=['Start', 'End', 'Detectors'])\n",
    "int_det"
   ]
  },
  {
   "attachments": {},
   "cell_type": "markdown",
   "metadata": {},
   "source": [
    "Extract data from January to August and accumulate counts by section"
   ]
  },
  {
   "cell_type": "code",
   "execution_count": 4,
   "metadata": {},
   "outputs": [],
   "source": [
    "ddp = DetectorDataProvider('Data')"
   ]
  },
  {
   "cell_type": "code",
   "execution_count": 5,
   "metadata": {},
   "outputs": [
    {
     "name": "stdout",
     "output_type": "stream",
     "text": [
      "96 DetCount_20210101.csv\n"
     ]
    },
    {
     "name": "stderr",
     "output_type": "stream",
     "text": [
      "C:\\Users\\19ak9\\AppData\\Local\\Temp\\ipykernel_31344\\3390864795.py:15: PerformanceWarning: \n",
      "your performance may suffer as PyTables will pickle object types that it cannot\n",
      "map directly to c-types [inferred_type->mixed,key->block0_values] [items->Index(['Start', 'End', 'Detectors', 'Counts'], dtype='object')]\n",
      "\n",
      "  int_det.to_hdf('int_det_excluded_missing.hdf', 'int_det')\n"
     ]
    },
    {
     "data": {
      "text/html": [
       "<div>\n",
       "<style scoped>\n",
       "    .dataframe tbody tr th:only-of-type {\n",
       "        vertical-align: middle;\n",
       "    }\n",
       "\n",
       "    .dataframe tbody tr th {\n",
       "        vertical-align: top;\n",
       "    }\n",
       "\n",
       "    .dataframe thead th {\n",
       "        text-align: right;\n",
       "    }\n",
       "</style>\n",
       "<table border=\"1\" class=\"dataframe\">\n",
       "  <thead>\n",
       "    <tr style=\"text-align: right;\">\n",
       "      <th></th>\n",
       "      <th>Start</th>\n",
       "      <th>End</th>\n",
       "      <th>Detectors</th>\n",
       "      <th>Counts</th>\n",
       "    </tr>\n",
       "  </thead>\n",
       "  <tbody>\n",
       "    <tr>\n",
       "      <th>0</th>\n",
       "      <td>6020</td>\n",
       "      <td>6021</td>\n",
       "      <td>[6(DC1), 7(DC2)]</td>\n",
       "      <td>[0.0, 2.0, 3.0, 3.0, 10.0, 10.0, 11.0, 14.0, 1...</td>\n",
       "    </tr>\n",
       "    <tr>\n",
       "      <th>1</th>\n",
       "      <td>6021</td>\n",
       "      <td>6020</td>\n",
       "      <td>[12(DD1), 13(DD2), 14(DD3)]</td>\n",
       "      <td>[1.0, 1.0, 3.0, 8.0, 9.0, 10.0, 12.0, 14.0, 17...</td>\n",
       "    </tr>\n",
       "    <tr>\n",
       "      <th>2</th>\n",
       "      <td>3100</td>\n",
       "      <td>37</td>\n",
       "      <td>[]</td>\n",
       "      <td>[0.0, 0.0, 0.0, 0.0, 0.0, 0.0, 0.0, 0.0, 0.0, ...</td>\n",
       "    </tr>\n",
       "    <tr>\n",
       "      <th>3</th>\n",
       "      <td>37</td>\n",
       "      <td>3100</td>\n",
       "      <td>[7(DD1)]</td>\n",
       "      <td>[0.0, 2.0, 2.0, 2.0, 3.0, 3.0, 3.0, 3.0, 3.0, ...</td>\n",
       "    </tr>\n",
       "    <tr>\n",
       "      <th>4</th>\n",
       "      <td>7040</td>\n",
       "      <td>Erletsstrasse</td>\n",
       "      <td>[]</td>\n",
       "      <td>[0.0, 0.0, 0.0, 0.0, 0.0, 0.0, 0.0, 0.0, 0.0, ...</td>\n",
       "    </tr>\n",
       "    <tr>\n",
       "      <th>...</th>\n",
       "      <td>...</td>\n",
       "      <td>...</td>\n",
       "      <td>...</td>\n",
       "      <td>...</td>\n",
       "    </tr>\n",
       "    <tr>\n",
       "      <th>467</th>\n",
       "      <td>Liegnitzer Strasse</td>\n",
       "      <td>6023</td>\n",
       "      <td>[6(DC1)]</td>\n",
       "      <td>[0.0, 0.0, 0.0, 0.0, 1.0, 1.0, 1.0, 2.0, 3.0, ...</td>\n",
       "    </tr>\n",
       "    <tr>\n",
       "      <th>468</th>\n",
       "      <td>1080</td>\n",
       "      <td>Schutterstrasse</td>\n",
       "      <td>[]</td>\n",
       "      <td>[0.0, 0.0, 0.0, 0.0, 0.0, 0.0, 0.0, 0.0, 0.0, ...</td>\n",
       "    </tr>\n",
       "    <tr>\n",
       "      <th>469</th>\n",
       "      <td>Schutterstrasse</td>\n",
       "      <td>1080</td>\n",
       "      <td>[3(DB1), 4(DB2)]</td>\n",
       "      <td>[0.0, 5.0, 5.0, 6.0, 6.0, 7.0, 8.0, 8.0, 8.0, ...</td>\n",
       "    </tr>\n",
       "    <tr>\n",
       "      <th>470</th>\n",
       "      <td>1010</td>\n",
       "      <td>6010</td>\n",
       "      <td>[]</td>\n",
       "      <td>[0.0, 0.0, 0.0, 0.0, 0.0, 0.0, 0.0, 0.0, 0.0, ...</td>\n",
       "    </tr>\n",
       "    <tr>\n",
       "      <th>471</th>\n",
       "      <td>6010</td>\n",
       "      <td>1010</td>\n",
       "      <td>[5(DB1), 6(DB2), 7(DB3), 8(DBL1), 9(DBL2)]</td>\n",
       "      <td>[1.0, 3.0, 10.0, 12.0, 16.0, 21.0, 23.0, 23.0,...</td>\n",
       "    </tr>\n",
       "  </tbody>\n",
       "</table>\n",
       "<p>472 rows × 4 columns</p>\n",
       "</div>"
      ],
      "text/plain": [
       "                  Start              End  \\\n",
       "0                  6020             6021   \n",
       "1                  6021             6020   \n",
       "2                  3100               37   \n",
       "3                    37             3100   \n",
       "4                  7040    Erletsstrasse   \n",
       "..                  ...              ...   \n",
       "467  Liegnitzer Strasse             6023   \n",
       "468                1080  Schutterstrasse   \n",
       "469     Schutterstrasse             1080   \n",
       "470                1010             6010   \n",
       "471                6010             1010   \n",
       "\n",
       "                                      Detectors  \\\n",
       "0                              [6(DC1), 7(DC2)]   \n",
       "1                   [12(DD1), 13(DD2), 14(DD3)]   \n",
       "2                                            []   \n",
       "3                                      [7(DD1)]   \n",
       "4                                            []   \n",
       "..                                          ...   \n",
       "467                                    [6(DC1)]   \n",
       "468                                          []   \n",
       "469                            [3(DB1), 4(DB2)]   \n",
       "470                                          []   \n",
       "471  [5(DB1), 6(DB2), 7(DB3), 8(DBL1), 9(DBL2)]   \n",
       "\n",
       "                                                Counts  \n",
       "0    [0.0, 2.0, 3.0, 3.0, 10.0, 10.0, 11.0, 14.0, 1...  \n",
       "1    [1.0, 1.0, 3.0, 8.0, 9.0, 10.0, 12.0, 14.0, 17...  \n",
       "2    [0.0, 0.0, 0.0, 0.0, 0.0, 0.0, 0.0, 0.0, 0.0, ...  \n",
       "3    [0.0, 2.0, 2.0, 2.0, 3.0, 3.0, 3.0, 3.0, 3.0, ...  \n",
       "4    [0.0, 0.0, 0.0, 0.0, 0.0, 0.0, 0.0, 0.0, 0.0, ...  \n",
       "..                                                 ...  \n",
       "467  [0.0, 0.0, 0.0, 0.0, 1.0, 1.0, 1.0, 2.0, 3.0, ...  \n",
       "468  [0.0, 0.0, 0.0, 0.0, 0.0, 0.0, 0.0, 0.0, 0.0, ...  \n",
       "469  [0.0, 5.0, 5.0, 6.0, 6.0, 7.0, 8.0, 8.0, 8.0, ...  \n",
       "470  [0.0, 0.0, 0.0, 0.0, 0.0, 0.0, 0.0, 0.0, 0.0, ...  \n",
       "471  [1.0, 3.0, 10.0, 12.0, 16.0, 21.0, 23.0, 23.0,...  \n",
       "\n",
       "[472 rows x 4 columns]"
      ]
     },
     "execution_count": 5,
     "metadata": {},
     "output_type": "execute_result"
    }
   ],
   "source": [
    "START_DATE = datetime(2021, 1, 1)\n",
    "END_DATE = datetime(2021, 12, 1)\n",
    "\n",
    "lens = set()\n",
    "def get_count(section_end, detectors):\n",
    "    section_data = ddp.get_data_for_period(section_end, START_DATE, END_DATE)\n",
    "    for col in section_data.columns:\n",
    "        section_data[col] = pd.to_numeric(section_data[col], errors='coerce')\n",
    "    try:\n",
    "        return list(section_data[detectors].fillna(0).sum(axis=1, numeric_only=True).cumsum())\n",
    "    except KeyError:\n",
    "        print(section_end, section_data.columns, detectors)\n",
    "int_det['Counts'] = int_det.apply(lambda sec: get_count(sec['End'], sec['Detectors']), axis=1)\n",
    "\n",
    "int_det.to_hdf('int_det_excluded_missing.hdf', 'int_det')\n",
    "int_det"
   ]
  },
  {
   "attachments": {},
   "cell_type": "markdown",
   "metadata": {},
   "source": [
    "### Write data into a matrix"
   ]
  },
  {
   "attachments": {},
   "cell_type": "markdown",
   "metadata": {},
   "source": [
    "Write counts into a matrix\n",
    "$$Q=[q_1,q_2,...,q_p]$$\n",
    "for\n",
    "$$q_i=\\set{z(s_i,t_1),z(s_i,t_2),...z(s_i,t_d)}^T,$$\n",
    "$z(s_i,t_j)$ is the traffic flow of the road section $s_i$ within the time interval $(t_0,t_j)$"
   ]
  },
  {
   "cell_type": "code",
   "execution_count": 6,
   "metadata": {},
   "outputs": [
    {
     "data": {
      "text/plain": [
       "0      32064\n",
       "1      32064\n",
       "2      32064\n",
       "3      32064\n",
       "4      32064\n",
       "       ...  \n",
       "467    32064\n",
       "468    32064\n",
       "469    32064\n",
       "470    32064\n",
       "471    32064\n",
       "Name: Counts, Length: 472, dtype: int64"
      ]
     },
     "execution_count": 6,
     "metadata": {},
     "output_type": "execute_result"
    }
   ],
   "source": [
    "int_det['Counts'].apply(len)"
   ]
  },
  {
   "cell_type": "code",
   "execution_count": 7,
   "metadata": {},
   "outputs": [
    {
     "data": {
      "text/plain": [
       "torch.Size([32064, 472])"
      ]
     },
     "execution_count": 7,
     "metadata": {},
     "output_type": "execute_result"
    }
   ],
   "source": [
    "mat_q = torch.tensor(int_det['Counts'].tolist()).T\n",
    "torch.save(mat_q, 'mat_q_excluded_missing.pt')\n",
    "mat_q.shape"
   ]
  },
  {
   "cell_type": "code",
   "execution_count": null,
   "metadata": {},
   "outputs": [],
   "source": []
  }
 ],
 "metadata": {
  "kernelspec": {
   "display_name": ".idp",
   "language": "python",
   "name": "python3"
  },
  "language_info": {
   "codemirror_mode": {
    "name": "ipython",
    "version": 3
   },
   "file_extension": ".py",
   "mimetype": "text/x-python",
   "name": "python",
   "nbconvert_exporter": "python",
   "pygments_lexer": "ipython3",
   "version": "3.9.15"
  },
  "orig_nbformat": 4,
  "vscode": {
   "interpreter": {
    "hash": "912fb52f238e5d0393cd3cb39c1046be4cbf42cc336ebf4385af401bc969f2f7"
   }
  }
 },
 "nbformat": 4,
 "nbformat_minor": 2
}
