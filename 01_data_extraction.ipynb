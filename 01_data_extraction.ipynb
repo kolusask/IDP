{
 "cells": [
  {
   "cell_type": "code",
   "execution_count": 12,
   "metadata": {},
   "outputs": [],
   "source": [
    "import pandas as pd\n",
    "import torch\n",
    "\n",
    "from datetime import datetime\n",
    "from pprint import pprint\n",
    "\n",
    "from config import *\n",
    "from data.extract import DetectorDataProvider, LookUpTable\n",
    "\n",
    "%reload_ext autoreload\n",
    "%autoreload 2\n"
   ]
  },
  {
   "attachments": {},
   "cell_type": "markdown",
   "metadata": {},
   "source": [
    "### Read data from the data set"
   ]
  },
  {
   "attachments": {},
   "cell_type": "markdown",
   "metadata": {},
   "source": [
    "Check list of all sections"
   ]
  },
  {
   "cell_type": "code",
   "execution_count": 25,
   "metadata": {},
   "outputs": [
    {
     "name": "stdout",
     "output_type": "stream",
     "text": [
      "[('4050', '48'),\n",
      " ('4050', '4060'),\n",
      " ('3120', 'Gutenberg strasse South'),\n",
      " ('6100', 'NB-East'),\n",
      " ('8003', 'Bahnhofstrasse'),\n",
      " ('23', '4020'),\n",
      " ('12', '4020'),\n",
      " ('1022', '1040'),\n",
      " ('8604', '8605'),\n",
      " ('6070', '6080')]\n",
      "236\n"
     ]
    },
    {
     "name": "stderr",
     "output_type": "stream",
     "text": [
      "/home/kolusask/TUM/IDP/src/data/extract.py:76: UserWarning: Boolean Series key will be reindexed to match DataFrame index.\n",
      "  self.lookup_table = self.lookup_table[\n"
     ]
    }
   ],
   "source": [
    "lut = LookUpTable('Data')\n",
    "sections = lut.get_sections()\n",
    "pprint(list(sections)[:10])\n",
    "print(len(sections))"
   ]
  },
  {
   "attachments": {},
   "cell_type": "markdown",
   "metadata": {},
   "source": [
    "Extract list of detectors for each section"
   ]
  },
  {
   "cell_type": "code",
   "execution_count": 26,
   "metadata": {},
   "outputs": [
    {
     "data": {
      "text/html": [
       "<div>\n",
       "<style scoped>\n",
       "    .dataframe tbody tr th:only-of-type {\n",
       "        vertical-align: middle;\n",
       "    }\n",
       "\n",
       "    .dataframe tbody tr th {\n",
       "        vertical-align: top;\n",
       "    }\n",
       "\n",
       "    .dataframe thead th {\n",
       "        text-align: right;\n",
       "    }\n",
       "</style>\n",
       "<table border=\"1\" class=\"dataframe\">\n",
       "  <thead>\n",
       "    <tr style=\"text-align: right;\">\n",
       "      <th></th>\n",
       "      <th>Start</th>\n",
       "      <th>End</th>\n",
       "      <th>Detectors</th>\n",
       "    </tr>\n",
       "  </thead>\n",
       "  <tbody>\n",
       "    <tr>\n",
       "      <th>0</th>\n",
       "      <td>4050</td>\n",
       "      <td>48</td>\n",
       "      <td>[2(DB1)]</td>\n",
       "    </tr>\n",
       "    <tr>\n",
       "      <th>1</th>\n",
       "      <td>48</td>\n",
       "      <td>4050</td>\n",
       "      <td>[6(DB1)]</td>\n",
       "    </tr>\n",
       "    <tr>\n",
       "      <th>2</th>\n",
       "      <td>4050</td>\n",
       "      <td>4060</td>\n",
       "      <td>[1(DA1), 2(DA2), 3(DA3)]</td>\n",
       "    </tr>\n",
       "    <tr>\n",
       "      <th>3</th>\n",
       "      <td>4060</td>\n",
       "      <td>4050</td>\n",
       "      <td>[3(DC1), 4(DC2), 5(DCL1)]</td>\n",
       "    </tr>\n",
       "    <tr>\n",
       "      <th>4</th>\n",
       "      <td>3120</td>\n",
       "      <td>Gutenberg strasse South</td>\n",
       "      <td>[]</td>\n",
       "    </tr>\n",
       "    <tr>\n",
       "      <th>...</th>\n",
       "      <td>...</td>\n",
       "      <td>...</td>\n",
       "      <td>...</td>\n",
       "    </tr>\n",
       "    <tr>\n",
       "      <th>467</th>\n",
       "      <td>Network Boundary</td>\n",
       "      <td>6050</td>\n",
       "      <td>[3(DB1A), 4(DB1B)]</td>\n",
       "    </tr>\n",
       "    <tr>\n",
       "      <th>468</th>\n",
       "      <td>12</td>\n",
       "      <td>4010</td>\n",
       "      <td>[1(DA1), 2(DA2)]</td>\n",
       "    </tr>\n",
       "    <tr>\n",
       "      <th>469</th>\n",
       "      <td>4010</td>\n",
       "      <td>12</td>\n",
       "      <td>[4(DC1), 3(DC2)]</td>\n",
       "    </tr>\n",
       "    <tr>\n",
       "      <th>470</th>\n",
       "      <td>3130</td>\n",
       "      <td>3150</td>\n",
       "      <td>[]</td>\n",
       "    </tr>\n",
       "    <tr>\n",
       "      <th>471</th>\n",
       "      <td>3150</td>\n",
       "      <td>3130</td>\n",
       "      <td>[4(DB1), 5(DB2)]</td>\n",
       "    </tr>\n",
       "  </tbody>\n",
       "</table>\n",
       "<p>472 rows × 3 columns</p>\n",
       "</div>"
      ],
      "text/plain": [
       "                Start                      End                  Detectors\n",
       "0                4050                       48                   [2(DB1)]\n",
       "1                  48                     4050                   [6(DB1)]\n",
       "2                4050                     4060   [1(DA1), 2(DA2), 3(DA3)]\n",
       "3                4060                     4050  [3(DC1), 4(DC2), 5(DCL1)]\n",
       "4                3120  Gutenberg strasse South                         []\n",
       "..                ...                      ...                        ...\n",
       "467  Network Boundary                     6050         [3(DB1A), 4(DB1B)]\n",
       "468                12                     4010           [1(DA1), 2(DA2)]\n",
       "469              4010                       12           [4(DC1), 3(DC2)]\n",
       "470              3130                     3150                         []\n",
       "471              3150                     3130           [4(DB1), 5(DB2)]\n",
       "\n",
       "[472 rows x 3 columns]"
      ]
     },
     "execution_count": 26,
     "metadata": {},
     "output_type": "execute_result"
    }
   ],
   "source": [
    "int_det = lut.get_detectors_per_section()\n",
    "int_det"
   ]
  },
  {
   "attachments": {},
   "cell_type": "markdown",
   "metadata": {},
   "source": [
    "Extract counts for all sections"
   ]
  },
  {
   "cell_type": "code",
   "execution_count": 33,
   "metadata": {},
   "outputs": [
    {
     "name": "stderr",
     "output_type": "stream",
     "text": [
      "/tmp/ipykernel_52211/1263797608.py:6: PerformanceWarning: \n",
      "your performance may suffer as PyTables will pickle object types that it cannot\n",
      "map directly to c-types [inferred_type->mixed,key->block0_values] [items->Index(['Start', 'End', 'Detectors', 'Counts'], dtype='object')]\n",
      "\n",
      "  int_det.to_hdf(out_path('int_det.hdf'), 'int_det')\n"
     ]
    },
    {
     "data": {
      "text/html": [
       "<div>\n",
       "<style scoped>\n",
       "    .dataframe tbody tr th:only-of-type {\n",
       "        vertical-align: middle;\n",
       "    }\n",
       "\n",
       "    .dataframe tbody tr th {\n",
       "        vertical-align: top;\n",
       "    }\n",
       "\n",
       "    .dataframe thead th {\n",
       "        text-align: right;\n",
       "    }\n",
       "</style>\n",
       "<table border=\"1\" class=\"dataframe\">\n",
       "  <thead>\n",
       "    <tr style=\"text-align: right;\">\n",
       "      <th></th>\n",
       "      <th>Start</th>\n",
       "      <th>End</th>\n",
       "      <th>Detectors</th>\n",
       "      <th>Counts</th>\n",
       "    </tr>\n",
       "  </thead>\n",
       "  <tbody>\n",
       "    <tr>\n",
       "      <th>0</th>\n",
       "      <td>4050</td>\n",
       "      <td>48</td>\n",
       "      <td>[2(DB1)]</td>\n",
       "      <td>[0.0, 1.0, 3.0, 7.0, 1.0, 1.0, 1.0, 2.0, 2.0, ...</td>\n",
       "    </tr>\n",
       "    <tr>\n",
       "      <th>1</th>\n",
       "      <td>48</td>\n",
       "      <td>4050</td>\n",
       "      <td>[6(DB1)]</td>\n",
       "      <td>[1.0, 0.0, 2.0, 2.0, 0.0, 2.0, 1.0, 1.0, 0.0, ...</td>\n",
       "    </tr>\n",
       "    <tr>\n",
       "      <th>2</th>\n",
       "      <td>4050</td>\n",
       "      <td>4060</td>\n",
       "      <td>[1(DA1), 2(DA2), 3(DA3)]</td>\n",
       "      <td>[1.0, 10.0, 2.0, 5.0, 4.0, 6.0, 1.0, 3.0, 4.0,...</td>\n",
       "    </tr>\n",
       "    <tr>\n",
       "      <th>3</th>\n",
       "      <td>4060</td>\n",
       "      <td>4050</td>\n",
       "      <td>[3(DC1), 4(DC2), 5(DCL1)]</td>\n",
       "      <td>[2.0, 5.0, 4.0, 11.0, 2.0, 2.0, 6.0, 2.0, 5.0,...</td>\n",
       "    </tr>\n",
       "    <tr>\n",
       "      <th>4</th>\n",
       "      <td>3120</td>\n",
       "      <td>Gutenberg strasse South</td>\n",
       "      <td>[]</td>\n",
       "      <td>[0.0, 0.0, 0.0, 0.0, 0.0, 0.0, 0.0, 0.0, 0.0, ...</td>\n",
       "    </tr>\n",
       "    <tr>\n",
       "      <th>...</th>\n",
       "      <td>...</td>\n",
       "      <td>...</td>\n",
       "      <td>...</td>\n",
       "      <td>...</td>\n",
       "    </tr>\n",
       "    <tr>\n",
       "      <th>467</th>\n",
       "      <td>Network Boundary</td>\n",
       "      <td>6050</td>\n",
       "      <td>[3(DB1A), 4(DB1B)]</td>\n",
       "      <td>[0.0, 0.0, 1.0, 1.0, 0.0, 0.0, 0.0, 0.0, 0.0, ...</td>\n",
       "    </tr>\n",
       "    <tr>\n",
       "      <th>468</th>\n",
       "      <td>12</td>\n",
       "      <td>4010</td>\n",
       "      <td>[1(DA1), 2(DA2)]</td>\n",
       "      <td>[4.0, 0.0, 2.0, 7.0, 1.0, 2.0, 4.0, 2.0, 1.0, ...</td>\n",
       "    </tr>\n",
       "    <tr>\n",
       "      <th>469</th>\n",
       "      <td>4010</td>\n",
       "      <td>12</td>\n",
       "      <td>[4(DC1), 3(DC2)]</td>\n",
       "      <td>[3.0, 6.0, 2.0, 2.0, 4.0, 9.0, 0.0, 0.0, 1.0, ...</td>\n",
       "    </tr>\n",
       "    <tr>\n",
       "      <th>470</th>\n",
       "      <td>3130</td>\n",
       "      <td>3150</td>\n",
       "      <td>[]</td>\n",
       "      <td>[0.0, 0.0, 0.0, 0.0, 0.0, 0.0, 0.0, 0.0, 0.0, ...</td>\n",
       "    </tr>\n",
       "    <tr>\n",
       "      <th>471</th>\n",
       "      <td>3150</td>\n",
       "      <td>3130</td>\n",
       "      <td>[4(DB1), 5(DB2)]</td>\n",
       "      <td>[0.0, 0.0, 1.0, 1.0, 1.0, 0.0, 0.0, 0.0, 0.0, ...</td>\n",
       "    </tr>\n",
       "  </tbody>\n",
       "</table>\n",
       "<p>472 rows × 4 columns</p>\n",
       "</div>"
      ],
      "text/plain": [
       "                Start                      End                  Detectors  \\\n",
       "0                4050                       48                   [2(DB1)]   \n",
       "1                  48                     4050                   [6(DB1)]   \n",
       "2                4050                     4060   [1(DA1), 2(DA2), 3(DA3)]   \n",
       "3                4060                     4050  [3(DC1), 4(DC2), 5(DCL1)]   \n",
       "4                3120  Gutenberg strasse South                         []   \n",
       "..                ...                      ...                        ...   \n",
       "467  Network Boundary                     6050         [3(DB1A), 4(DB1B)]   \n",
       "468                12                     4010           [1(DA1), 2(DA2)]   \n",
       "469              4010                       12           [4(DC1), 3(DC2)]   \n",
       "470              3130                     3150                         []   \n",
       "471              3150                     3130           [4(DB1), 5(DB2)]   \n",
       "\n",
       "                                                Counts  \n",
       "0    [0.0, 1.0, 3.0, 7.0, 1.0, 1.0, 1.0, 2.0, 2.0, ...  \n",
       "1    [1.0, 0.0, 2.0, 2.0, 0.0, 2.0, 1.0, 1.0, 0.0, ...  \n",
       "2    [1.0, 10.0, 2.0, 5.0, 4.0, 6.0, 1.0, 3.0, 4.0,...  \n",
       "3    [2.0, 5.0, 4.0, 11.0, 2.0, 2.0, 6.0, 2.0, 5.0,...  \n",
       "4    [0.0, 0.0, 0.0, 0.0, 0.0, 0.0, 0.0, 0.0, 0.0, ...  \n",
       "..                                                 ...  \n",
       "467  [0.0, 0.0, 1.0, 1.0, 0.0, 0.0, 0.0, 0.0, 0.0, ...  \n",
       "468  [4.0, 0.0, 2.0, 7.0, 1.0, 2.0, 4.0, 2.0, 1.0, ...  \n",
       "469  [3.0, 6.0, 2.0, 2.0, 4.0, 9.0, 0.0, 0.0, 1.0, ...  \n",
       "470  [0.0, 0.0, 0.0, 0.0, 0.0, 0.0, 0.0, 0.0, 0.0, ...  \n",
       "471  [0.0, 0.0, 1.0, 1.0, 1.0, 0.0, 0.0, 0.0, 0.0, ...  \n",
       "\n",
       "[472 rows x 4 columns]"
      ]
     },
     "execution_count": 33,
     "metadata": {},
     "output_type": "execute_result"
    }
   ],
   "source": [
    "START_DATE = datetime(2021, 1, 1)\n",
    "END_DATE = datetime(2021, 8, 1)\n",
    "\n",
    "ddp = DetectorDataProvider('Data')\n",
    "\n",
    "int_det['Counts'] = int_det.apply(lambda sec: ddp.get_counts_entering_section(sec['End'], sec['Detectors'], START_DATE, END_DATE), axis=1)\n",
    "\n",
    "int_det.to_hdf(out_path('int_det.hdf'), 'int_det')\n",
    "int_det"
   ]
  },
  {
   "attachments": {},
   "cell_type": "markdown",
   "metadata": {},
   "source": [
    "### Write data into a matrix"
   ]
  },
  {
   "attachments": {},
   "cell_type": "markdown",
   "metadata": {},
   "source": [
    "Write counts into a matrix\n",
    "$$Q=[q_1,q_2,...,q_p]$$\n",
    "for\n",
    "$$q_i=\\set{z(s_i,t_1),z(s_i,t_2),...z(s_i,t_d)}^T,$$\n",
    "$z(s_i,t_j)$ is the traffic flow of the road section $s_i$ within the time interval $(t_0,t_j)$"
   ]
  },
  {
   "cell_type": "code",
   "execution_count": 35,
   "metadata": {},
   "outputs": [
    {
     "data": {
      "text/plain": [
       "torch.Size([20352, 472])"
      ]
     },
     "execution_count": 35,
     "metadata": {},
     "output_type": "execute_result"
    }
   ],
   "source": [
    "mat_q = torch.tensor(int_det['Counts'].tolist()).T\n",
    "torch.save(mat_q, out_path('mat_q.pt'))\n",
    "mat_q.shape"
   ]
  }
 ],
 "metadata": {
  "kernelspec": {
   "display_name": ".idp",
   "language": "python",
   "name": "python3"
  },
  "language_info": {
   "codemirror_mode": {
    "name": "ipython",
    "version": 3
   },
   "file_extension": ".py",
   "mimetype": "text/x-python",
   "name": "python",
   "nbconvert_exporter": "python",
   "pygments_lexer": "ipython3",
   "version": "3.11.3"
  },
  "orig_nbformat": 4,
  "vscode": {
   "interpreter": {
    "hash": "912fb52f238e5d0393cd3cb39c1046be4cbf42cc336ebf4385af401bc969f2f7"
   }
  }
 },
 "nbformat": 4,
 "nbformat_minor": 2
}
