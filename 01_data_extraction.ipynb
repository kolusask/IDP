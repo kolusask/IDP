{
 "cells": [
  {
   "cell_type": "code",
   "execution_count": null,
   "metadata": {},
   "outputs": [],
   "source": [
    "import torch\n",
    "\n",
    "from datetime import datetime\n",
    "from pprint import pprint\n",
    "\n",
    "from config import *\n",
    "from data.extract import DetectorDataProvider, LookUpTable\n",
    "\n",
    "%reload_ext autoreload\n",
    "%autoreload 2\n"
   ]
  },
  {
   "cell_type": "code",
   "execution_count": null,
   "metadata": {},
   "outputs": [],
   "source": [
    "START_DATE = datetime.strptime(CONFIG['START_DATE'], DATE_FORMAT)\n",
    "END_DATE = datetime.strptime(CONFIG['END_DATE'], DATE_FORMAT)"
   ]
  },
  {
   "attachments": {},
   "cell_type": "markdown",
   "metadata": {},
   "source": [
    "### Read data from the data set"
   ]
  },
  {
   "attachments": {},
   "cell_type": "markdown",
   "metadata": {},
   "source": [
    "Check list of all sections"
   ]
  },
  {
   "cell_type": "code",
   "execution_count": null,
   "metadata": {},
   "outputs": [],
   "source": [
    "lut = LookUpTable('Data')\n",
    "sections = lut.get_sections()\n",
    "pprint(list(sections)[:10])\n",
    "print(len(sections))"
   ]
  },
  {
   "attachments": {},
   "cell_type": "markdown",
   "metadata": {},
   "source": [
    "Extract list of detectors for each section"
   ]
  },
  {
   "cell_type": "code",
   "execution_count": null,
   "metadata": {},
   "outputs": [],
   "source": [
    "int_det = lut.get_detectors_per_section()\n",
    "int_det"
   ]
  },
  {
   "attachments": {},
   "cell_type": "markdown",
   "metadata": {},
   "source": [
    "Extract counts for all sections"
   ]
  },
  {
   "cell_type": "code",
   "execution_count": null,
   "metadata": {},
   "outputs": [],
   "source": [
    "ddp = DetectorDataProvider('Data')\n",
    "\n",
    "int_det['Counts'] = int_det.apply(lambda sec: ddp.get_counts_entering_section(sec['End'], sec['Detectors'], START_DATE, END_DATE), axis=1)\n",
    "\n",
    "int_det.to_hdf(out_path('int_det.hdf'), 'int_det')\n",
    "int_det"
   ]
  },
  {
   "attachments": {},
   "cell_type": "markdown",
   "metadata": {},
   "source": [
    "### Write data into a matrix"
   ]
  },
  {
   "attachments": {},
   "cell_type": "markdown",
   "metadata": {},
   "source": [
    "Write counts into a matrix\n",
    "$$Q=[q_1,q_2,...,q_p]$$\n",
    "for\n",
    "$$q_i=\\set{z(s_i,t_1),z(s_i,t_2),...z(s_i,t_d)}^T,$$\n",
    "$z(s_i,t_j)$ is the traffic flow of the road section $s_i$ within the time interval $(t_0,t_j)$"
   ]
  },
  {
   "cell_type": "code",
   "execution_count": null,
   "metadata": {},
   "outputs": [],
   "source": [
    "mat_q = torch.tensor(int_det['Counts'].tolist()).T\n",
    "torch.save(mat_q, out_path('mat_q.pt'))\n",
    "mat_q.shape"
   ]
  }
 ],
 "metadata": {
  "kernelspec": {
   "display_name": ".idp",
   "language": "python",
   "name": "python3"
  },
  "language_info": {
   "codemirror_mode": {
    "name": "ipython",
    "version": 3
   },
   "file_extension": ".py",
   "mimetype": "text/x-python",
   "name": "python",
   "nbconvert_exporter": "python",
   "pygments_lexer": "ipython3",
   "version": "3.11.3"
  },
  "orig_nbformat": 4,
  "vscode": {
   "interpreter": {
    "hash": "912fb52f238e5d0393cd3cb39c1046be4cbf42cc336ebf4385af401bc969f2f7"
   }
  }
 },
 "nbformat": 4,
 "nbformat_minor": 2
}
