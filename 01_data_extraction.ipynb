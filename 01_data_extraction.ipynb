{
 "cells": [
  {
   "cell_type": "code",
   "execution_count": 30,
   "metadata": {},
   "outputs": [],
   "source": [
    "import torch\n",
    "\n",
    "from datetime import datetime\n",
    "from pprint import pprint\n",
    "\n",
    "from config import *\n",
    "from data.extract import DetectorDataProvider, LookUpTable\n",
    "from data.util import count_points_between\n",
    "\n",
    "%reload_ext autoreload\n",
    "%autoreload 2"
   ]
  },
  {
   "cell_type": "code",
   "execution_count": 32,
   "metadata": {},
   "outputs": [],
   "source": [
    "READ_START_DATE = datetime.strptime(CONFIG['READ_START_DATE'], DATE_FORMAT)\n",
    "READ_END_DATE = datetime.strptime(CONFIG['READ_END_DATE'], DATE_FORMAT)"
   ]
  },
  {
   "attachments": {},
   "cell_type": "markdown",
   "metadata": {},
   "source": [
    "### Read data from the data set"
   ]
  },
  {
   "cell_type": "code",
   "execution_count": 34,
   "metadata": {},
   "outputs": [
    {
     "name": "stderr",
     "output_type": "stream",
     "text": [
      "/home/kolusask/TUM/IDP/IDP/src/data/extract.py:88: UserWarning: Boolean Series key will be reindexed to match DataFrame index.\n",
      "  return np.unique(np.concatenate([\n"
     ]
    }
   ],
   "source": [
    "lut = LookUpTable('Data')"
   ]
  },
  {
   "attachments": {},
   "cell_type": "markdown",
   "metadata": {},
   "source": [
    "Check list of all sections"
   ]
  },
  {
   "cell_type": "code",
   "execution_count": 35,
   "metadata": {},
   "outputs": [
    {
     "name": "stdout",
     "output_type": "stream",
     "text": [
      "[('1080', 'Schutterstrasse'),\n",
      " ('8602', '8604'),\n",
      " ('3090', '37'),\n",
      " ('4010', '4240'),\n",
      " ('5060', '5090'),\n",
      " ('7040', 'Erletsstrasse'),\n",
      " ('1080', '5080'),\n",
      " ('6022', 'Network Boundary'),\n",
      " ('4150', 'Schlüterstrasse'),\n",
      " ('8008', 'Network Boundary South')]\n",
      "236\n"
     ]
    }
   ],
   "source": [
    "sections = lut.get_sections()\n",
    "pprint(list(sections)[:10])\n",
    "print(len(sections))"
   ]
  },
  {
   "attachments": {},
   "cell_type": "markdown",
   "metadata": {},
   "source": [
    "Extract list of detectors for each section"
   ]
  },
  {
   "cell_type": "code",
   "execution_count": 36,
   "metadata": {},
   "outputs": [
    {
     "data": {
      "text/html": [
       "<div>\n",
       "<style scoped>\n",
       "    .dataframe tbody tr th:only-of-type {\n",
       "        vertical-align: middle;\n",
       "    }\n",
       "\n",
       "    .dataframe tbody tr th {\n",
       "        vertical-align: top;\n",
       "    }\n",
       "\n",
       "    .dataframe thead th {\n",
       "        text-align: right;\n",
       "    }\n",
       "</style>\n",
       "<table border=\"1\" class=\"dataframe\">\n",
       "  <thead>\n",
       "    <tr style=\"text-align: right;\">\n",
       "      <th></th>\n",
       "      <th>Start</th>\n",
       "      <th>End</th>\n",
       "      <th>Detectors</th>\n",
       "    </tr>\n",
       "  </thead>\n",
       "  <tbody>\n",
       "    <tr>\n",
       "      <th>0</th>\n",
       "      <td>1080</td>\n",
       "      <td>Schutterstrasse</td>\n",
       "      <td>[]</td>\n",
       "    </tr>\n",
       "    <tr>\n",
       "      <th>1</th>\n",
       "      <td>Schutterstrasse</td>\n",
       "      <td>1080</td>\n",
       "      <td>[3(DB1), 4(DB2)]</td>\n",
       "    </tr>\n",
       "    <tr>\n",
       "      <th>2</th>\n",
       "      <td>8602</td>\n",
       "      <td>8604</td>\n",
       "      <td>[]</td>\n",
       "    </tr>\n",
       "    <tr>\n",
       "      <th>3</th>\n",
       "      <td>8604</td>\n",
       "      <td>8602</td>\n",
       "      <td>[2(DA2)]</td>\n",
       "    </tr>\n",
       "    <tr>\n",
       "      <th>4</th>\n",
       "      <td>3090</td>\n",
       "      <td>37</td>\n",
       "      <td>[]</td>\n",
       "    </tr>\n",
       "    <tr>\n",
       "      <th>...</th>\n",
       "      <td>...</td>\n",
       "      <td>...</td>\n",
       "      <td>...</td>\n",
       "    </tr>\n",
       "    <tr>\n",
       "      <th>467</th>\n",
       "      <td>4240</td>\n",
       "      <td>4210</td>\n",
       "      <td>[5(DB1), 6(DB2), 7(DB3)]</td>\n",
       "    </tr>\n",
       "    <tr>\n",
       "      <th>468</th>\n",
       "      <td>5012</td>\n",
       "      <td>5020</td>\n",
       "      <td>[7(DC1), 8(DC2)]</td>\n",
       "    </tr>\n",
       "    <tr>\n",
       "      <th>469</th>\n",
       "      <td>5020</td>\n",
       "      <td>5012</td>\n",
       "      <td>[1(DA1), 2(DA2), 3(DB1)]</td>\n",
       "    </tr>\n",
       "    <tr>\n",
       "      <th>470</th>\n",
       "      <td>24</td>\n",
       "      <td>4040</td>\n",
       "      <td>[1(DA1), 2(DA2)]</td>\n",
       "    </tr>\n",
       "    <tr>\n",
       "      <th>471</th>\n",
       "      <td>4040</td>\n",
       "      <td>24</td>\n",
       "      <td>[3(DC1), 4(DC2)]</td>\n",
       "    </tr>\n",
       "  </tbody>\n",
       "</table>\n",
       "<p>472 rows × 3 columns</p>\n",
       "</div>"
      ],
      "text/plain": [
       "               Start              End                 Detectors\n",
       "0               1080  Schutterstrasse                        []\n",
       "1    Schutterstrasse             1080          [3(DB1), 4(DB2)]\n",
       "2               8602             8604                        []\n",
       "3               8604             8602                  [2(DA2)]\n",
       "4               3090               37                        []\n",
       "..               ...              ...                       ...\n",
       "467             4240             4210  [5(DB1), 6(DB2), 7(DB3)]\n",
       "468             5012             5020          [7(DC1), 8(DC2)]\n",
       "469             5020             5012  [1(DA1), 2(DA2), 3(DB1)]\n",
       "470               24             4040          [1(DA1), 2(DA2)]\n",
       "471             4040               24          [3(DC1), 4(DC2)]\n",
       "\n",
       "[472 rows x 3 columns]"
      ]
     },
     "execution_count": 36,
     "metadata": {},
     "output_type": "execute_result"
    }
   ],
   "source": [
    "int_det = lut.get_detectors_per_section()\n",
    "int_det"
   ]
  },
  {
   "attachments": {},
   "cell_type": "markdown",
   "metadata": {},
   "source": [
    "Extract counts for all sections"
   ]
  },
  {
   "cell_type": "code",
   "execution_count": 37,
   "metadata": {},
   "outputs": [
    {
     "name": "stdout",
     "output_type": "stream",
     "text": [
      "1080 96 DetCount_20210101.csv\n"
     ]
    },
    {
     "data": {
      "text/html": [
       "<div>\n",
       "<style scoped>\n",
       "    .dataframe tbody tr th:only-of-type {\n",
       "        vertical-align: middle;\n",
       "    }\n",
       "\n",
       "    .dataframe tbody tr th {\n",
       "        vertical-align: top;\n",
       "    }\n",
       "\n",
       "    .dataframe thead th {\n",
       "        text-align: right;\n",
       "    }\n",
       "</style>\n",
       "<table border=\"1\" class=\"dataframe\">\n",
       "  <thead>\n",
       "    <tr style=\"text-align: right;\">\n",
       "      <th></th>\n",
       "      <th>Start</th>\n",
       "      <th>End</th>\n",
       "      <th>Detectors</th>\n",
       "      <th>Counts</th>\n",
       "    </tr>\n",
       "  </thead>\n",
       "  <tbody>\n",
       "    <tr>\n",
       "      <th>0</th>\n",
       "      <td>1080</td>\n",
       "      <td>Schutterstrasse</td>\n",
       "      <td>[]</td>\n",
       "      <td>[0.0, 0.0, 0.0, 0.0, 0.0, 0.0, 0.0, 0.0, 0.0, ...</td>\n",
       "    </tr>\n",
       "    <tr>\n",
       "      <th>1</th>\n",
       "      <td>Schutterstrasse</td>\n",
       "      <td>1080</td>\n",
       "      <td>[3(DB1), 4(DB2)]</td>\n",
       "      <td>[0.0, 5.0, 0.0, 1.0, 0.0, 1.0, 1.0, 0.0, 0.0, ...</td>\n",
       "    </tr>\n",
       "    <tr>\n",
       "      <th>2</th>\n",
       "      <td>8602</td>\n",
       "      <td>8604</td>\n",
       "      <td>[]</td>\n",
       "      <td>[0.0, 0.0, 0.0, 0.0, 0.0, 0.0, 0.0, 0.0, 0.0, ...</td>\n",
       "    </tr>\n",
       "    <tr>\n",
       "      <th>3</th>\n",
       "      <td>8604</td>\n",
       "      <td>8602</td>\n",
       "      <td>[2(DA2)]</td>\n",
       "      <td>[0.0, 0.0, 0.0, 0.0, 0.0, 0.0, 0.0, 0.0, 0.0, ...</td>\n",
       "    </tr>\n",
       "    <tr>\n",
       "      <th>4</th>\n",
       "      <td>3090</td>\n",
       "      <td>37</td>\n",
       "      <td>[]</td>\n",
       "      <td>[0.0, 0.0, 0.0, 0.0, 0.0, 0.0, 0.0, 0.0, 0.0, ...</td>\n",
       "    </tr>\n",
       "    <tr>\n",
       "      <th>...</th>\n",
       "      <td>...</td>\n",
       "      <td>...</td>\n",
       "      <td>...</td>\n",
       "      <td>...</td>\n",
       "    </tr>\n",
       "    <tr>\n",
       "      <th>467</th>\n",
       "      <td>4240</td>\n",
       "      <td>4210</td>\n",
       "      <td>[5(DB1), 6(DB2), 7(DB3)]</td>\n",
       "      <td>[0.0, 0.0, 0.0, 0.0, 0.0, 0.0, 0.0, 0.0, 0.0, ...</td>\n",
       "    </tr>\n",
       "    <tr>\n",
       "      <th>468</th>\n",
       "      <td>5012</td>\n",
       "      <td>5020</td>\n",
       "      <td>[7(DC1), 8(DC2)]</td>\n",
       "      <td>[1.0, 6.0, 8.0, 3.0, 5.0, 0.0, 4.0, 3.0, 8.0, ...</td>\n",
       "    </tr>\n",
       "    <tr>\n",
       "      <th>469</th>\n",
       "      <td>5020</td>\n",
       "      <td>5012</td>\n",
       "      <td>[1(DA1), 2(DA2), 3(DB1)]</td>\n",
       "      <td>[5.0, 4.0, 3.0, 4.0, 1.0, 2.0, 1.0, 1.0, 1.0, ...</td>\n",
       "    </tr>\n",
       "    <tr>\n",
       "      <th>470</th>\n",
       "      <td>24</td>\n",
       "      <td>4040</td>\n",
       "      <td>[1(DA1), 2(DA2)]</td>\n",
       "      <td>[0.0, 4.0, 2.0, 2.0, 2.0, 3.0, 0.0, 2.0, 1.0, ...</td>\n",
       "    </tr>\n",
       "    <tr>\n",
       "      <th>471</th>\n",
       "      <td>4040</td>\n",
       "      <td>24</td>\n",
       "      <td>[3(DC1), 4(DC2)]</td>\n",
       "      <td>[0.0, 0.0, 0.0, 0.0, 0.0, 6.0, 5.0, 5.0, 1.0, ...</td>\n",
       "    </tr>\n",
       "  </tbody>\n",
       "</table>\n",
       "<p>472 rows × 4 columns</p>\n",
       "</div>"
      ],
      "text/plain": [
       "               Start              End                 Detectors  \\\n",
       "0               1080  Schutterstrasse                        []   \n",
       "1    Schutterstrasse             1080          [3(DB1), 4(DB2)]   \n",
       "2               8602             8604                        []   \n",
       "3               8604             8602                  [2(DA2)]   \n",
       "4               3090               37                        []   \n",
       "..               ...              ...                       ...   \n",
       "467             4240             4210  [5(DB1), 6(DB2), 7(DB3)]   \n",
       "468             5012             5020          [7(DC1), 8(DC2)]   \n",
       "469             5020             5012  [1(DA1), 2(DA2), 3(DB1)]   \n",
       "470               24             4040          [1(DA1), 2(DA2)]   \n",
       "471             4040               24          [3(DC1), 4(DC2)]   \n",
       "\n",
       "                                                Counts  \n",
       "0    [0.0, 0.0, 0.0, 0.0, 0.0, 0.0, 0.0, 0.0, 0.0, ...  \n",
       "1    [0.0, 5.0, 0.0, 1.0, 0.0, 1.0, 1.0, 0.0, 0.0, ...  \n",
       "2    [0.0, 0.0, 0.0, 0.0, 0.0, 0.0, 0.0, 0.0, 0.0, ...  \n",
       "3    [0.0, 0.0, 0.0, 0.0, 0.0, 0.0, 0.0, 0.0, 0.0, ...  \n",
       "4    [0.0, 0.0, 0.0, 0.0, 0.0, 0.0, 0.0, 0.0, 0.0, ...  \n",
       "..                                                 ...  \n",
       "467  [0.0, 0.0, 0.0, 0.0, 0.0, 0.0, 0.0, 0.0, 0.0, ...  \n",
       "468  [1.0, 6.0, 8.0, 3.0, 5.0, 0.0, 4.0, 3.0, 8.0, ...  \n",
       "469  [5.0, 4.0, 3.0, 4.0, 1.0, 2.0, 1.0, 1.0, 1.0, ...  \n",
       "470  [0.0, 4.0, 2.0, 2.0, 2.0, 3.0, 0.0, 2.0, 1.0, ...  \n",
       "471  [0.0, 0.0, 0.0, 0.0, 0.0, 6.0, 5.0, 5.0, 1.0, ...  \n",
       "\n",
       "[472 rows x 4 columns]"
      ]
     },
     "execution_count": 37,
     "metadata": {},
     "output_type": "execute_result"
    }
   ],
   "source": [
    "ddp = DetectorDataProvider('Data')\n",
    "\n",
    "int_det['Counts'] = int_det.apply(\n",
    "    lambda sec: ddp.get_counts_entering_section(\n",
    "        sec['End'], sec['Detectors'], READ_START_DATE, READ_END_DATE\n",
    "    ),\n",
    "    axis=1\n",
    ")\n",
    "int_det"
   ]
  },
  {
   "attachments": {},
   "cell_type": "markdown",
   "metadata": {},
   "source": [
    "### Write data into a matrix"
   ]
  },
  {
   "attachments": {},
   "cell_type": "markdown",
   "metadata": {},
   "source": [
    "Write counts into a matrix\n",
    "$$Q=[q_1,q_2,...,q_p]$$\n",
    "for\n",
    "$$q_i=\\set{z(s_i,t_1),z(s_i,t_2),...z(s_i,t_d)}^T,$$\n",
    "$z(s_i,t_j)$ is the traffic flow of the road section $s_i$ within the time interval $(t_0,t_j)$"
   ]
  },
  {
   "cell_type": "code",
   "execution_count": 43,
   "metadata": {},
   "outputs": [
    {
     "name": "stdout",
     "output_type": "stream",
     "text": [
      "torch.Size([32064, 472])\n",
      "32064 472\n"
     ]
    },
    {
     "data": {
      "text/plain": [
       "torch.Size([32064, 472])"
      ]
     },
     "execution_count": 43,
     "metadata": {},
     "output_type": "execute_result"
    }
   ],
   "source": [
    "mat_q = torch.tensor(int_det['Counts'].tolist()).T\n",
    "torch.save(mat_q, out_path('mat_q.pt'))\n",
    "assert mat_q.shape == (count_points_between(READ_START_DATE, READ_END_DATE), 2 * len(sections))\n",
    "mat_q.shape                                                         "
   ]
  }
 ],
 "metadata": {
  "kernelspec": {
   "display_name": ".idp",
   "language": "python",
   "name": "python3"
  },
  "language_info": {
   "codemirror_mode": {
    "name": "ipython",
    "version": 3
   },
   "file_extension": ".py",
   "mimetype": "text/x-python",
   "name": "python",
   "nbconvert_exporter": "python",
   "pygments_lexer": "ipython3",
   "version": "3.11.3"
  },
  "orig_nbformat": 4,
  "vscode": {
   "interpreter": {
    "hash": "912fb52f238e5d0393cd3cb39c1046be4cbf42cc336ebf4385af401bc969f2f7"
   }
  }
 },
 "nbformat": 4,
 "nbformat_minor": 2
}
